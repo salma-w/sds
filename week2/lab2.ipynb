{
 "cells": [
  {
   "cell_type": "markdown",
   "metadata": {},
   "source": [
    "# Lab 2: RAG\n",
    "\n",
    "## We will build and evaluate a Question Answering Expert for a fictional company: InsureLLM!"
   ]
  },
  {
   "cell_type": "markdown",
   "metadata": {},
   "source": [
    "### BEFORE WE BEGIN:\n",
    "\n",
    "Look at the knowledge-base - this is the company shared drive.\n",
    "\n",
    "### For those new to RAG:\n",
    "\n",
    "Does one of the Experts want to give an explanation?\n",
    "\n",
    "We will be figuring out ways to insert relevant background information in to the prompt..\n",
    "\n",
    "Today will be more intense - please ask me lots of questions and clarifications.."
   ]
  },
  {
   "cell_type": "markdown",
   "metadata": {},
   "source": []
  },
  {
   "cell_type": "code",
   "execution_count": 1,
   "metadata": {},
   "outputs": [],
   "source": [
    "import os\n",
    "import glob\n",
    "import tiktoken\n",
    "import numpy as np\n",
    "from IPython.display import Markdown, display\n",
    "\n",
    "from langchain_openai import ChatOpenAI,OpenAIEmbeddings\n",
    "from langchain_chroma import Chroma\n",
    "from langchain.chains import create_retrieval_chain\n",
    "from langchain.chains.combine_documents import create_stuff_documents_chain\n",
    "from langchain_core.prompts import ChatPromptTemplate\n",
    "from langchain_huggingface import HuggingFaceEmbeddings\n",
    "\n",
    "from langchain_community.document_loaders import DirectoryLoader, TextLoader\n",
    "from langchain.text_splitter import RecursiveCharacterTextSplitter\n",
    "\n",
    "#from langchain_experimental.text_splitter import SemanticChunker\n",
    "from sklearn.manifold import TSNE\n",
    "import plotly.graph_objects as go"
   ]
  },
  {
   "cell_type": "code",
   "execution_count": 2,
   "metadata": {},
   "outputs": [],
   "source": [
    "MODEL = \"gpt-4.1-nano\"\n",
    "db_name = \"vector_db\""
   ]
  },
  {
   "cell_type": "code",
   "execution_count": 14,
   "metadata": {},
   "outputs": [
    {
     "name": "stdout",
     "output_type": "stream",
     "text": [
      "Found 76 files in the knowledge base\n",
      "Total characters in knowledge base: 304,434\n"
     ]
    }
   ],
   "source": [
    "knowledge_base_path = \"knowledge-base/**/*.md\"\n",
    "files = glob.glob(knowledge_base_path, recursive=True)\n",
    "print(f\"Found {len(files)} files in the knowledge base\")\n",
    "\n",
    "entire_knowledge_base = \"\"\n",
    "\n",
    "for file_path in files:\n",
    "    with open(file_path, 'r', encoding='utf-8') as f:\n",
    "        entire_knowledge_base += f.read()\n",
    "        entire_knowledge_base += \"\\n\\n\"  # Add separator between files\n",
    "\n",
    "print(f\"Total characters in knowledge base: {len(entire_knowledge_base):,}\")"
   ]
  },
  {
   "cell_type": "code",
   "execution_count": 15,
   "metadata": {},
   "outputs": [
    {
     "name": "stdout",
     "output_type": "stream",
     "text": [
      "Total tokens for gpt-4.1-mini: 63,555\n"
     ]
    }
   ],
   "source": [
    "encoding = tiktoken.encoding_for_model(\"gpt-4.1-mini\")\n",
    "tokens = encoding.encode(entire_knowledge_base)\n",
    "token_count = len(tokens)\n",
    "print(f\"Total tokens for gpt-4.1-mini: {token_count:,}\")"
   ]
  },
  {
   "cell_type": "code",
   "execution_count": 16,
   "metadata": {},
   "outputs": [
    {
     "name": "stdout",
     "output_type": "stream",
     "text": [
      "Loaded 76 documents\n"
     ]
    }
   ],
   "source": [
    "folders = glob.glob(\"knowledge-base/*\")\n",
    "\n",
    "documents = []\n",
    "for folder in folders:\n",
    "    doc_type = os.path.basename(folder)\n",
    "    loader = DirectoryLoader(folder, glob=\"**/*.md\", loader_cls=TextLoader, loader_kwargs={'encoding': 'utf-8'})\n",
    "    folder_docs = loader.load()\n",
    "    for doc in folder_docs:\n",
    "        doc.metadata[\"doc_type\"] = doc_type\n",
    "        documents.append(doc)\n",
    "\n",
    "print(f\"Loaded {len(documents)} documents\")"
   ]
  },
  {
   "cell_type": "code",
   "execution_count": 17,
   "metadata": {},
   "outputs": [
    {
     "name": "stdout",
     "output_type": "stream",
     "text": [
      "Divided into 515 chunks\n"
     ]
    }
   ],
   "source": [
    "text_splitter = RecursiveCharacterTextSplitter(chunk_size=800, chunk_overlap=150, separators=[\"\\n\\n\", \"\\n\", \". \", \" \", \"\"])\n",
    "chunks = text_splitter.split_documents(documents)\n",
    "\n",
    "print(f\"Divided into {len(chunks)} chunks\")"
   ]
  },
  {
   "cell_type": "code",
   "execution_count": null,
   "metadata": {},
   "outputs": [],
   "source": [
    "#embeddings = HuggingFaceEmbeddings(model_name=\"all-MiniLM-L6-v2\")\n",
    "#text_splitter=SemanticChunker(embeddings=embeddings,breakpoint_threshold_type='percentile',breakpoint_threshold_amount=95)\n",
    "#chunks = text_splitter.split_documents(documents)\n",
    "\n",
    "#print(f\"Divided into {len(chunks)} chunks\")"
   ]
  },
  {
   "cell_type": "code",
   "execution_count": 45,
   "metadata": {},
   "outputs": [
    {
     "name": "stdout",
     "output_type": "stream",
     "text": [
      "Vectorstore created with 515 documents\n"
     ]
    }
   ],
   "source": [
    "embeddings = HuggingFaceEmbeddings(model_name=\"all-MiniLM-L6-v2\")\n",
    "# embeddings = OpenAIEmbeddings()\n",
    "\n",
    "if os.path.exists(db_name):\n",
    "    Chroma(persist_directory=db_name, embedding_function=embeddings).delete_collection()\n",
    "\n",
    "vectorstore = Chroma.from_documents(documents=chunks, embedding=embeddings, persist_directory=db_name)\n",
    "print(f\"Vectorstore created with {vectorstore._collection.count()} documents\")"
   ]
  },
  {
   "cell_type": "code",
   "execution_count": 43,
   "metadata": {},
   "outputs": [
    {
     "data": {
      "text/markdown": [
       "However, the company underwent a strategic restructuring in 2022-2023 to focus on profitability and sustainable growth. This included consolidating office locations, implementing a remote-first strategy, and streamlining operations. As of 2025, Insurellm operates with a lean, highly efficient team of 32 employees who have built a portfolio of 32 active contracts spanning all eight product lines. The company maintains its San Francisco headquarters along with small satellite offices in key markets including New York, Austin, Chicago, and Denver."
      ],
      "text/plain": [
       "<IPython.core.display.Markdown object>"
      ]
     },
     "metadata": {},
     "output_type": "display_data"
    }
   ],
   "source": [
    "display(Markdown(chunks[1].page_content))"
   ]
  },
  {
   "cell_type": "code",
   "execution_count": null,
   "metadata": {},
   "outputs": [],
   "source": [
    "collection = vectorstore._collection\n",
    "count = collection.count()\n",
    "\n",
    "sample_embedding = collection.get(limit=1, include=[\"embeddings\"])[\"embeddings\"][0]\n",
    "dimensions = len(sample_embedding)\n",
    "print(f\"There are {count:,} vectors with {dimensions:,} dimensions in the vector store\")"
   ]
  },
  {
   "cell_type": "code",
   "execution_count": 28,
   "metadata": {},
   "outputs": [],
   "source": [
    "# Gather the vectors, documents and metadata\n",
    "\n",
    "result = collection.get(include=['embeddings', 'documents', 'metadatas'])\n",
    "vectors = np.array(result['embeddings'])\n",
    "documents = result['documents']\n",
    "metadatas = result['metadatas']\n",
    "doc_types = [metadata['source'].split('\\\\')[1] for metadata in metadatas]\n",
    "colors = [['blue', 'green', 'red', 'orange'][['products', 'employees', 'contracts', 'company'].index(t)] for t in doc_types]"
   ]
  },
  {
   "cell_type": "code",
   "execution_count": 29,
   "metadata": {},
   "outputs": [
    {
     "data": {
      "application/vnd.plotly.v1+json": {
       "config": {
        "plotlyServerURL": "https://plot.ly"
       },
       "data": [
        {
         "hoverinfo": "text",
         "marker": {
          "color": [
           "orange",
           "orange",
           "orange",
           "orange",
           "orange",
           "orange",
           "orange",
           "orange",
           "orange",
           "orange",
           "orange",
           "orange",
           "orange",
           "orange",
           "orange",
           "orange",
           "orange",
           "orange",
           "orange",
           "orange",
           "orange",
           "orange",
           "orange",
           "orange",
           "red",
           "red",
           "red",
           "red",
           "red",
           "red",
           "red",
           "red",
           "red",
           "red",
           "red",
           "red",
           "red",
           "red",
           "red",
           "red",
           "red",
           "red",
           "red",
           "red",
           "red",
           "red",
           "red",
           "red",
           "red",
           "red",
           "red",
           "red",
           "red",
           "red",
           "red",
           "red",
           "red",
           "red",
           "red",
           "red",
           "red",
           "red",
           "red",
           "red",
           "red",
           "red",
           "red",
           "red",
           "red",
           "red",
           "red",
           "red",
           "red",
           "red",
           "red",
           "red",
           "red",
           "red",
           "red",
           "red",
           "red",
           "red",
           "red",
           "red",
           "red",
           "red",
           "red",
           "red",
           "red",
           "red",
           "red",
           "red",
           "red",
           "red",
           "red",
           "red",
           "red",
           "red",
           "red",
           "red",
           "red",
           "red",
           "red",
           "red",
           "red",
           "red",
           "red",
           "red",
           "red",
           "red",
           "red",
           "red",
           "red",
           "red",
           "red",
           "red",
           "red",
           "red",
           "red",
           "red",
           "red",
           "red",
           "red",
           "red",
           "red",
           "red",
           "red",
           "red",
           "red",
           "red",
           "red",
           "red",
           "red",
           "red",
           "red",
           "red",
           "red",
           "red",
           "red",
           "red",
           "red",
           "red",
           "red",
           "red",
           "red",
           "red",
           "red",
           "red",
           "red",
           "red",
           "red",
           "red",
           "red",
           "red",
           "red",
           "red",
           "red",
           "red",
           "red",
           "red",
           "red",
           "red",
           "red",
           "red",
           "red",
           "red",
           "red",
           "red",
           "red",
           "red",
           "red",
           "red",
           "red",
           "red",
           "red",
           "red",
           "red",
           "red",
           "red",
           "red",
           "red",
           "red",
           "red",
           "red",
           "red",
           "red",
           "red",
           "red",
           "red",
           "red",
           "red",
           "red",
           "red",
           "red",
           "red",
           "red",
           "red",
           "red",
           "red",
           "red",
           "red",
           "red",
           "red",
           "red",
           "red",
           "red",
           "red",
           "red",
           "red",
           "red",
           "red",
           "red",
           "red",
           "red",
           "red",
           "red",
           "red",
           "red",
           "red",
           "red",
           "red",
           "red",
           "red",
           "red",
           "red",
           "red",
           "red",
           "red",
           "red",
           "red",
           "red",
           "red",
           "red",
           "red",
           "red",
           "red",
           "red",
           "red",
           "red",
           "red",
           "red",
           "red",
           "red",
           "red",
           "red",
           "red",
           "red",
           "red",
           "red",
           "red",
           "red",
           "red",
           "red",
           "red",
           "red",
           "red",
           "red",
           "red",
           "red",
           "red",
           "red",
           "red",
           "red",
           "red",
           "red",
           "red",
           "red",
           "red",
           "red",
           "red",
           "red",
           "red",
           "red",
           "red",
           "red",
           "red",
           "red",
           "red",
           "red",
           "red",
           "red",
           "red",
           "red",
           "red",
           "red",
           "red",
           "red",
           "red",
           "red",
           "red",
           "red",
           "red",
           "red",
           "red",
           "red",
           "red",
           "red",
           "red",
           "red",
           "red",
           "red",
           "red",
           "red",
           "red",
           "red",
           "red",
           "red",
           "red",
           "red",
           "red",
           "red",
           "green",
           "green",
           "green",
           "green",
           "green",
           "green",
           "green",
           "green",
           "green",
           "green",
           "green",
           "green",
           "green",
           "green",
           "green",
           "green",
           "green",
           "green",
           "green",
           "green",
           "green",
           "green",
           "green",
           "green",
           "green",
           "green",
           "green",
           "green",
           "green",
           "green",
           "green",
           "green",
           "green",
           "green",
           "green",
           "green",
           "green",
           "green",
           "green",
           "green",
           "green",
           "green",
           "green",
           "green",
           "green",
           "green",
           "green",
           "green",
           "green",
           "green",
           "green",
           "green",
           "green",
           "green",
           "green",
           "green",
           "green",
           "green",
           "green",
           "green",
           "green",
           "green",
           "green",
           "green",
           "green",
           "green",
           "green",
           "green",
           "green",
           "green",
           "green",
           "green",
           "green",
           "green",
           "green",
           "green",
           "green",
           "green",
           "green",
           "green",
           "green",
           "green",
           "green",
           "green",
           "green",
           "green",
           "green",
           "green",
           "green",
           "green",
           "green",
           "green",
           "green",
           "green",
           "green",
           "green",
           "green",
           "green",
           "green",
           "green",
           "green",
           "green",
           "green",
           "green",
           "green",
           "green",
           "green",
           "green",
           "green",
           "green",
           "green",
           "green",
           "green",
           "green",
           "green",
           "green",
           "green",
           "green",
           "green",
           "green",
           "green",
           "green",
           "green",
           "green",
           "green",
           "green",
           "green",
           "green",
           "green",
           "green",
           "green",
           "green",
           "green",
           "green",
           "green",
           "green",
           "green",
           "green",
           "green",
           "green",
           "green",
           "green",
           "green",
           "green",
           "green",
           "green",
           "blue",
           "blue",
           "blue",
           "blue",
           "blue",
           "blue",
           "blue",
           "blue",
           "blue",
           "blue",
           "blue",
           "blue",
           "blue",
           "blue",
           "blue",
           "blue",
           "blue",
           "blue",
           "blue",
           "blue",
           "blue",
           "blue",
           "blue",
           "blue",
           "blue",
           "blue",
           "blue",
           "blue",
           "blue",
           "blue",
           "blue",
           "blue",
           "blue",
           "blue",
           "blue",
           "blue",
           "blue",
           "blue",
           "blue",
           "blue",
           "blue",
           "blue",
           "blue",
           "blue",
           "blue",
           "blue",
           "blue",
           "blue",
           "blue",
           "blue",
           "blue",
           "blue",
           "blue",
           "blue",
           "blue",
           "blue",
           "blue",
           "blue"
          ],
          "opacity": 0.8,
          "size": 5
         },
         "mode": "markers",
         "text": [
          "Type: company<br>Text: # About Insurellm\n\nInsurellm was founded by Avery Lancaster in 2015 as an insurance tech startup des...",
          "Type: company<br>Text: However, the company underwent a strategic restructuring in 2022-2023 to focus on profitability and ...",
          "Type: company<br>Text: Since the restructuring, Insurellm has continued to innovate, expanding its product suite to eight c...",
          "Type: company<br>Text: - **Bizllm** quickly gained traction with 7 commercial insurance contracts, including regional carri...",
          "Type: company<br>Text: # Careers at Insurellm\n\n## Why Join Insurellm?\n\nAt Insurellm, we're not just building software—we're...",
          "Type: company<br>Text: ### Our Culture\n\nWe live by our core values every day:\n- **Innovation First**: We encourage experime...",
          "Type: company<br>Text: ## Current Opportunities\n\n### Engineering\n\n**Senior Full Stack Engineer** - San Francisco, CA\n- Lead...",
          "Type: company<br>Text: **DevOps Engineer** - New York, NY\n- Manage cloud infrastructure (AWS/GCP)\n- Implement CI/CD pipelin...",
          "Type: company<br>Text: **Data Engineer** - Austin, TX\n- Design and maintain data pipelines\n- Build data warehousing solutio...",
          "Type: company<br>Text: **UX/UI Designer** - Remote\n- Design user experiences for our insurance platforms\n- Conduct user res...",
          "Type: company<br>Text: **Customer Success Manager** - San Francisco, CA / New York, NY\n- Ensure client satisfaction and ret...",
          "Type: company<br>Text: **HR Business Partner** - San Francisco, CA\n- Partner with leadership on people strategy\n- Support t...",
          "Type: company<br>Text: # Insurellm Culture\n\n## Vision Statement\nTo revolutionize the insurance industry through innovative ...",
          "Type: company<br>Text: ## Core Values\n\n### Innovation First\nWe challenge the status quo and embrace creative problem-solvin...",
          "Type: company<br>Text: ### Integrity & Transparency\nWe operate with honesty and openness in everything we do. From our prod...",
          "Type: company<br>Text: ## Employer Value Proposition\n\n**Build the Future of Insurance Technology with Elite Talent**\n\nAt In...",
          "Type: company<br>Text: - **Meaningful Impact**: Your work directly shapes products powering 32 active insurance operations,...",
          "Type: company<br>Text: - **Inclusive Environment**: A diverse team where every voice matters and different perspectives dri...",
          "Type: company<br>Text: Join us in disrupting an industry and building technology that matters....",
          "Type: company<br>Text: # Overview of Insurellm\n\nInsurellm is an innovative insurance tech firm with 32 employees operating ...",
          "Type: company<br>Text: ### Marketplace & Infrastructure\n- **Markellm** - Marketplace connecting consumers with insurance pr...",
          "Type: company<br>Text: ## Scale & Impact\n\nDespite its compact team size, Insurellm has built an impressive client portfolio...",
          "Type: company<br>Text: **Commercial Insurance (Bizllm)**: 7 contracts including regional carriers, multi-line insurers, and...",
          "Type: company<br>Text: **Home Insurance (Homellm)**: 4 contracts including property insurers with advanced IoT and catastro...",
          "Type: contracts<br>Text: # Contract with Advantage Medical Coverage for Healthllm\n\n**Contract Date:** April 18, 2025\n**Contra...",
          "Type: contracts<br>Text: 4. **Member Coverage**: Professional Tier supports up to 50,000 covered members. Advantage currently...",
          "Type: contracts<br>Text: ## Features\n\n1. **Included Features**: Advantage Medical Coverage will have access to Healthllm Prof...",
          "Type: contracts<br>Text: 2. **Value-Based Care Support:**\n   - ACO performance tracking and shared savings calculation\n   - H...",
          "Type: contracts<br>Text: ## Support\n\n1. **Customer Support**: Insurellm will provide priority support to Advantage Medical Co...",
          "Type: contracts<br>Text: 3. **System Updates**: Monthly platform enhancements and bi-weekly security patches. Maintenance win...",
          "Type: contracts<br>Text: **Advantage Medical Coverage**\nDr. Michael Ramirez, Chief Medical Officer\nDate: April 18, 2025\n\n---\n...",
          "Type: contracts<br>Text: # Contract with Apex Reinsurance for Rellm: AI-Powered Enterprise Reinsurance Solution\n\n## Terms\n\n1....",
          "Type: contracts<br>Text: 4. **Contract Duration**: This Agreement shall commence on [Start Date] and shall remain in effect f...",
          "Type: contracts<br>Text: ## Features\n\n1. **AI-Driven Analytics**: The Rellm platform will utilize AI algorithms to provide pr...",
          "Type: contracts<br>Text: 5. **Dedicated Client Portal**: A portal for the Client will facilitate real-time communication and ...",
          "Type: contracts<br>Text: 4. **Escalation Protocol**: Issues that cannot be resolved at the first level of support will be esc...",
          "Type: contracts<br>Text: # Contract with Atlantic Risk Solutions for Bizllm\n\n---\n\n## Terms...",
          "Type: contracts<br>Text: 1. **Agreement Effective Date**: This contract is effective as of January 15, 2025.\n2. **Duration**:...",
          "Type: contracts<br>Text: 5. **User Licenses**: Contract includes 35 named user licenses. Additional users may be added at $18...",
          "Type: contracts<br>Text: ---\n\n## Renewal\n\n1. **Automatic Renewal**: This agreement will automatically renew for an additional...",
          "Type: contracts<br>Text: 1. **Access to Professional Tier Features**: Atlantic Risk Solutions will have access to all Profess...",
          "Type: contracts<br>Text: - Professional Liability Specialization for E&O coverage\n   - Portfolio Management Dashboard with lo...",
          "Type: contracts<br>Text: 2. **Industry-Specific Templates**: Pre-configured underwriting templates for:\n   - Technology compa...",
          "Type: contracts<br>Text: ---\n\n## Support\n\n1. **Technical Support**: Atlantic Risk Solutions will receive priority technical s...",
          "Type: contracts<br>Text: 3. **Updates and Maintenance**:\n   - Quarterly platform updates with new features and security enhan...",
          "Type: contracts<br>Text: ---\n\n**Signatures:**\n\n_________________________________\n**Michael Torres**\n**Title**: Chief Revenue ...",
          "Type: contracts<br>Text: # Contract with Belvedere Insurance for Markellm\n\n## Terms\nThis Contract (\"Agreement\") is made and e...",
          "Type: contracts<br>Text: 1. **Service Commencement**: The services described herein will commence on [Start Date].\n2. **Contr...",
          "Type: contracts<br>Text: ## Renewal\n1. **Renewal Terms**: This Agreement may be renewed for additional one-year terms upon mu...",
          "Type: contracts<br>Text: ## Features\n1. **AI-Powered Matching**: Belvedere Insurance will benefit from Markellm's AI-powered ...",
          "Type: contracts<br>Text: ## Support\n1. **Technical Support**: Technical support will be available from 9 AM to 7 PM EST, Mond...",
          "Type: contracts<br>Text: **Insurellm, Inc.**  \nSignature: ______________________  \nName: [Authorized Signatory]  \nTitle: [Tit...",
          "Type: contracts<br>Text: # Contract with BrightWay Solutions for Markellm\n\n**Contract Date:** October 5, 2023  \n**Contract ID...",
          "Type: contracts<br>Text: 3. **Service Level Agreement (SLA):**  \n   Insurellm commits to a 99.9% uptime for the platform with...",
          "Type: contracts<br>Text: ### Features\n1. **Access to AI-Powered Matching:**  \n   BrightWay Solutions will benefit from the AI...",
          "Type: contracts<br>Text: ### Support\n1. **Dedicated Customer Support:**  \n   BrightWay Solutions will have access to a dedica...",
          "Type: contracts<br>Text: ### Signatures\nBy signing below, both parties agree to the terms and conditions outlined in this Con...",
          "Type: contracts<br>Text: # Contract with ConnectInsure Agency for Markellm\n\n**Contract Date:** February 28, 2025\n**Contract N...",
          "Type: contracts<br>Text: 3. **Contract Duration**: This Agreement shall remain in effect for 18 months from the commencement ...",
          "Type: contracts<br>Text: 6. **Payment Terms**:\n   - Monthly listing fee due on the 1st of each month\n   - Performance-based f...",
          "Type: contracts<br>Text: ## Renewal\n\n1. **Automatic Renewal**: This agreement automatically renews for successive 6-month ter...",
          "Type: contracts<br>Text: 2. **Featured Listing**: Premium marketplace placement including:\n   - Enhanced agency profile with ...",
          "Type: contracts<br>Text: 4. **Lead Management Portal**: Comprehensive tools for:\n   - Real-time lead notifications (SMS, emai...",
          "Type: contracts<br>Text: 6. **Consumer Reviews**: Reputation management:\n   - Consumer rating and review collection\n   - Resp...",
          "Type: contracts<br>Text: 2. **Onboarding**: Implementation includes:\n   - 2-week onboarding process\n   - Platform training fo...",
          "Type: contracts<br>Text: 5. **Marketing Assistance**:\n   - Quarterly marketing strategy consultations\n   - Campaign performan...",
          "Type: contracts<br>Text: # Contract with Continental Commercial Group for Bizllm\n\n**Contract Date:** April 12, 2025\n**Contrac...",
          "Type: contracts<br>Text: 3. **Payment:** Continental Commercial Group shall pay custom Enterprise pricing of $42,000 per mont...",
          "Type: contracts<br>Text: 6. **Service Level Agreement (SLA):** Insurellm guarantees 99.9% platform uptime, measured monthly. ...",
          "Type: contracts<br>Text: ---\n\n## Features\n\nContinental Commercial Group will receive the complete Bizllm Enterprise suite:\n\n1...",
          "Type: contracts<br>Text: 4. **Advanced Cyber Risk Module:** Comprehensive cyber insurance underwriting tools including:\n   - ...",
          "Type: contracts<br>Text: 6. **Predictive Analytics Engine:** Machine learning models for:\n   - Loss forecasting and reserve a...",
          "Type: contracts<br>Text: ---\n\n## Support\n\nInsurellm commits to comprehensive Enterprise-level support:\n\n1. **Dedicated Succes...",
          "Type: contracts<br>Text: 3. **Implementation and Onboarding:**\n   - 6-month implementation program with dedicated project man...",
          "Type: contracts<br>Text: 6. **Performance Optimization:**\n   - Monthly platform performance reviews\n   - Proactive capacity p...",
          "Type: contracts<br>Text: ---\n\nThis agreement represents a strategic partnership between Insurellm and Continental Commercial ...",
          "Type: contracts<br>Text: # Contract with DriveSmart Insurance for Carllm\n\n**Contract Date:** March 20, 2025\n**Contract Number...",
          "Type: contracts<br>Text: 2. **Duration:** This agreement is effective for a period of 36 months from the contract date.\n\n3. *...",
          "Type: contracts<br>Text: 6. **Confidentiality:** Both parties agree to maintain strict confidentiality of proprietary algorit...",
          "Type: contracts<br>Text: 1. **Unlimited Policy Administration:** Full support for DriveSmart's 85,000+ policies with scalabil...",
          "Type: contracts<br>Text: 3. **Advanced AI Risk Assessment:** Enterprise-grade risk analysis:\n   - Real-time driver behavior a...",
          "Type: contracts<br>Text: 4. **Instant Quoting Engine:** High-performance quoting:\n   - Sub-3-second quote generation\n   - Rea...",
          "Type: contracts<br>Text: 6. **Advanced Fraud Detection:** Comprehensive fraud prevention:\n   - Application fraud detection (i...",
          "Type: contracts<br>Text: 8. **Telematics Integration:** Complete telematics platform:\n   - Device-agnostic integration (OBD-I...",
          "Type: contracts<br>Text: 10. **Multi-State Operations:** Comprehensive state support:\n    - State-specific forms and endorsem...",
          "Type: contracts<br>Text: 2. **24/7/365 Support:**\n   - 30-minute response time for P1 critical issues\n   - 2-hour response fo...",
          "Type: contracts<br>Text: 4. **Training and Enablement:**\n   - Role-based training for all users\n   - Train-the-trainer progra...",
          "Type: contracts<br>Text: 6. **Integration Services:**\n   - Integration with DriveSmart's systems:\n     - Duck Creek policy ad...",
          "Type: contracts<br>Text: 8. **Continuous Improvement:**\n   - Quarterly optimization workshops\n   - Annual efficiency audits\n ...",
          "Type: contracts<br>Text: # Contract with Evergreen Life Insurance for Lifellm\n\n**Contract Date:** January 20, 2025\n**Contract...",
          "Type: contracts<br>Text: 3. **Payment:** Evergreen Life Insurance shall pay a monthly fee of $3,500, due by the 5th of every ...",
          "Type: contracts<br>Text: 7. **Liability:** Insurellm's liability is limited to direct damages not exceeding the total fees pa...",
          "Type: contracts<br>Text: ---\n\n## Features\n\nEvergreen Life Insurance will receive the following Starter Tier features:\n\n1. **A...",
          "Type: contracts<br>Text: 3. **Automated Policy Management:**\n   - Digital policy issuance and delivery\n   - Beneficiary manag...",
          "Type: contracts<br>Text: 6. **Regulatory Compliance:** Built-in compliance monitoring for:\n   - State insurance regulations\n ...",
          "Type: contracts<br>Text: 2. **Technical Support:**\n   - Email and phone support Monday-Friday 8 AM - 6 PM EST\n   - Response t...",
          "Type: contracts<br>Text: 5. **Compliance Support:**\n   - Annual compliance review and audit support\n   - Regulatory update no...",
          "Type: contracts<br>Text: # Contract with EverGuard Insurance for Rellm: AI-Powered Enterprise Reinsurance Solution\n\n**Contrac...",
          "Type: contracts<br>Text: 3. **Payment Terms**: EverGuard Insurance agrees to pay Insurellm a monthly fee of $10,000 for the d...",
          "Type: contracts<br>Text: 2. **Price Adjustment**: In the event of a renewal, Insurellm reserves the right to adjust the month...",
          "Type: contracts<br>Text: 4. **Client Portal Access**: EverGuard Insurance will have access to both client and broker portals,...",
          "Type: contracts<br>Text: 3. **Updates and Upgrades**: EverGuard Insurance will receive all platform updates and upgrades at n...",
          "Type: contracts<br>Text: --- \n\nThis contract seeks to foster a strong partnership between Insurellm and EverGuard Insurance, ...",
          "Type: contracts<br>Text: # Contract with FastTrack Insurance Services for Claimllm\n\n**Contract Date:** May 10, 2025\n**Contrac...",
          "Type: contracts<br>Text: 4. **Claims Volume**: Advanced Tier supports up to 25,000 claims annually. FastTrack projects 22,000...",
          "Type: contracts<br>Text: 2. **Pricing Review**: Renewal pricing will be discussed 60 days prior to term end. Price increases ...",
          "Type: contracts<br>Text: 2. **Integration Capabilities**: API integration with FastTrack's existing claims systems (Guidewire...",
          "Type: contracts<br>Text: 3. **System Updates**: Regular platform enhancements pushed monthly with advance notification. Maint...",
          "Type: contracts<br>Text: # Contract with Fortress Business Underwriters for Bizllm\n\n---\n\n## Terms...",
          "Type: contracts<br>Text: 1. **Agreement Effective Date**: This contract is effective as of February 1, 2025.\n2. **Duration**:...",
          "Type: contracts<br>Text: 6. **Termination Clause**: Either party may terminate this agreement with 60 days' written notice pr...",
          "Type: contracts<br>Text: ---\n\n## Renewal\n\n1. **Automatic Renewal**: This agreement will automatically renew for an additional...",
          "Type: contracts<br>Text: ---\n\n## Features\n\n1. **Access to Professional Tier Features**: Fortress Business Underwriters will h...",
          "Type: contracts<br>Text: 2. **Advanced Analytics**: Access to enhanced reporting capabilities including loss ratio analysis, ...",
          "Type: contracts<br>Text: ---\n\n## Support\n\n1. **Technical Support**: Fortress Business Underwriters will receive priority tech...",
          "Type: contracts<br>Text: 3. **Updates and Maintenance**:\n   - Monthly platform updates with new features and enhancements\n   ...",
          "Type: contracts<br>Text: _________________________________\n**Michael Torres**\n**Title**: Chief Revenue Officer\n**Insurellm, I...",
          "Type: contracts<br>Text: # Contract with GlobalRe Partners for Rellm - AI-Powered Enterprise Reinsurance Solution\n\n**Contract...",
          "Type: contracts<br>Text: 3. **Payment:** GlobalRe Partners shall pay custom Enterprise Tier pricing of $45,000 per month for ...",
          "Type: contracts<br>Text: 6. **Confidentiality:** Both parties agree to maintain the highest level of confidentiality regardin...",
          "Type: contracts<br>Text: ---\n\n## Renewal\n\nThis agreement includes a mutual 120-day renewal notice period. GlobalRe Partners r...",
          "Type: contracts<br>Text: 2. **White-Label Platform:** Complete branding customization:\n   - Custom domains (portal.globalrepa...",
          "Type: contracts<br>Text: 3. **Advanced AI-Driven Analytics:** Enterprise-grade reinsurance analytics:\n   - Predictive risk mo...",
          "Type: contracts<br>Text: 4. **Comprehensive Risk Assessment Module:** State-of-the-art risk evaluation:\n   - Cedent financial...",
          "Type: contracts<br>Text: 5. **Catastrophe Modeling Integration:** Best-in-class CAT modeling:\n   - Integration with all major...",
          "Type: contracts<br>Text: 6. **Treaty Administration:** Complete treaty lifecycle management:\n   - Treaty structuring and quot...",
          "Type: contracts<br>Text: 7. **Facultative Reinsurance Platform:** Comprehensive fac management:\n   - Digital submission intak...",
          "Type: contracts<br>Text: 8. **Customizable Dashboard:** Enterprise-grade analytics:\n   - Real-time portfolio performance metr...",
          "Type: contracts<br>Text: 9. **Regulatory Compliance Tools:** Global compliance support:\n   - Multi-jurisdiction regulatory re...",
          "Type: contracts<br>Text: 10. **Client and Broker Portals:** Stakeholder engagement platforms:\n    - Cedent portal for submiss...",
          "Type: contracts<br>Text: 11. **Complete API Access:** Unlimited API integration:\n    - Real-time integration with GlobalRe's ...",
          "Type: contracts<br>Text: 13. **Climate Risk Analytics:** Forward-looking climate modeling:\n    - IPCC climate scenario analys...",
          "Type: contracts<br>Text: ---\n\n## Support\n\nInsurellm commits to comprehensive Enterprise-level support for GlobalRe Partners:\n...",
          "Type: contracts<br>Text: 2. **24/7/365 Premium Support:**\n   - Guaranteed 10-minute response for P1 critical issues (during c...",
          "Type: contracts<br>Text: 3. **Comprehensive Implementation:**\n   - 18-month phased implementation program with 5 major releas...",
          "Type: contracts<br>Text: 4. **Training and Enablement:**\n   - Comprehensive role-based training (underwriters, actuaries, acc...",
          "Type: contracts<br>Text: 5. **Custom Development:**\n   - 4,000 hours annually of custom development included\n   - Dedicated d...",
          "Type: contracts<br>Text: 6. **Integration Services:**\n   - Enterprise integration with GlobalRe's complex ecosystem:\n     - S...",
          "Type: contracts<br>Text: 7. **Analytics and Reporting:**\n   - Custom dashboard development (unlimited)\n   - Real-time operati...",
          "Type: contracts<br>Text: 8. **Catastrophe Response:**\n   - Dedicated CAT war room activation during major events\n   - Real-ti...",
          "Type: contracts<br>Text: 10. **Continuous Improvement:**\n    - Monthly process optimization sessions\n    - Quarterly efficien...",
          "Type: contracts<br>Text: ---\n\n**Signatures:**\n\n_________________________________\n**Jennifer Rodriguez**\n**Title**: Chief Exec...",
          "Type: contracts<br>Text: # Contract with GreenField Holdings for Markellm\n\n**Effective Date:** November 15, 2023  \n**Contract...",
          "Type: contracts<br>Text: ## Renewal\n1. **Automatic Renewal**: This contract will automatically renew for sequential one-year ...",
          "Type: contracts<br>Text: ## Features\n1. **AI-Powered Matching**: Access to advanced algorithms that connect GreenField Holdin...",
          "Type: contracts<br>Text: ## Support\n1. **Customer Support Access**: The Client will have access to dedicated support through ...",
          "Type: contracts<br>Text: ## Pricing\n- **Basic Listing Fee**: GreenField Holdings agrees to pay a monthly fee of $199 for a fe...",
          "Type: contracts<br>Text: # Contract with Greenstone Insurance for Homellm\n\n---\n\n## Terms\n\n1. **Parties**: This Contract (\"Agr...",
          "Type: contracts<br>Text: 4. **Payment Terms**: \n   - The Customer shall pay an amount of $10,000 per month for the Standard T...",
          "Type: contracts<br>Text: ---\n\n## Features\n\n- **AI-Powered Risk Assessment**: Customer will have access to enhanced risk evalu...",
          "Type: contracts<br>Text: - **Multi-Channel Integration**: Homellm will integrate with the Customer's existing platforms to cr...",
          "Type: contracts<br>Text: --- \n\n**AGREEMENT SIGNATURES**\n\nBy signing below, the parties acknowledge their acceptance of the te...",
          "Type: contracts<br>Text: # Contract with GreenValley Insurance for Homellm\n\n**Contract Date:** October 6, 2023  \n**Contract N...",
          "Type: contracts<br>Text: 3. **Payment:** GreenValley Insurance shall pay a monthly fee of $10,000, due by the 5th of every mo...",
          "Type: contracts<br>Text: ---\n\n## Features\n\nGreenValley Insurance will receive the following features with Homellm:\n\n1. **AI-P...",
          "Type: contracts<br>Text: 6. **Customer Portal:** A user-friendly portal for their customers for policy and claims management....",
          "Type: contracts<br>Text: ---\n\n**Signatures:**\n\n_________________________________  \n**[Name]**  \n**Title**: CEO  \n**Insurellm,...",
          "Type: contracts<br>Text: # Contract with Guardian Life Partners for Lifellm\n\n---\n\n## Terms...",
          "Type: contracts<br>Text: 1. **Agreement Effective Date**: This contract is effective as of March 1, 2025.\n2. **Duration**: Th...",
          "Type: contracts<br>Text: 6. **User Licenses**: Contract includes 25 named user licenses (underwriters, administrators, agents...",
          "Type: contracts<br>Text: ---\n\n## Renewal\n\n1. **Automatic Renewal**: This agreement will automatically renew for an additional...",
          "Type: contracts<br>Text: ---\n\n## Features\n\n1. **Access to Growth Tier Features**: Guardian Life Partners will have comprehens...",
          "Type: contracts<br>Text: 2. **Digital Health Features:**\n   - Wearable device integration for wellness programs\n   - Activity...",
          "Type: contracts<br>Text: 4. **Agent Portal:**\n   - Agent-facing tools for 200+ independent agents\n   - Real-time application ...",
          "Type: contracts<br>Text: 2. **Training**: Comprehensive training program:\n   - Initial onboarding (4 weeks) for up to 20 staf...",
          "Type: contracts<br>Text: 4. **Account Management**:\n   - Named Customer Success Manager with bi-weekly check-ins\n   - Quarter...",
          "Type: contracts<br>Text: 6. **Wellness Program Support:**\n   - Assistance designing wellness initiatives\n   - Health program ...",
          "Type: contracts<br>Text: # Contract with Harmony Health Plans for Healthllm\n\n---\n\n## Terms...",
          "Type: contracts<br>Text: 1. **Agreement Effective Date**: This contract is effective as of January 25, 2025.\n2. **Duration**:...",
          "Type: contracts<br>Text: 6. **User Licenses**: Contract includes 60 named user licenses. Additional licenses available at $15...",
          "Type: contracts<br>Text: ---\n\n## Renewal\n\n1. **Automatic Renewal**: This agreement will automatically renew for an additional...",
          "Type: contracts<br>Text: ---\n\n## Features\n\n1. **Access to Professional Tier Features**: Harmony Health Plans will have compre...",
          "Type: contracts<br>Text: 2. **Predictive Healthcare Analytics:**\n   - High-risk member identification for care management\n   ...",
          "Type: contracts<br>Text: 3. **Advanced Medication Management:**\n   - Complete formulary management and tier optimization\n   -...",
          "Type: contracts<br>Text: 5. **Care Management Platform:**\n   - Case management workflows for high-cost members\n   - Disease m...",
          "Type: contracts<br>Text: 2. **Training**: Comprehensive training program:\n   - 6-week implementation with dedicated project m...",
          "Type: contracts<br>Text: 3. **Updates and Maintenance**:\n   - Monthly platform updates with new features and enhancements\n   ...",
          "Type: contracts<br>Text: 5. **Integration Support**: Comprehensive integration assistance:\n   - Integration with Harmony's co...",
          "Type: contracts<br>Text: 6. **Analytics and Reporting:**\n   - Custom dashboard development (up to 10 dashboards)\n   - Automat...",
          "Type: contracts<br>Text: ---\n\n**Signatures:**\n\n_________________________________\n**Sarah Chen**\n**Title**: Vice President of ...",
          "Type: contracts<br>Text: # Contract with Heritage Life Assurance for Lifellm\n\n**Contract Date:** February 12, 2025\n**Contract...",
          "Type: contracts<br>Text: 4. **Policy Volume**: Growth Tier supports up to 10,000 active policies. Heritage currently administ...",
          "Type: contracts<br>Text: 2. **Predictive Risk Modeling**: Advanced analytics considering:\n   - Comprehensive medical historie...",
          "Type: contracts<br>Text: 5. **Customer Portal**: Policyholder self-service including:\n   - 24/7 policy access\n   - Digital in...",
          "Type: contracts<br>Text: 3. **Updates**: Monthly platform enhancements and security patches. Maintenance windows: Sunday 1 AM...",
          "Type: contracts<br>Text: # Contract with Metropolitan Life Group for Lifellm\n\n**Contract Date:** April 5, 2025\n**Contract Num...",
          "Type: contracts<br>Text: 2. **Duration:** This agreement is effective for a period of 36 months from the contract date, repre...",
          "Type: contracts<br>Text: 6. **Data Security:** Insurellm commits to maintaining HIPAA compliance, SOC 2 Type II certification...",
          "Type: contracts<br>Text: 2. **White-Label Platform:** Complete branding customization:\n   - Custom domains (life.metropolitan...",
          "Type: contracts<br>Text: 4. **Comprehensive Digital Health Integration:**\n   - Wearable integrations: Apple Watch, Fitbit, Ga...",
          "Type: contracts<br>Text: 6. **Predictive Analytics Suite:**\n   - Lapse and persistency prediction modeling\n   - Cross-sell an...",
          "Type: contracts<br>Text: 8. **Agent Network Platform:**\n   - Support for 5,000+ independent agents and career agents\n   - Hie...",
          "Type: contracts<br>Text: 10. **Blockchain Policy Verification:**\n   - Immutable policy records on private blockchain\n   - Fra...",
          "Type: contracts<br>Text: 2. **24/7/365 Premium Support:**\n   - Guaranteed 15-minute response for P1 critical issues\n   - 1-ho...",
          "Type: contracts<br>Text: 4. **Training and Enablement:**\n   - Comprehensive training programs for all roles\n   - Executive br...",
          "Type: contracts<br>Text: 6. **Integration Services:**\n   - Enterprise integration with Metropolitan's systems:\n     - iPipeli...",
          "Type: contracts<br>Text: 7. **Analytics and Reporting:**\n   - Custom executive dashboard development (unlimited)\n   - Real-ti...",
          "Type: contracts<br>Text: ---\n\n**Signatures:**\n\n_________________________________\n**Jennifer Rodriguez**\n**Title**: Chief Exec...",
          "Type: contracts<br>Text: # Contract with National Claims Network for Claimllm\n\n**Contract Date:** April 20, 2025\n**Contract N...",
          "Type: contracts<br>Text: 3. **Payment:** National Claims Network shall pay custom Enterprise Tier pricing of $35,000 per mont...",
          "Type: contracts<br>Text: 7. **Business Continuity:** Insurellm provides disaster recovery with 4-hour RTO (Recovery Time Obje...",
          "Type: contracts<br>Text: 2. **White-Label Platform:** Complete branding customization including:\n   - Custom domain names (cl...",
          "Type: contracts<br>Text: 4. **Enterprise Fraud Analytics:**\n   - Real-time fraud scoring on all claims\n   - Social network an...",
          "Type: contracts<br>Text: 6. **AI-Powered Litigation Prediction:** Predictive analytics identifying claims with high litigatio...",
          "Type: contracts<br>Text: 8. **Advanced Vendor Management:**\n   - Network of 5,000+ preferred vendors nationwide\n   - AI-power...",
          "Type: contracts<br>Text: ---\n\n## Support\n\nInsurellm commits to comprehensive Enterprise-level support for National Claims Net...",
          "Type: contracts<br>Text: 3. **Comprehensive Implementation:**\n   - 9-month phased implementation program\n   - Dedicated proje...",
          "Type: contracts<br>Text: 5. **Custom Development:**\n   - 1,000 hours annually of custom development included\n   - Dedicated d...",
          "Type: contracts<br>Text: 7. **Analytics and Reporting:**\n   - Custom executive dashboard development\n   - Real-time operation...",
          "Type: contracts<br>Text: _________________________________\n**Jennifer Rodriguez**\n**Title**: Chief Executive Officer\n**Insure...",
          "Type: contracts<br>Text: # Contract with Pinnacle Insurance Co. for Homellm\n\n## Terms\nThis contract (\"Contract\") is entered i...",
          "Type: contracts<br>Text: 1. **License Grant**: Insurellm hereby grants the Client a non-exclusive, non-transferable license t...",
          "Type: contracts<br>Text: ## Renewal\n1. **Renewal Terms**: At the end of the initial term, this Contract shall automatically r...",
          "Type: contracts<br>Text: ## Features\n1. **AI-Powered Risk Assessment**: Utilized for tailored underwriting decisions specific...",
          "Type: contracts<br>Text: 5. **Multi-Channel Integration**: Seamless access to customer data through existing systems in Pinna...",
          "Type: contracts<br>Text: ## Support\n1. **Technical Support**: Insurellm shall provide 24/7 technical support via an email and...",
          "Type: contracts<br>Text: ____  \n**Insurellm Authorized Signature**  \nName: Sarah Johnson  \nTitle: VP of Sales  \nDate: _______...",
          "Type: contracts<br>Text: # Contract with Premier Adjusters Inc. for Claimllm\n\n---\n\n## Terms...",
          "Type: contracts<br>Text: 1. **Agreement Effective Date**: This contract is effective as of February 15, 2025.\n2. **Duration**...",
          "Type: contracts<br>Text: 5. **Payment Terms**: Payments are due on the 5th of each month via wire transfer. Late payments wil...",
          "Type: contracts<br>Text: ---\n\n## Renewal\n\n1. **Automatic Renewal**: This agreement will automatically renew for an additional...",
          "Type: contracts<br>Text: 1. **Access to Advanced Tier Features**: Premier Adjusters Inc. will have access to comprehensive cl...",
          "Type: contracts<br>Text: - Payment Automation for approved claims with multi-party splitting\n   - Claimant Communication Hub ...",
          "Type: contracts<br>Text: 2. **Computer Vision Capabilities:**\n   - Automated vehicle damage assessment from photos (dents, sc...",
          "Type: contracts<br>Text: 4. **Vendor Network:**\n   - Support for 200+ preferred vendors (repair shops, medical providers, att...",
          "Type: contracts<br>Text: 2. **Training**: Comprehensive training program:\n   - 4-week implementation with on-site support (fi...",
          "Type: contracts<br>Text: 4. **Account Management**:\n   - Named Customer Success Manager with weekly check-ins (first 90 days)...",
          "Type: contracts<br>Text: 6. **Data and Analytics:**\n   - Custom dashboard development (up to 5 dashboards)\n   - Monthly data ...",
          "Type: contracts<br>Text: # Contract with Rapid Claims Associates for Claimllm\n\n**Contract Date:** March 1, 2025\n**Contract Nu...",
          "Type: contracts<br>Text: 4. **Overage Fees:** If claims volume exceeds 5,000 annually, overage fees of $0.90 per claim apply,...",
          "Type: contracts<br>Text: 7. **Liability:** Insurellm's liability is limited to direct damages not exceeding total fees paid i...",
          "Type: contracts<br>Text: 2. **Automated Triage and Routing:** Machine learning algorithms assess claim severity and complexit...",
          "Type: contracts<br>Text: 5. **Claimant Communication Hub:** Automated status updates via:\n   - SMS text messages\n   - Email n...",
          "Type: contracts<br>Text: ---\n\n## Support\n\nInsurellm commits to providing comprehensive support to Rapid Claims Associates:\n\n1...",
          "Type: contracts<br>Text: 3. **Platform Updates:**\n   - Quarterly feature releases with new capabilities\n   - Monthly security...",
          "Type: contracts<br>Text: ---\n\n**Signatures:**\n\n_________________________________\n**Sarah Chen**\n**Title**: Vice President of ...",
          "Type: contracts<br>Text: # Contract with Roadway Insurance Inc. for Carllm\n\n---\n\n## Terms\n\n1. **Agreement Effective Date**: T...",
          "Type: contracts<br>Text: ---\n\n## Renewal\n\n1. **Automatic Renewal**: This agreement will automatically renew for an additional...",
          "Type: contracts<br>Text: ---\n\n## Features\n\n1. **Access to Core Features**: Roadway Insurance Inc. will have access to all Pro...",
          "Type: contracts<br>Text: ---\n\n## Support\n\n1. **Technical Support**: Roadway Insurance Inc. will receive priority technical su...",
          "Type: contracts<br>Text: # Contract with SafeHaven Property Insurance for Homellm\n\n**Contract Date:** May 3, 2025\n**Contract ...",
          "Type: contracts<br>Text: 2. **Duration:** This agreement is effective for a period of 36 months from the contract date.\n\n3. *...",
          "Type: contracts<br>Text: 6. **Confidentiality:** Both parties agree to maintain strict confidentiality of proprietary algorit...",
          "Type: contracts<br>Text: 1. **Unlimited Policy Administration:** Full support for SafeHaven's 45,000+ policies with scalabili...",
          "Type: contracts<br>Text: 3. **Advanced AI Risk Assessment:** Enterprise-grade property risk analysis:\n   - Aerial imagery ana...",
          "Type: contracts<br>Text: 4. **Dynamic Pricing Model:** Sophisticated pricing engine:\n   - Real-time rate optimization across ...",
          "Type: contracts<br>Text: 6. **Predictive Maintenance Alerts:** IoT-powered risk prevention:\n   - Integration with smart home ...",
          "Type: contracts<br>Text: 8. **Customer Portal:** Comprehensive self-service:\n   - 24/7 policy access and document retrieval\n ...",
          "Type: contracts<br>Text: 10. **Complete API Access:** Unlimited API calls:\n    - Integration with SafeHaven's core systems\n  ...",
          "Type: contracts<br>Text: 12. **Catastrophe Management:** Disaster response tools:\n    - Pre-CAT modeling and exposure managem...",
          "Type: contracts<br>Text: 2. **24/7/365 Premium Support:**\n   - 20-minute response time for P1 critical issues\n   - 1-hour res...",
          "Type: contracts<br>Text: 4. **Training and Enablement:**\n   - Comprehensive role-based training programs\n   - Underwriter cer...",
          "Type: contracts<br>Text: 5. **Custom Development:**\n   - 1,200 hours annually of custom development\n   - Dedicated developmen...",
          "Type: contracts<br>Text: 6. **Integration Services:**\n   - Enterprise integration with SafeHaven's systems:\n     - Duck Creek...",
          "Type: contracts<br>Text: 7. **Analytics and Reporting:**\n   - Custom dashboard development (up to 20 dashboards)\n   - Real-ti...",
          "Type: contracts<br>Text: 9. **Catastrophe Response:**\n   - Dedicated CAT support during disaster events\n   - Pre-CAT system p...",
          "Type: contracts<br>Text: _________________________________\n**Jennifer Rodriguez**\n**Title**: Chief Executive Officer\n**Insure...",
          "Type: contracts<br>Text: # Contract with Stellar Insurance Co. for Rellm\n\n## Terms\nThis contract is made between **Insurellm*...",
          "Type: contracts<br>Text: ### Payment Terms\nStellar Insurance Co. agrees to pay Insurellm a monthly subscription fee of **$10,...",
          "Type: contracts<br>Text: ## Features\nStellar Insurance Co. will receive access to the following features of the Rellm product...",
          "Type: contracts<br>Text: ## Support\nInsurellm provides Stellar Insurance Co. with the following support services:\n\n- **24/7 T...",
          "Type: contracts<br>Text: **For Insurellm**  \n______________________________  \n[Signature]  \n[Name, Title]  \n[Date]  \n\n**For S...",
          "Type: contracts<br>Text: # Contract with Summit Commercial Insurance for Bizllm\n\n**Contract Date:** March 15, 2025\n**Contract...",
          "Type: contracts<br>Text: 3. **Payment:** Summit Commercial Insurance shall pay a monthly fee of $6,000, due by the 1st of eve...",
          "Type: contracts<br>Text: ---\n\n## Renewal\n\nUnless either party provides a written notice of termination at least 45 days prior...",
          "Type: contracts<br>Text: 3. **Commercial Property Evaluation:** Advanced property risk modeling incorporating location data, ...",
          "Type: contracts<br>Text: ---\n\n## Support\n\nInsurellm commits to providing comprehensive support to Summit Commercial Insurance...",
          "Type: contracts<br>Text: 4. **Integration Assistance:** Technical support for integrating Bizllm with Summit's existing polic...",
          "Type: contracts<br>Text: # Contract with TechDrive Insurance for Carllm\n\n**Contract Date:** October 1, 2024  \n**Contract Dura...",
          "Type: contracts<br>Text: **Contract Date:** October 1, 2024  \n**Contract Duration:** 12 months\n\n---\n\n## Terms\n\n1. **Parties I...",
          "Type: contracts<br>Text: ## Renewal\n\n1. **Automatic Renewal**: This contract shall automatically renew for additional one-yea...",
          "Type: contracts<br>Text: 2. **System Requirements**: TechDrive Insurance must ensure that their existing systems meet the tec...",
          "Type: contracts<br>Text: 3. **System Updates**: The Provider will push regular updates to improve system performance and add ...",
          "Type: contracts<br>Text: # Contract with United Healthcare Alliance for Healthllm\n\n**Contract Date:** May 15, 2025\n**Contract...",
          "Type: contracts<br>Text: 3. **Payment:** United Healthcare Alliance shall pay custom Enterprise Tier pricing of $52,000 per m...",
          "Type: contracts<br>Text: 6. **Security and Compliance:** Insurellm commits to maintaining HIPAA compliance, HITRUST certifica...",
          "Type: contracts<br>Text: ---\n\n## Features\n\nUnited Healthcare Alliance will receive the complete Healthllm Enterprise suite wi...",
          "Type: contracts<br>Text: 3. **White-Label Platform:** Complete branding customization:\n   - Custom domains (members.unitedhea...",
          "Type: contracts<br>Text: 5. **Population Health Management:** Comprehensive analytics for value-based care:\n   - Real-time ri...",
          "Type: contracts<br>Text: 6. **Complete API Access:** Unlimited API calls supporting:\n   - Real-time integration with United's...",
          "Type: contracts<br>Text: 7. **Advanced Provider Network Management:**\n   - Credentialing and re-credentialing for 15,000+ pro...",
          "Type: contracts<br>Text: 8. **Comprehensive Medication Management:**\n   - Multi-tier formulary management (national and state...",
          "Type: contracts<br>Text: 9. **Member Engagement Suite:**\n   - Omnichannel communication platform (SMS, email, push, voice)\n  ...",
          "Type: contracts<br>Text: 10. **Quality and Performance Management:**\n    - HEDIS measure calculation and reporting\n    - STAR...",
          "Type: contracts<br>Text: 11. **Advanced Analytics and Business Intelligence:**\n    - Real-time operational dashboards for all...",
          "Type: contracts<br>Text: 12. **Regulatory Compliance and Reporting:**\n    - ACA compliance monitoring (MLR, essential health ...",
          "Type: contracts<br>Text: ---\n\n## Support\n\nInsurellm commits to comprehensive Enterprise-level support for United Healthcare A...",
          "Type: contracts<br>Text: 2. **24/7/365 Premium Support:**\n   - Guaranteed 10-minute response for P1 critical issues\n   - 30-m...",
          "Type: contracts<br>Text: 3. **Comprehensive Implementation:**\n   - 18-month phased implementation program with 4 major go-liv...",
          "Type: contracts<br>Text: 4. **Training and Enablement:**\n   - Comprehensive role-based training programs for all staff\n   - E...",
          "Type: contracts<br>Text: 5. **Custom Development:**\n   - 3,000 hours annually of custom development included\n   - Dedicated d...",
          "Type: contracts<br>Text: 6. **Integration Services:**\n   - Enterprise integration with United's complex system landscape:\n   ...",
          "Type: contracts<br>Text: 7. **Analytics and Reporting:**\n   - Custom dashboard development (unlimited)\n   - Real-time operati...",
          "Type: contracts<br>Text: 8. **Compliance and Regulatory Support:**\n   - Monthly compliance reviews with detailed documentatio...",
          "Type: contracts<br>Text: 9. **Continuous Improvement:**\n   - Bi-weekly process optimization workshops\n   - Quarterly efficien...",
          "Type: contracts<br>Text: ---\n\n**Signatures:**\n\n_________________________________\n**Jennifer Rodriguez**\n**Title**: Chief Exec...",
          "Type: contracts<br>Text: # Contract with Velocity Auto Solutions for Carllm\n\n**Contract Date:** October 1, 2023  \n**Contract ...",
          "Type: contracts<br>Text: ---\n\n## Terms\n\n1. **Duration**: This contract is effective for a period of 12 months from the contra...",
          "Type: contracts<br>Text: ## Renewal\n\n1. **Automatic Renewal**: This contract will automatically renew for successive 12-month...",
          "Type: contracts<br>Text: 2. **Feature Enhancements**: Velocity Auto Solutions will receive updates to the Carllm product as o...",
          "Type: contracts<br>Text: ---\n\n**Accepted and Agreed:**  \n**For Velocity Auto Solutions**  \nSignature: _____________________  ...",
          "Type: contracts<br>Text: # Contract with WellCare Insurance Co. for Healthllm\n\n**Contract Date:** March 8, 2025\n**Contract Nu...",
          "Type: contracts<br>Text: 3. **Payment:** WellCare Insurance Co. shall pay a monthly fee of $8,000, due by the 1st of every mo...",
          "Type: contracts<br>Text: 7. **Liability:** Insurellm's liability is limited to direct damages not exceeding the total fees pa...",
          "Type: contracts<br>Text: ---\n\n## Features\n\nWellCare Insurance Co. will receive the following Essential Tier features:\n\n1. **I...",
          "Type: contracts<br>Text: 3. **AI-Driven Claims Adjudication:** Automated claims processing:\n   - Machine learning-based claim...",
          "Type: contracts<br>Text: 5. **Member Engagement Platform:** Mobile-first member portal:\n   - Digital ID cards\n   - Claims sta...",
          "Type: contracts<br>Text: 8. **Standard Analytics:** Dashboards tracking:\n   - Claims volume and processing time\n   - Medical ...",
          "Type: contracts<br>Text: 2. **Technical Support:**\n   - Email and phone support Monday-Friday 7 AM - 7 PM EST\n   - Response t...",
          "Type: contracts<br>Text: 5. **Compliance Support:**\n   - Annual HIPAA compliance review\n   - Regulatory update notifications\n...",
          "Type: contracts<br>Text: ---\n\nThis agreement enables WellCare Insurance Co. to modernize their health insurance operations wi...",
          "Type: employees<br>Text: # HR Record\n\n# Alex Chen\n\n## Summary\n- **Date of Birth:** March 15, 1990\n- **Job Title:** Backend So...",
          "Type: employees<br>Text: ## Annual Performance History\n- **2020:**  \n  - Completed onboarding successfully.  \n  - Met expecta...",
          "Type: employees<br>Text: ## Compensation History\n- **2020:** Base Salary: $80,000  \n- **2021:** Base Salary Increase to $90,0...",
          "Type: employees<br>Text: ## Other HR Notes\n- Participates regularly in Insurellm's Diversity & Inclusion initiatives, champio...",
          "Type: employees<br>Text: # HR Record\n\n# Alex Harper\n\n## Summary\n- **Date of Birth**: March 15, 1993\n- **Job Title**: Sales De...",
          "Type: employees<br>Text: ## Insurellm Career Progression\n- **July 2021**: Joined Insurellm as a Sales Development Representat...",
          "Type: employees<br>Text: ## Annual Performance History  \n- **2021**:  \n  - **Performance Rating**: 4.5/5  \n  - **Key Achievem...",
          "Type: employees<br>Text: ## Compensation History  \n- **2021**:  \n  - **Base Salary**: $55,000  \n  - **Bonus**: $5,500 (10% of...",
          "Type: employees<br>Text: - **Awards**:  \n  - Insurellm \"SDR of the Year\" Award (2022)  \n  - Monthly MVP Recognition (3 times ...",
          "Type: employees<br>Text: # HR Record\n\n# Alex Thomson\n\n## Summary\n- **Date of Birth:** March 15, 1995\n- **Job Title:** Sales D...",
          "Type: employees<br>Text: ## Insurellm Career Progression\n- **November 2022** - Joined Insurellm as a Sales Development Repres...",
          "Type: employees<br>Text: ## Annual Performance History  \n- **2022** - Rated as \"Exceeds Expectations.\" Alex Thomson achieved ...",
          "Type: employees<br>Text: ## Compensation History\n- **2022**: Base Salary - $55,000 | Bonus - $5,000  \n- **2023**: Base Salary...",
          "Type: employees<br>Text: ## Other HR Notes\n- Alex Thomson is an active member of the Diversity and Inclusion committee at Ins...",
          "Type: employees<br>Text: # HR Record\n\n# Amanda Foster\n\n## Summary\n- **Date of Birth:** August 14, 1982\n- **Job Title:** HR Bu...",
          "Type: employees<br>Text: - **June 2009 - February 2013:** HR Coordinator at Enterprise Corp.\n  - Supported recruiting and onb...",
          "Type: employees<br>Text: - **2021:** Rating: 4.0/5\n  *Good performance. Managed challenging employee situations effectively. ...",
          "Type: employees<br>Text: - **2016:** Rating: 3.8/5\n  *Good onboarding. Quick to understand business needs and HR priorities.*...",
          "Type: employees<br>Text: ## Other HR Notes\n- **Education:** MS in Human Resources Management from Cornell University, BA in P...",
          "Type: employees<br>Text: # Avery Lancaster\n\n## Summary\n- **Date of Birth**: March 15, 1985\n- **Job Title**: Co-Founder & Chie...",
          "Type: employees<br>Text: - **2013 - 2015**: Senior Product Manager at Innovate Insurance Solutions  \n  Before launching Insur...",
          "Type: employees<br>Text: - **2016**: **Meets Expectations**  \n  Growth continued, though challenges arose in operational effi...",
          "Type: employees<br>Text: - **2020**: **Below Expectations**  \n  The COVID-19 pandemic posed unforeseen operational difficulti...",
          "Type: employees<br>Text: - **2023**: **Exceeds Expectations**  \n  Market leadership was regained with innovative approaches t...",
          "Type: employees<br>Text: ## Compensation History\n- **2015**: $150,000 base salary + Significant equity stake  \n- **2016**: $1...",
          "Type: employees<br>Text: ## Other HR Notes\n- **Professional Development**: Avery has actively participated in leadership trai...",
          "Type: employees<br>Text: Avery Lancaster has demonstrated resilience and adaptability throughout her career at Insurellm, pos...",
          "Type: employees<br>Text: # HR Record\n\n# Brandon Walker\n\n## Summary\n- **Date of Birth:** December 5, 1993\n- **Job Title:** Tec...",
          "Type: employees<br>Text: - **January 2018 - April 2019:** IT Help Desk Technician at Regional Bank\n  - Provided internal IT s...",
          "Type: employees<br>Text: - **2021:** Rating: 3.6/5\n  *Adequate performance for a new hire. Good technical skills but needs to...",
          "Type: employees<br>Text: ## Other HR Notes\n- **Education:** Associate Degree in Information Technology from Phoenix Community...",
          "Type: employees<br>Text: # HR Record\n\n# Carlos Rodriguez\n\n## Summary\n- **Date of Birth:** October 12, 1989\n- **Job Title:** S...",
          "Type: employees<br>Text: - **January 2015 - February 2017:** Application Developer at FinTech Systems\n  - Developed financial...",
          "Type: employees<br>Text: - **2020:** Rating: 3.9/5\n  *Good performance during challenging remote transition. Some gaps in pro...",
          "Type: employees<br>Text: ## Other HR Notes\n- **Education:** MS in Computer Science from University of Florida\n- **Certificati...",
          "Type: employees<br>Text: # HR Record\n\n# Daniel Park\n\n## Summary\n- **Date of Birth:** October 3, 1991\n- **Job Title:** QA Engi...",
          "Type: employees<br>Text: - **July 2016 - April 2018:** Junior QA Tester at AppQuality Corp.\n  - Conducted manual testing and ...",
          "Type: employees<br>Text: - **2020:** Rating: 3.7/5\n  *Adequate performance in first year. Building knowledge of products and ...",
          "Type: employees<br>Text: ## Other HR Notes\n- **Education:** BS in Computer Science from Texas State University\n- **Certificat...",
          "Type: employees<br>Text: # HR Record\n\n# David Kim\n\n## Summary\n- **Date of Birth:** September 22, 1992\n- **Job Title:** DevOps...",
          "Type: employees<br>Text: - **June 2017 - February 2019:** Systems Administrator at CloudFirst Solutions\n  - Maintained Linux ...",
          "Type: employees<br>Text: - **2021:** Rating: 4.0/5\n  *Solid first year as DevOps Engineer. Quick learner who adapted well to ...",
          "Type: employees<br>Text: ## Other HR Notes\n- **Certifications:** AWS Certified Solutions Architect (2022), Certified Kubernet...",
          "Type: employees<br>Text: # HR Record\n\n# Emily Carter\n\n## Summary\n- **Date of Birth:** August 12, 1990\n- **Job Title:** Accoun...",
          "Type: employees<br>Text: ## Insurellm Career Progression\n- **2021-Present:** Account Executive  \n  - Responsibilities include...",
          "Type: employees<br>Text: - **2017-2019:** Marketing Intern  \n  - Assisted with market research and campaign development for s...",
          "Type: employees<br>Text: ## Compensation History\n| Year | Base Salary | Bonus         | Total Compensation |\n|------|--------...",
          "Type: employees<br>Text: ## Other HR Notes\n- **Professional Development:** Emily is currently enrolled in a leadership traini...",
          "Type: employees<br>Text: # HR Record\n\n# Emily Tran\n\n## Summary\n- **Date of Birth:** March 18, 1991\n- **Job Title:** Digital M...",
          "Type: employees<br>Text: - **June 2018 - January 2020**: Marketing Coordinator  \n  - Assisted in the development and executio...",
          "Type: employees<br>Text: ---\n\n## Annual Performance History\n- **2023**:  \n  - Performance Rating: Exceeds Expectations  \n  - ...",
          "Type: employees<br>Text: ---\n\n## Compensation History\n- **2023**:  \n  - Base Salary: $75,000  \n  - Bonus: $10,000 for exceedi...",
          "Type: employees<br>Text: - **Hobbies**:  \n  - Emily enjoys photography and regularly contributes to Insurellm's social media ...",
          "Type: employees<br>Text: # HR Record\n\n# James Wilson\n\n## Summary\n- **Date of Birth:** April 5, 1978\n- **Job Title:** Chief Te...",
          "Type: employees<br>Text: - **March 2012 - December 2016:** VP of Engineering at TechScale Inc.\n  - Built and scaled engineeri...",
          "Type: employees<br>Text: ## Annual Performance History\n- **2023:** Rating: 4.9/5\n  *Outstanding performance. Successfully led...",
          "Type: employees<br>Text: - **2020:** Rating: 4.4/5\n  *Strong performance during challenging year. Successfully pivoted techno...",
          "Type: employees<br>Text: - **2017:** Rating: 4.3/5\n  *Strong start as CTO. Quickly assessed technical landscape and began str...",
          "Type: employees<br>Text: ## Other HR Notes\n- **Education:** MS in Computer Science from MIT, BS in Computer Engineering from ...",
          "Type: employees<br>Text: - **Strategic Impact:** Transformed Insurellm's technology from legacy systems to modern cloud-nativ...",
          "Type: employees<br>Text: # HR Record\n\n# Jennifer Adams\n\n## Summary\n- **Date of Birth:** July 7, 1997\n- **Job Title:** Sales D...",
          "Type: employees<br>Text: - **August 2019 - May 2022:** Customer Service Representative at RetailCo\n  - Handled customer inqui...",
          "Type: employees<br>Text: ## Other HR Notes\n- **Education:** BA in Business Administration from University of Denver (graduate...",
          "Type: employees<br>Text: # HR Record\n\n# Jessica Liu\n\n## Summary\n- **Date of Birth:** April 30, 1996\n- **Job Title:** Frontend...",
          "Type: employees<br>Text: - **June 2018 - December 2019:** Web Developer Intern at StartupLabs\n  - Created landing pages and m...",
          "Type: employees<br>Text: - **2020:** Rating: 3.8/5\n  *Good start as Junior Developer. Eager to learn and receptive to feedbac...",
          "Type: employees<br>Text: ## Other HR Notes\n- **Education:** BS in Computer Science from University of Washington\n- **Skills:*...",
          "Type: employees<br>Text: # HR Record\n\n# Jordan Blake\n\n## Summary\n- **Date of Birth:** March 15, 1993\n- **Job Title:** Sales D...",
          "Type: employees<br>Text: ## Annual Performance History\n- **2021:** First year at Insurellm; achieved 90% of monthly targets. ...",
          "Type: employees<br>Text: ## Compensation History\n- **2021-06:** Starting Salary: $50,000  \n- **2022-04:** Merit-based increas...",
          "Type: employees<br>Text: ## Other HR Notes\n- Jordan has shown an interest in continuing education, actively participating in ...",
          "Type: employees<br>Text: # HR Record\n\n# Jordan K. Bishop\n\n## Summary\n- **Date of Birth:** March 15, 1990\n- **Job Title:** Fro...",
          "Type: employees<br>Text: ## Insurellm Career Progression\n- **June 2018:** Hired as a Frontend Software Engineer.\n- **August 2...",
          "Type: employees<br>Text: ## Annual Performance History\n- **2019:** Exceeds Expectations - Continuously delivered high-quality...",
          "Type: employees<br>Text: ## Compensation History\n- **June 2018:** Starting Salary - $85,000\n- **June 2019:** Salary Increase ...",
          "Type: employees<br>Text: ## Other HR Notes\n- Jordan K. Bishop has been an integral part of club initiatives, including the In...",
          "Type: employees<br>Text: # HR Record\n\n# Kevin Zhang\n\n## Summary\n- **Date of Birth:** March 27, 1990\n- **Job Title:** Mobile D...",
          "Type: employees<br>Text: - **July 2015 - January 2018:** Junior Mobile Developer at StartupTech\n  - Built mobile features for...",
          "Type: employees<br>Text: - **2020:** Rating: 4.0/5\n  *Good first year at Insurellm. Quick to learn insurance domain and contr...",
          "Type: employees<br>Text: ## Other HR Notes\n- **Education:** BS in Computer Science from UC Berkeley\n- **Skills:** Expert in S...",
          "Type: employees<br>Text: # HR Record\n\n# Lisa Anderson\n\n## Summary\n- **Date of Birth:** November 18, 1985\n- **Job Title:** Mar...",
          "Type: employees<br>Text: - **June 2012 - December 2015:** Marketing Coordinator at Enterprise Solutions\n  - Supported marketi...",
          "Type: employees<br>Text: - **2020:** Rating: 3.8/5\n  *Good performance during challenging pandemic year. Adapted marketing st...",
          "Type: employees<br>Text: ## Other HR Notes\n- **Education:** MBA in Marketing from University of Texas at Austin, BA in Commun...",
          "Type: employees<br>Text: # HR Record\n\n# Marcus Johnson\n\n## Summary\n- **Date of Birth:** February 17, 1988\n- **Job Title:** Cu...",
          "Type: employees<br>Text: - **January 2016 - August 2018:** Account Manager at SaaS Solutions Inc.\n  - Managed B2B client rela...",
          "Type: employees<br>Text: - **2020:** Rating: 4.0/5\n  *Good transition to CSM role. Quickly built rapport with enterprise clie...",
          "Type: employees<br>Text: ## Other HR Notes\n- **Education:** BA in Business Administration from NYU Stern School of Business\n-...",
          "Type: employees<br>Text: # HR Record\n\n# Maxine Thompson\n\n## Summary\n- **Date of Birth:** January 15, 1991\n- **Job Title:** Da...",
          "Type: employees<br>Text: ## Insurellm Career Progression\n- **January 2017 - October 2018**: **Junior Data Engineer**  \n  * Ma...",
          "Type: employees<br>Text: - **January 2021 - Present**: **Senior Data Engineer**  \n  * Maxine was promoted to Senior Data Engi...",
          "Type: employees<br>Text: ## Annual Performance History\n- **2017**: *Meets Expectations*  \n  Maxine showed potential in her ro...",
          "Type: employees<br>Text: - **2020**: *Meets Expectations*  \n  Maxine focused on regaining her footing and excelling with tech...",
          "Type: employees<br>Text: - **2023**: *Exceeds Expectations*  \n  Maxine has taken on mentoring responsibilities and is leading...",
          "Type: employees<br>Text: ## Other HR Notes\n- Maxine participated in various company-sponsored trainings related to big data t...",
          "Type: employees<br>Text: # HR Record\n\n# Maya Thompson\n\n## Summary\n- **Date of Birth:** June 14, 1993\n- **Job Title:** Data En...",
          "Type: employees<br>Text: - **June 2017 - June 2019:** Data Analyst at Analytics Corp.\n  - Analyzed business data and created ...",
          "Type: employees<br>Text: ## Other HR Notes\n- **Education:** MS in Data Science from Columbia University, BS in Mathematics fr...",
          "Type: employees<br>Text: # HR Record\n\n# Michael O'Brien\n\n## Summary\n- **Date of Birth:** May 20, 1984\n- **Job Title:** Accoun...",
          "Type: employees<br>Text: - **August 2010 - May 2014:** Sales Representative at Business Solutions Inc.\n  - B2B software sales...",
          "Type: employees<br>Text: - **2021:** Rating: 4.5/5\n  *Excellent year. Exceeded quota at 142%. Closed two major enterprise dea...",
          "Type: employees<br>Text: - **2017:** Rating: 3.5/5\n  *Good onboarding year. Learning curve with insurance industry specifics ...",
          "Type: employees<br>Text: ## Other HR Notes\n- **Education:** BA in Business from University of Illinois\n- **Awards:** Sales Ex...",
          "Type: employees<br>Text: # HR Record\n\n# Michelle Rivera\n\n## Summary\n- **Date of Birth:** December 16, 1988\n- **Job Title:** P...",
          "Type: employees<br>Text: - **May 2013 - July 2016:** UX Designer at CreativeAgency\n  - Created user interfaces for consumer a...",
          "Type: employees<br>Text: - **2020:** Rating: 4.1/5\n  *Good performance adapting to remote design collaboration. Maintained de...",
          "Type: employees<br>Text: ## Other HR Notes\n- **Education:** MFA in Interaction Design from School of Visual Arts, BFA in Grap...",
          "Type: employees<br>Text: # HR Record\n\n# Nina Patel\n\n## Summary\n- **Date of Birth:** July 25, 1991\n- **Job Title:** Business I...",
          "Type: employees<br>Text: - **May 2017 - July 2019:** Data Analyst at RetailMetrics Inc.\n  - Analyzed retail sales data and cu...",
          "Type: employees<br>Text: - **2020:** Rating: 4.0/5\n  *Strong performance as Junior Analyst. Showed initiative and eagerness t...",
          "Type: employees<br>Text: ## Other HR Notes\n- **Education:** BS in Statistics from University of Illinois at Chicago\n- **Skill...",
          "Type: employees<br>Text: # HR Record\n\n# Oliver Spencer\n\n## Summary\n- **Date of Birth**: May 14, 1990\n- **Job Title**: Backend...",
          "Type: employees<br>Text: ## Insurellm Career Progression\n- **March 2018**: Joined Insurellm as a Backend Developer I, focusin...",
          "Type: employees<br>Text: ## Annual Performance History\n- **2018**: **3/5** - Adaptable team player but still learning to take...",
          "Type: employees<br>Text: ## Compensation History\n- **March 2018**: Initial salary of $80,000.\n- **July 2019**: Salary increas...",
          "Type: employees<br>Text: ## Other HR Notes\n- Oliver enjoys a strong rapport with team members and is known for organizing reg...",
          "Type: employees<br>Text: # HR Record\n\n# Priya Sharma\n\n## Summary\n- **Date of Birth:** January 8, 1986\n- **Job Title:** Senior...",
          "Type: employees<br>Text: - **August 2012 - May 2015:** Research Scientist at UC Berkeley AI Lab\n  - Conducted research in mac...",
          "Type: employees<br>Text: - **2020:** Rating: 4.3/5\n  *Strong performance despite remote transition challenges. Maintained hig...",
          "Type: employees<br>Text: ## Other HR Notes\n- **Education:** PhD in Computer Science (Machine Learning) from Stanford Universi...",
          "Type: employees<br>Text: # HR Record\n\n# Rachel Martinez\n\n## Summary\n- **Date of Birth:** June 8, 1987\n- **Job Title:** Produc...",
          "Type: employees<br>Text: - **June 2015 - December 2016:** Business Analyst at TechInsure Corp\n  - Analyzed market trends and ...",
          "Type: employees<br>Text: - **2021:** Rating: 4.8/5\n  *Outstanding performance. Led product redesign that reduced customer chu...",
          "Type: employees<br>Text: ## Other HR Notes\n- **Professional Development:** Completed Product Leadership Certification from Pr...",
          "Type: employees<br>Text: # HR Record\n\n# Robert Chen\n\n## Summary\n- **Date of Birth:** February 28, 1983\n- **Job Title:** Senio...",
          "Type: employees<br>Text: - **August 2008 - May 2012:** Software Engineer at TechStartup\n  - Developed features for SaaS platf...",
          "Type: employees<br>Text: - **2020:** Rating: 4.2/5\n  *Good performance maintaining productivity during remote transition. Sup...",
          "Type: employees<br>Text: - **2016:** Rating: 4.0/5\n  *Strong start at Insurellm. Quick to learn domain and contribute effecti...",
          "Type: employees<br>Text: ## Other HR Notes\n- **Education:** MS in Computer Science from Stanford University, BS in Computer E...",
          "Type: employees<br>Text: # Samantha Greene\n\n## Summary\n- **Date of Birth:** October 14, 1990\n- **Job Title:** HR Generalist\n-...",
          "Type: employees<br>Text: ## Insurellm Career Progression\n- **2020** - Joined Insurellm as a HR Coordinator\n  - Responsibiliti...",
          "Type: employees<br>Text: ## Annual Performance History\n- **2020:** Exceeds Expectations  \n  Samantha Greene demonstrated exce...",
          "Type: employees<br>Text: - **2023:** Meets Expectations  \n  After attending workshops focused on conflict resolution, Samanth...",
          "Type: employees<br>Text: - **2023:** Base Salary - $70,000  \n  Recognized for substantial improvement in employee relations m...",
          "Type: employees<br>Text: # HR Record\n\n# Samuel Trenton\n\n## Summary\n- **Date of Birth:** April 12, 1989\n- **Job Title:** Senio...",
          "Type: employees<br>Text: - **August 2016 - May 2018:** Junior Data Analyst  \n  *Started at Insurellm as a Junior Data Analyst...",
          "Type: employees<br>Text: - **2021:** Rating: 4.0/5  \n  *There was notable improvement in performance. Worked to enhance model...",
          "Type: employees<br>Text: - **2021:** Base Salary: $105,000 + Bonus: $12,000  \n  *Merit-based increase, reflecting consistent ...",
          "Type: employees<br>Text: - **Areas for Improvement:** Collaboration with engineering teams has been noted as an area needing ...",
          "Type: employees<br>Text: # HR Record\n\n# Sarah Williams\n\n## Summary\n- **Date of Birth:** November 3, 1994\n- **Job Title:** UX ...",
          "Type: employees<br>Text: - **August 2018 - May 2020:** UI/UX Designer at StartupHub Inc.\n  - Designed mobile and web interfac...",
          "Type: employees<br>Text: - **2020:** Rating: 4.2/5\n  *Solid performance as Junior Designer. Quick to learn Insurellm's design...",
          "Type: employees<br>Text: ## Other HR Notes\n- **Education:** BFA in Graphic Design from Rhode Island School of Design\n- **Skil...",
          "Type: employees<br>Text: # HR Record\n\n# Tyler Brooks\n\n## Summary\n- **Date of Birth:** September 9, 1998\n- **Job Title:** Juni...",
          "Type: employees<br>Text: ## Annual Performance History\n- **2023:** Rating: 3.2/5\n  *Meets basic expectations. Shows potential...",
          "Type: employees<br>Text: ## Other HR Notes\n- **Education:** BS in Computer Science from University of Texas at Austin (gradua...",
          "Type: products<br>Text: # Product Summary\n\n# Bizllm\n\n## Summary\n\nBizllm is Insurellm's enterprise-grade commercial insurance...",
          "Type: products<br>Text: ## Features\n\n### 1. Multi-Line Underwriting Engine\nBizllm's sophisticated underwriting platform hand...",
          "Type: products<br>Text: ### 3. Cyber Risk Assessment\nSpecialized cyber insurance capabilities include automated evaluation o...",
          "Type: products<br>Text: ### 5. Commercial Property Evaluation\nAdvanced property risk modeling incorporates location data, bu...",
          "Type: products<br>Text: ### 7. Portfolio Management Dashboard\nComprehensive analytics provide insurers with portfolio-level ...",
          "Type: products<br>Text: ## Pricing\n\nBizllm's pricing structure reflects the complexity and value of commercial insurance ope...",
          "Type: products<br>Text: - **Q2 2025:** Launch of Bizllm version 1.0 with core multi-line underwriting, quoting, and policy a...",
          "Type: products<br>Text: Bizllm empowers commercial insurers to compete effectively in complex markets while delivering the d...",
          "Type: products<br>Text: # Product Summary\n\n# Carllm\n\n## Summary\n\nCarllm is an innovative auto insurance product developed by...",
          "Type: products<br>Text: ## Features\n\n- **AI-Powered Risk Assessment**: Carllm leverages artificial intelligence to analyze d...",
          "Type: products<br>Text: - **Fraud Detection**: The product incorporates advanced analytics to identify potentially fraudulen...",
          "Type: products<br>Text: ## Pricing\n\nCarllm is offered under a subscription-based pricing model tailored to meet the needs of...",
          "Type: products<br>Text: Contact our sales team for a personalized quote and discover how Carllm can transform your auto insu...",
          "Type: products<br>Text: ### Q4 2025: AI and Machine Learning Upgrades\n- Implement next-gen machine learning models for predi...",
          "Type: products<br>Text: # Product Summary\n\n# Claimllm\n\n## Summary\n\nClaimllm is Insurellm's revolutionary claims processing p...",
          "Type: products<br>Text: ## Features\n\n### 1. Intelligent FNOL Processing\nClaimllm's AI-powered first notice of loss intake ca...",
          "Type: products<br>Text: ### 3. Computer Vision Damage Assessment\nAdvanced image recognition technology analyzes photos and v...",
          "Type: products<br>Text: ### 5. Smart Document Processing\nOptical character recognition and natural language processing autom...",
          "Type: products<br>Text: ### 7. Vendor Management Platform\nIntegrated tools coordinate with repair shops, medical providers, ...",
          "Type: products<br>Text: ### 10. Analytics and Reporting\nComprehensive dashboards track key metrics including cycle time, los...",
          "Type: products<br>Text: ## Pricing\n\nClaimllm offers flexible pricing models to accommodate insurers of all sizes:\n\n- **Core ...",
          "Type: products<br>Text: - **Q1 2025:** Launch of Claimllm version 1.0 with core claims processing automation, FNOL capture, ...",
          "Type: products<br>Text: - **Q1 2027:** Introduction of real-time settlement negotiation AI that optimizes settlement amounts...",
          "Type: products<br>Text: Claimllm represents the future of insurance claims—faster, smarter, and more customer-centric. Trans...",
          "Type: products<br>Text: # Product Summary\n\n# Healthllm\n\n## Summary\n\nHealthllm is Insurellm's comprehensive health insurance ...",
          "Type: products<br>Text: ## Features\n\n### 1. Intelligent Plan Design\nHealthllm's AI-powered tools help insurers create compet...",
          "Type: products<br>Text: ### 3. AI-Driven Claims Adjudication\nAutomated claims processing uses machine learning to review cla...",
          "Type: products<br>Text: ### 5. Provider Network Management\nComprehensive tools for managing provider relationships, contract...",
          "Type: products<br>Text: ### 7. Medication Management\nIntegration with pharmacy benefit managers enables formulary management...",
          "Type: products<br>Text: ## Pricing\n\nHealthllm offers tiered pricing to serve health insurers across the spectrum:\n\n- **Essen...",
          "Type: products<br>Text: ## Roadmap\n\nHealthllm's strategic development roadmap includes:\n\n- **Q1 2025:** Launch of Healthllm ...",
          "Type: products<br>Text: Healthllm represents Insurellm's commitment to transforming health insurance through technology that...",
          "Type: products<br>Text: # Product Summary\n\n# Homellm\n\n## Summary\nHomellm is an innovative home insurance product developed b...",
          "Type: products<br>Text: ## Features\n### 1. AI-Powered Risk Assessment\nHomellm utilizes sophisticated AI algorithms to analyz...",
          "Type: products<br>Text: ### 3. Instant Claim Processing\nThe AI-driven claims management system in Homellm automates the enti...",
          "Type: products<br>Text: ### 5. Multi-Channel Integration\nHomellm seamlessly integrates into existing insurance platforms, pr...",
          "Type: products<br>Text: - **Basic Tier:** Starting at $5,000/month for small insurers with basic integration features.\n- **S...",
          "Type: products<br>Text: ## Roadmap\nThe development roadmap for Homellm includes the following key milestones:\n\n- **Q1 2024:*...",
          "Type: products<br>Text: With Homellm, Insurellm is committed to transforming the landscape of home insurance, ensuring both ...",
          "Type: products<br>Text: # Product Summary\n\n# Lifellm\n\n## Summary\n\nLifellm is an advanced life insurance platform developed b...",
          "Type: products<br>Text: ## Features\n\n### 1. AI-Powered Underwriting\nLifellm's sophisticated AI engine analyzes health record...",
          "Type: products<br>Text: ### 3. Digital Health Integration\nLifellm seamlessly integrates with wearables and health tracking a...",
          "Type: products<br>Text: ### 5. Smart Document Processing\nLifellm utilizes natural language processing and optical character ...",
          "Type: products<br>Text: ## Pricing\n\nLifellm's flexible pricing structure accommodates insurance providers of all sizes:\n\n- *...",
          "Type: products<br>Text: ## Roadmap\n\nThe development roadmap for Lifellm includes these strategic milestones:\n\n- **Q2 2025:**...",
          "Type: products<br>Text: With Lifellm, Insurellm is transforming life insurance into a modern, customer-centric experience th...",
          "Type: products<br>Text: # Product Summary\n\n# Markellm\n\n## Summary\n\nMarkellm is an innovative two-sided marketplace designed ...",
          "Type: products<br>Text: ## Features\n\n- **AI-Powered Matching**: Markellm utilizes sophisticated AI algorithms to match consu...",
          "Type: products<br>Text: - **Customized Recommendations**: Based on user profiles and preferences, Markellm provides personal...",
          "Type: products<br>Text: ## Pricing\n\nAt Markellm, we believe in transparency and flexibility. Our pricing structure is design...",
          "Type: products<br>Text: ### For Insurance Companies:\n- **Basic Listing Fee**: $199/month for a featured listing on the platf...",
          "Type: products<br>Text: ### Q3 2025\n- Initiate a comprehensive marketing campaign targeting both consumers and insurers to i...",
          "Type: products<br>Text: # Product Summary\n\n# Rellm: AI-Powered Enterprise Reinsurance Solution\n\n## Summary\n\nRellm is an inno...",
          "Type: products<br>Text: ## Features\n\n### AI-Driven Analytics\nRellm utilizes cutting-edge AI algorithms to provide predictive...",
          "Type: products<br>Text: ### Risk Assessment Module\nThe comprehensive risk assessment module within Rellm allows insurers to ...",
          "Type: products<br>Text: ### Client and Broker Portals\nRellm offers dedicated portals for both clients and brokers, facilitat...",
          "Type: products<br>Text: Join the growing number of organizations leveraging Rellm to enhance their reinsurance processes whi...",
          "Type: products<br>Text: - **Q3 2026**: \n  - Release of a community platform for Rellm users to exchange insights, tips, and ..."
         ],
         "type": "scatter",
         "x": {
          "bdata": "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",
          "dtype": "f4"
         },
         "y": {
          "bdata": "+w0SQdMerT+zvfNAnbbIQLYrd0BrkPBAhUIqQAlqSECECug+FPZXP2oVHb/tb4Q/7RawQF2by0AjCfJAgJiHQJ+470Cn4ghBRRgWQTjZCkHL1p1ApdfzQBaZtkCzeK9ABP2rQOsolkDAuAhAxpEnwCUZW8BMzDvBMQdOwdOIDEBqN4JATnavP50wI0BxggrBeM6TwJMWIMCfZSLAxzaRQDnOY0EL5itBkzSyP/WiYMDVpLzAMV/nwOW5osCgawrB33NgQIgVF0FG89vA3dzRwG4BL8Gu8ohA+GD5QCLQMMHRfgjBXqHpwHXXIsFsTydAfOm6QFAX50AJ1BTBFSC6wEHQOsHp+em/CXUswDBt3ECXcxHAT5qfwIgagkFXtRBBlPppwFsQRMHTWyvB9qgowACuc0Fzp0VBRd1lQQlLmkDCTF9BzxwGQQPNlEFVLjzAzwn5v9DnBMEN123B6Ar4wMLizMDDMtQ/KZs/QO7x7j9xyaDAW/jCv+OdxsCn1/TAt+0Wwc9M0j9EOkm9pysKP/4AjT6shd6/1OpNPwNawEDUU9xAo339QMPTvb8gcrNAmNedwBCki8CQKRjAwjfGQFZVXkEIC/jAQ3IPwAX6KcGg/PfAxCUHQMRn9UAA7ShBOiElQOGwV0DGdypB7/1OQa5oesEBzyBBa5ylQLHiKsEw6wfBxEc8QJ8uxcBRXjLAV1oPwPui58DGBDXBuiuBwRC4d8FDJrLAYuQSweZubcEp1dhARXnPwBtm1MAKHo5Aoa/+QLzqqT8mSy7BZXdFwOnmUkA03klBKM8SQKfrGMGY9gPA7dfbv6gUNkGIzCdB/0EKwWRE6MDPyre/RUpGwEq9t0B3spg/Qb8KQOjx2sAMLFzB8VznwKgsCMFvxwLB4hqNPm7hM8CkGOQ/kpTsPz8EQb9c93zAjbLdv3d1ZcEdWAjB2vkZwH4G8MAMExXBI/daPh8/Jz85dSM/+jpGwa5v68DZkDk+li8EQemDDkEGUoBALmyIv5MlG0Fyj/NAbx5iwI5ND8EPT23BEI2pwBjgIME3Of/A9C0gQI9fEUEqzV5ARb62QIe7lUFAvJ5BOQudQQ1dVMBPfkXBFg42wffZGMFnfATBVFOJQbTJ1T9ujWdAFRiBQalEhEFRkNbAhv0wwVN508BVIcFAMhumQN7vp0D7HZpB2iqzQVGSgkHTpcjAPIVRwdQd88DK6BHB3FywQOhyZkARsJFApjWNQRL2qsD6jDLAcv/FwKZaFMH2QYdBaK2lQPrqy0B8mHtByDdXQSMkTkGGuFtBUWyYQC8oY0FsU51ByHthwcPIXMEdXKTAeG9bwfEeDsGySX7BfAZ1wRaYuMBEYEvBPdxiwamHE8GbJEA+vbyQvW9+DEB0Wco+wswtwRZzBcBCoee/nd6jv/f+L0Hf3UvAQymAwNglgkHqNYZBd3brQGW/hEGvU4ZB/sCDPwDwCUEiSxpB+1mFv/6YmkCku0+/LPM4wFPZm0Bnd4TA/sa0vtniMsDjUSPBazDawH7Lyb9WF+bAjpUswR9pgcGut3rBXVqKwL04DsGCY9fARWzWQCJ158BoBm9Bx3doQbI0uUDQR2xB8uxBweDLlD+sUm5A/JH+P2bgWEDt75VBXpGwwOWNgUAkM/vAUBokwcDnjECYS7i/PQy2QAflc8FNZOA/7dnXwGEZxb8Amx6+2SdRwUVnfMDeBrvAjYADwAhva7/Ig27BPEY8wLn72cB+Qd7AvyerP+GARMGnocnAQyfywKXrxMCEH7rAEni/wLmru8BY2k/BNO7YwEnn9MDyRg3AOKtLQIfYYcEnQsS+rCa8v3CyiEAJmkfBMFTPQDQlSUBG22VASexTwRuLhUBUw9u/G7S8QPBySsFk98NApvTXwK9yU7+GjT3AjkVZwVv8NcEmwR/BVycRwKlKDsEZnhbBKpYvwU3/8b9u6/pApCLhQIZv6UD7vTnBLBEfQQEIJUFAMKHABLVuwTBL0L+YjKI/LMCaQJ3fYcFy2LVAnFmgwO8eiL/WS3/BZ2YbwC5kiMCdrKA+Ck7DQCfShcE4rNK/tnFlQD/oS0BrhfLApU2VQMP7l8BG9SDAIgYPwQldb8B50abALnqIP7BIM8FltEXAJvewwI+NaMEyU2HB9ChCwb2MZcEYU13BYilUwQFFO8BpBxvBm7zRQBkNGMHIRjhArD5HQG51JcEX+grAVNQMP2JzU0AJNAXBQB0EQaXscsGvRnnB3P8ZwWB9zUBjYJfAYitQP2gjw0AadYfBDRcnQIx57cDn4RdBDb0XwVCtFkFVptHAjrUlQFKdOMHu/oLArJZ2P6t0vEDzOu4/NksgwSHz9UBYs/3AMS0HwYCTJsEaMBjBiKQMwYdB68Ducn/B01M8wQoiMcHiEv5ARRlCP8MHK0DZ0/7Aq2/8QDAqjr+MimnBpM2iQFd6DkGpuUhBrcqCQd2NbUELSBhB2K8OQdNJEcDswA1BglhCQRpjOUHpgD1B2tE/QZWhYEHmmSpBBdaGQX3RiUFiQYJBjzl2QeSerUHnixFBj78dQWDHp0F9C6pBlZWJQUovaUAvS0xA93iAQQReW0Bjak/ALEwQQVKFvT/+P3NAvZ08QchsU0FsDmBBaEg1Qe4SKEH6CE9BUQM0QVbs8EAE8mJBBLMHPynKGr/RgxtB14CBPepl9kA6H/RAivoDQffb3UAdlkvBD989we/EHUEWBjhA1QgMQBuhsT91hoZAhMRwQEezR0A=",
          "dtype": "f4"
         }
        }
       ],
       "layout": {
        "height": 600,
        "margin": {
         "b": 10,
         "l": 10,
         "r": 20,
         "t": 40
        },
        "scene": {
         "xaxis": {
          "title": {
           "text": "x"
          }
         },
         "yaxis": {
          "title": {
           "text": "y"
          }
         }
        },
        "template": {
         "data": {
          "bar": [
           {
            "error_x": {
             "color": "#2a3f5f"
            },
            "error_y": {
             "color": "#2a3f5f"
            },
            "marker": {
             "line": {
              "color": "#E5ECF6",
              "width": 0.5
             },
             "pattern": {
              "fillmode": "overlay",
              "size": 10,
              "solidity": 0.2
             }
            },
            "type": "bar"
           }
          ],
          "barpolar": [
           {
            "marker": {
             "line": {
              "color": "#E5ECF6",
              "width": 0.5
             },
             "pattern": {
              "fillmode": "overlay",
              "size": 10,
              "solidity": 0.2
             }
            },
            "type": "barpolar"
           }
          ],
          "carpet": [
           {
            "aaxis": {
             "endlinecolor": "#2a3f5f",
             "gridcolor": "white",
             "linecolor": "white",
             "minorgridcolor": "white",
             "startlinecolor": "#2a3f5f"
            },
            "baxis": {
             "endlinecolor": "#2a3f5f",
             "gridcolor": "white",
             "linecolor": "white",
             "minorgridcolor": "white",
             "startlinecolor": "#2a3f5f"
            },
            "type": "carpet"
           }
          ],
          "choropleth": [
           {
            "colorbar": {
             "outlinewidth": 0,
             "ticks": ""
            },
            "type": "choropleth"
           }
          ],
          "contour": [
           {
            "colorbar": {
             "outlinewidth": 0,
             "ticks": ""
            },
            "colorscale": [
             [
              0,
              "#0d0887"
             ],
             [
              0.1111111111111111,
              "#46039f"
             ],
             [
              0.2222222222222222,
              "#7201a8"
             ],
             [
              0.3333333333333333,
              "#9c179e"
             ],
             [
              0.4444444444444444,
              "#bd3786"
             ],
             [
              0.5555555555555556,
              "#d8576b"
             ],
             [
              0.6666666666666666,
              "#ed7953"
             ],
             [
              0.7777777777777778,
              "#fb9f3a"
             ],
             [
              0.8888888888888888,
              "#fdca26"
             ],
             [
              1,
              "#f0f921"
             ]
            ],
            "type": "contour"
           }
          ],
          "contourcarpet": [
           {
            "colorbar": {
             "outlinewidth": 0,
             "ticks": ""
            },
            "type": "contourcarpet"
           }
          ],
          "heatmap": [
           {
            "colorbar": {
             "outlinewidth": 0,
             "ticks": ""
            },
            "colorscale": [
             [
              0,
              "#0d0887"
             ],
             [
              0.1111111111111111,
              "#46039f"
             ],
             [
              0.2222222222222222,
              "#7201a8"
             ],
             [
              0.3333333333333333,
              "#9c179e"
             ],
             [
              0.4444444444444444,
              "#bd3786"
             ],
             [
              0.5555555555555556,
              "#d8576b"
             ],
             [
              0.6666666666666666,
              "#ed7953"
             ],
             [
              0.7777777777777778,
              "#fb9f3a"
             ],
             [
              0.8888888888888888,
              "#fdca26"
             ],
             [
              1,
              "#f0f921"
             ]
            ],
            "type": "heatmap"
           }
          ],
          "histogram": [
           {
            "marker": {
             "pattern": {
              "fillmode": "overlay",
              "size": 10,
              "solidity": 0.2
             }
            },
            "type": "histogram"
           }
          ],
          "histogram2d": [
           {
            "colorbar": {
             "outlinewidth": 0,
             "ticks": ""
            },
            "colorscale": [
             [
              0,
              "#0d0887"
             ],
             [
              0.1111111111111111,
              "#46039f"
             ],
             [
              0.2222222222222222,
              "#7201a8"
             ],
             [
              0.3333333333333333,
              "#9c179e"
             ],
             [
              0.4444444444444444,
              "#bd3786"
             ],
             [
              0.5555555555555556,
              "#d8576b"
             ],
             [
              0.6666666666666666,
              "#ed7953"
             ],
             [
              0.7777777777777778,
              "#fb9f3a"
             ],
             [
              0.8888888888888888,
              "#fdca26"
             ],
             [
              1,
              "#f0f921"
             ]
            ],
            "type": "histogram2d"
           }
          ],
          "histogram2dcontour": [
           {
            "colorbar": {
             "outlinewidth": 0,
             "ticks": ""
            },
            "colorscale": [
             [
              0,
              "#0d0887"
             ],
             [
              0.1111111111111111,
              "#46039f"
             ],
             [
              0.2222222222222222,
              "#7201a8"
             ],
             [
              0.3333333333333333,
              "#9c179e"
             ],
             [
              0.4444444444444444,
              "#bd3786"
             ],
             [
              0.5555555555555556,
              "#d8576b"
             ],
             [
              0.6666666666666666,
              "#ed7953"
             ],
             [
              0.7777777777777778,
              "#fb9f3a"
             ],
             [
              0.8888888888888888,
              "#fdca26"
             ],
             [
              1,
              "#f0f921"
             ]
            ],
            "type": "histogram2dcontour"
           }
          ],
          "mesh3d": [
           {
            "colorbar": {
             "outlinewidth": 0,
             "ticks": ""
            },
            "type": "mesh3d"
           }
          ],
          "parcoords": [
           {
            "line": {
             "colorbar": {
              "outlinewidth": 0,
              "ticks": ""
             }
            },
            "type": "parcoords"
           }
          ],
          "pie": [
           {
            "automargin": true,
            "type": "pie"
           }
          ],
          "scatter": [
           {
            "fillpattern": {
             "fillmode": "overlay",
             "size": 10,
             "solidity": 0.2
            },
            "type": "scatter"
           }
          ],
          "scatter3d": [
           {
            "line": {
             "colorbar": {
              "outlinewidth": 0,
              "ticks": ""
             }
            },
            "marker": {
             "colorbar": {
              "outlinewidth": 0,
              "ticks": ""
             }
            },
            "type": "scatter3d"
           }
          ],
          "scattercarpet": [
           {
            "marker": {
             "colorbar": {
              "outlinewidth": 0,
              "ticks": ""
             }
            },
            "type": "scattercarpet"
           }
          ],
          "scattergeo": [
           {
            "marker": {
             "colorbar": {
              "outlinewidth": 0,
              "ticks": ""
             }
            },
            "type": "scattergeo"
           }
          ],
          "scattergl": [
           {
            "marker": {
             "colorbar": {
              "outlinewidth": 0,
              "ticks": ""
             }
            },
            "type": "scattergl"
           }
          ],
          "scattermap": [
           {
            "marker": {
             "colorbar": {
              "outlinewidth": 0,
              "ticks": ""
             }
            },
            "type": "scattermap"
           }
          ],
          "scattermapbox": [
           {
            "marker": {
             "colorbar": {
              "outlinewidth": 0,
              "ticks": ""
             }
            },
            "type": "scattermapbox"
           }
          ],
          "scatterpolar": [
           {
            "marker": {
             "colorbar": {
              "outlinewidth": 0,
              "ticks": ""
             }
            },
            "type": "scatterpolar"
           }
          ],
          "scatterpolargl": [
           {
            "marker": {
             "colorbar": {
              "outlinewidth": 0,
              "ticks": ""
             }
            },
            "type": "scatterpolargl"
           }
          ],
          "scatterternary": [
           {
            "marker": {
             "colorbar": {
              "outlinewidth": 0,
              "ticks": ""
             }
            },
            "type": "scatterternary"
           }
          ],
          "surface": [
           {
            "colorbar": {
             "outlinewidth": 0,
             "ticks": ""
            },
            "colorscale": [
             [
              0,
              "#0d0887"
             ],
             [
              0.1111111111111111,
              "#46039f"
             ],
             [
              0.2222222222222222,
              "#7201a8"
             ],
             [
              0.3333333333333333,
              "#9c179e"
             ],
             [
              0.4444444444444444,
              "#bd3786"
             ],
             [
              0.5555555555555556,
              "#d8576b"
             ],
             [
              0.6666666666666666,
              "#ed7953"
             ],
             [
              0.7777777777777778,
              "#fb9f3a"
             ],
             [
              0.8888888888888888,
              "#fdca26"
             ],
             [
              1,
              "#f0f921"
             ]
            ],
            "type": "surface"
           }
          ],
          "table": [
           {
            "cells": {
             "fill": {
              "color": "#EBF0F8"
             },
             "line": {
              "color": "white"
             }
            },
            "header": {
             "fill": {
              "color": "#C8D4E3"
             },
             "line": {
              "color": "white"
             }
            },
            "type": "table"
           }
          ]
         },
         "layout": {
          "annotationdefaults": {
           "arrowcolor": "#2a3f5f",
           "arrowhead": 0,
           "arrowwidth": 1
          },
          "autotypenumbers": "strict",
          "coloraxis": {
           "colorbar": {
            "outlinewidth": 0,
            "ticks": ""
           }
          },
          "colorscale": {
           "diverging": [
            [
             0,
             "#8e0152"
            ],
            [
             0.1,
             "#c51b7d"
            ],
            [
             0.2,
             "#de77ae"
            ],
            [
             0.3,
             "#f1b6da"
            ],
            [
             0.4,
             "#fde0ef"
            ],
            [
             0.5,
             "#f7f7f7"
            ],
            [
             0.6,
             "#e6f5d0"
            ],
            [
             0.7,
             "#b8e186"
            ],
            [
             0.8,
             "#7fbc41"
            ],
            [
             0.9,
             "#4d9221"
            ],
            [
             1,
             "#276419"
            ]
           ],
           "sequential": [
            [
             0,
             "#0d0887"
            ],
            [
             0.1111111111111111,
             "#46039f"
            ],
            [
             0.2222222222222222,
             "#7201a8"
            ],
            [
             0.3333333333333333,
             "#9c179e"
            ],
            [
             0.4444444444444444,
             "#bd3786"
            ],
            [
             0.5555555555555556,
             "#d8576b"
            ],
            [
             0.6666666666666666,
             "#ed7953"
            ],
            [
             0.7777777777777778,
             "#fb9f3a"
            ],
            [
             0.8888888888888888,
             "#fdca26"
            ],
            [
             1,
             "#f0f921"
            ]
           ],
           "sequentialminus": [
            [
             0,
             "#0d0887"
            ],
            [
             0.1111111111111111,
             "#46039f"
            ],
            [
             0.2222222222222222,
             "#7201a8"
            ],
            [
             0.3333333333333333,
             "#9c179e"
            ],
            [
             0.4444444444444444,
             "#bd3786"
            ],
            [
             0.5555555555555556,
             "#d8576b"
            ],
            [
             0.6666666666666666,
             "#ed7953"
            ],
            [
             0.7777777777777778,
             "#fb9f3a"
            ],
            [
             0.8888888888888888,
             "#fdca26"
            ],
            [
             1,
             "#f0f921"
            ]
           ]
          },
          "colorway": [
           "#636efa",
           "#EF553B",
           "#00cc96",
           "#ab63fa",
           "#FFA15A",
           "#19d3f3",
           "#FF6692",
           "#B6E880",
           "#FF97FF",
           "#FECB52"
          ],
          "font": {
           "color": "#2a3f5f"
          },
          "geo": {
           "bgcolor": "white",
           "lakecolor": "white",
           "landcolor": "#E5ECF6",
           "showlakes": true,
           "showland": true,
           "subunitcolor": "white"
          },
          "hoverlabel": {
           "align": "left"
          },
          "hovermode": "closest",
          "mapbox": {
           "style": "light"
          },
          "paper_bgcolor": "white",
          "plot_bgcolor": "#E5ECF6",
          "polar": {
           "angularaxis": {
            "gridcolor": "white",
            "linecolor": "white",
            "ticks": ""
           },
           "bgcolor": "#E5ECF6",
           "radialaxis": {
            "gridcolor": "white",
            "linecolor": "white",
            "ticks": ""
           }
          },
          "scene": {
           "xaxis": {
            "backgroundcolor": "#E5ECF6",
            "gridcolor": "white",
            "gridwidth": 2,
            "linecolor": "white",
            "showbackground": true,
            "ticks": "",
            "zerolinecolor": "white"
           },
           "yaxis": {
            "backgroundcolor": "#E5ECF6",
            "gridcolor": "white",
            "gridwidth": 2,
            "linecolor": "white",
            "showbackground": true,
            "ticks": "",
            "zerolinecolor": "white"
           },
           "zaxis": {
            "backgroundcolor": "#E5ECF6",
            "gridcolor": "white",
            "gridwidth": 2,
            "linecolor": "white",
            "showbackground": true,
            "ticks": "",
            "zerolinecolor": "white"
           }
          },
          "shapedefaults": {
           "line": {
            "color": "#2a3f5f"
           }
          },
          "ternary": {
           "aaxis": {
            "gridcolor": "white",
            "linecolor": "white",
            "ticks": ""
           },
           "baxis": {
            "gridcolor": "white",
            "linecolor": "white",
            "ticks": ""
           },
           "bgcolor": "#E5ECF6",
           "caxis": {
            "gridcolor": "white",
            "linecolor": "white",
            "ticks": ""
           }
          },
          "title": {
           "x": 0.05
          },
          "xaxis": {
           "automargin": true,
           "gridcolor": "white",
           "linecolor": "white",
           "ticks": "",
           "title": {
            "standoff": 15
           },
           "zerolinecolor": "white",
           "zerolinewidth": 2
          },
          "yaxis": {
           "automargin": true,
           "gridcolor": "white",
           "linecolor": "white",
           "ticks": "",
           "title": {
            "standoff": 15
           },
           "zerolinecolor": "white",
           "zerolinewidth": 2
          }
         }
        },
        "title": {
         "text": "2D Chroma Vector Store Visualization"
        },
        "width": 800
       }
      }
     },
     "metadata": {},
     "output_type": "display_data"
    }
   ],
   "source": [
    "# We humans find it easier to visalize things in 2D!\n",
    "# Reduce the dimensionality of the vectors to 2D using t-SNE\n",
    "# (t-distributed stochastic neighbor embedding)\n",
    "\n",
    "tsne = TSNE(n_components=2, random_state=42)\n",
    "reduced_vectors = tsne.fit_transform(vectors)\n",
    "\n",
    "# Create the 2D scatter plot\n",
    "fig = go.Figure(data=[go.Scatter(\n",
    "    x=reduced_vectors[:, 0],\n",
    "    y=reduced_vectors[:, 1],\n",
    "    mode='markers',\n",
    "    marker=dict(size=5, color=colors, opacity=0.8),\n",
    "    text=[f\"Type: {t}<br>Text: {d[:100]}...\" for t, d in zip(doc_types, documents)],\n",
    "    hoverinfo='text'\n",
    ")])\n",
    "\n",
    "fig.update_layout(\n",
    "    title='2D Chroma Vector Store Visualization',\n",
    "    scene=dict(xaxis_title='x',yaxis_title='y'),\n",
    "    width=800,\n",
    "    height=600,\n",
    "    margin=dict(r=20, b=10, l=10, t=40)\n",
    ")\n",
    "\n",
    "fig.show()"
   ]
  },
  {
   "cell_type": "code",
   "execution_count": 30,
   "metadata": {},
   "outputs": [
    {
     "data": {
      "application/vnd.plotly.v1+json": {
       "config": {
        "plotlyServerURL": "https://plot.ly"
       },
       "data": [
        {
         "hoverinfo": "text",
         "marker": {
          "color": [
           "orange",
           "orange",
           "orange",
           "orange",
           "orange",
           "orange",
           "orange",
           "orange",
           "orange",
           "orange",
           "orange",
           "orange",
           "orange",
           "orange",
           "orange",
           "orange",
           "orange",
           "orange",
           "orange",
           "orange",
           "orange",
           "orange",
           "orange",
           "orange",
           "red",
           "red",
           "red",
           "red",
           "red",
           "red",
           "red",
           "red",
           "red",
           "red",
           "red",
           "red",
           "red",
           "red",
           "red",
           "red",
           "red",
           "red",
           "red",
           "red",
           "red",
           "red",
           "red",
           "red",
           "red",
           "red",
           "red",
           "red",
           "red",
           "red",
           "red",
           "red",
           "red",
           "red",
           "red",
           "red",
           "red",
           "red",
           "red",
           "red",
           "red",
           "red",
           "red",
           "red",
           "red",
           "red",
           "red",
           "red",
           "red",
           "red",
           "red",
           "red",
           "red",
           "red",
           "red",
           "red",
           "red",
           "red",
           "red",
           "red",
           "red",
           "red",
           "red",
           "red",
           "red",
           "red",
           "red",
           "red",
           "red",
           "red",
           "red",
           "red",
           "red",
           "red",
           "red",
           "red",
           "red",
           "red",
           "red",
           "red",
           "red",
           "red",
           "red",
           "red",
           "red",
           "red",
           "red",
           "red",
           "red",
           "red",
           "red",
           "red",
           "red",
           "red",
           "red",
           "red",
           "red",
           "red",
           "red",
           "red",
           "red",
           "red",
           "red",
           "red",
           "red",
           "red",
           "red",
           "red",
           "red",
           "red",
           "red",
           "red",
           "red",
           "red",
           "red",
           "red",
           "red",
           "red",
           "red",
           "red",
           "red",
           "red",
           "red",
           "red",
           "red",
           "red",
           "red",
           "red",
           "red",
           "red",
           "red",
           "red",
           "red",
           "red",
           "red",
           "red",
           "red",
           "red",
           "red",
           "red",
           "red",
           "red",
           "red",
           "red",
           "red",
           "red",
           "red",
           "red",
           "red",
           "red",
           "red",
           "red",
           "red",
           "red",
           "red",
           "red",
           "red",
           "red",
           "red",
           "red",
           "red",
           "red",
           "red",
           "red",
           "red",
           "red",
           "red",
           "red",
           "red",
           "red",
           "red",
           "red",
           "red",
           "red",
           "red",
           "red",
           "red",
           "red",
           "red",
           "red",
           "red",
           "red",
           "red",
           "red",
           "red",
           "red",
           "red",
           "red",
           "red",
           "red",
           "red",
           "red",
           "red",
           "red",
           "red",
           "red",
           "red",
           "red",
           "red",
           "red",
           "red",
           "red",
           "red",
           "red",
           "red",
           "red",
           "red",
           "red",
           "red",
           "red",
           "red",
           "red",
           "red",
           "red",
           "red",
           "red",
           "red",
           "red",
           "red",
           "red",
           "red",
           "red",
           "red",
           "red",
           "red",
           "red",
           "red",
           "red",
           "red",
           "red",
           "red",
           "red",
           "red",
           "red",
           "red",
           "red",
           "red",
           "red",
           "red",
           "red",
           "red",
           "red",
           "red",
           "red",
           "red",
           "red",
           "red",
           "red",
           "red",
           "red",
           "red",
           "red",
           "red",
           "red",
           "red",
           "red",
           "red",
           "red",
           "red",
           "red",
           "red",
           "red",
           "red",
           "red",
           "red",
           "red",
           "red",
           "red",
           "red",
           "red",
           "red",
           "red",
           "red",
           "red",
           "red",
           "red",
           "red",
           "red",
           "red",
           "red",
           "red",
           "red",
           "red",
           "red",
           "red",
           "red",
           "red",
           "green",
           "green",
           "green",
           "green",
           "green",
           "green",
           "green",
           "green",
           "green",
           "green",
           "green",
           "green",
           "green",
           "green",
           "green",
           "green",
           "green",
           "green",
           "green",
           "green",
           "green",
           "green",
           "green",
           "green",
           "green",
           "green",
           "green",
           "green",
           "green",
           "green",
           "green",
           "green",
           "green",
           "green",
           "green",
           "green",
           "green",
           "green",
           "green",
           "green",
           "green",
           "green",
           "green",
           "green",
           "green",
           "green",
           "green",
           "green",
           "green",
           "green",
           "green",
           "green",
           "green",
           "green",
           "green",
           "green",
           "green",
           "green",
           "green",
           "green",
           "green",
           "green",
           "green",
           "green",
           "green",
           "green",
           "green",
           "green",
           "green",
           "green",
           "green",
           "green",
           "green",
           "green",
           "green",
           "green",
           "green",
           "green",
           "green",
           "green",
           "green",
           "green",
           "green",
           "green",
           "green",
           "green",
           "green",
           "green",
           "green",
           "green",
           "green",
           "green",
           "green",
           "green",
           "green",
           "green",
           "green",
           "green",
           "green",
           "green",
           "green",
           "green",
           "green",
           "green",
           "green",
           "green",
           "green",
           "green",
           "green",
           "green",
           "green",
           "green",
           "green",
           "green",
           "green",
           "green",
           "green",
           "green",
           "green",
           "green",
           "green",
           "green",
           "green",
           "green",
           "green",
           "green",
           "green",
           "green",
           "green",
           "green",
           "green",
           "green",
           "green",
           "green",
           "green",
           "green",
           "green",
           "green",
           "green",
           "green",
           "green",
           "green",
           "green",
           "green",
           "green",
           "green",
           "blue",
           "blue",
           "blue",
           "blue",
           "blue",
           "blue",
           "blue",
           "blue",
           "blue",
           "blue",
           "blue",
           "blue",
           "blue",
           "blue",
           "blue",
           "blue",
           "blue",
           "blue",
           "blue",
           "blue",
           "blue",
           "blue",
           "blue",
           "blue",
           "blue",
           "blue",
           "blue",
           "blue",
           "blue",
           "blue",
           "blue",
           "blue",
           "blue",
           "blue",
           "blue",
           "blue",
           "blue",
           "blue",
           "blue",
           "blue",
           "blue",
           "blue",
           "blue",
           "blue",
           "blue",
           "blue",
           "blue",
           "blue",
           "blue",
           "blue",
           "blue",
           "blue",
           "blue",
           "blue",
           "blue",
           "blue",
           "blue",
           "blue"
          ],
          "opacity": 0.8,
          "size": 5
         },
         "mode": "markers",
         "text": [
          "Type: company<br>Text: # About Insurellm\n\nInsurellm was founded by Avery Lancaster in 2015 as an insurance tech startup des...",
          "Type: company<br>Text: However, the company underwent a strategic restructuring in 2022-2023 to focus on profitability and ...",
          "Type: company<br>Text: Since the restructuring, Insurellm has continued to innovate, expanding its product suite to eight c...",
          "Type: company<br>Text: - **Bizllm** quickly gained traction with 7 commercial insurance contracts, including regional carri...",
          "Type: company<br>Text: # Careers at Insurellm\n\n## Why Join Insurellm?\n\nAt Insurellm, we're not just building software—we're...",
          "Type: company<br>Text: ### Our Culture\n\nWe live by our core values every day:\n- **Innovation First**: We encourage experime...",
          "Type: company<br>Text: ## Current Opportunities\n\n### Engineering\n\n**Senior Full Stack Engineer** - San Francisco, CA\n- Lead...",
          "Type: company<br>Text: **DevOps Engineer** - New York, NY\n- Manage cloud infrastructure (AWS/GCP)\n- Implement CI/CD pipelin...",
          "Type: company<br>Text: **Data Engineer** - Austin, TX\n- Design and maintain data pipelines\n- Build data warehousing solutio...",
          "Type: company<br>Text: **UX/UI Designer** - Remote\n- Design user experiences for our insurance platforms\n- Conduct user res...",
          "Type: company<br>Text: **Customer Success Manager** - San Francisco, CA / New York, NY\n- Ensure client satisfaction and ret...",
          "Type: company<br>Text: **HR Business Partner** - San Francisco, CA\n- Partner with leadership on people strategy\n- Support t...",
          "Type: company<br>Text: # Insurellm Culture\n\n## Vision Statement\nTo revolutionize the insurance industry through innovative ...",
          "Type: company<br>Text: ## Core Values\n\n### Innovation First\nWe challenge the status quo and embrace creative problem-solvin...",
          "Type: company<br>Text: ### Integrity & Transparency\nWe operate with honesty and openness in everything we do. From our prod...",
          "Type: company<br>Text: ## Employer Value Proposition\n\n**Build the Future of Insurance Technology with Elite Talent**\n\nAt In...",
          "Type: company<br>Text: - **Meaningful Impact**: Your work directly shapes products powering 32 active insurance operations,...",
          "Type: company<br>Text: - **Inclusive Environment**: A diverse team where every voice matters and different perspectives dri...",
          "Type: company<br>Text: Join us in disrupting an industry and building technology that matters....",
          "Type: company<br>Text: # Overview of Insurellm\n\nInsurellm is an innovative insurance tech firm with 32 employees operating ...",
          "Type: company<br>Text: ### Marketplace & Infrastructure\n- **Markellm** - Marketplace connecting consumers with insurance pr...",
          "Type: company<br>Text: ## Scale & Impact\n\nDespite its compact team size, Insurellm has built an impressive client portfolio...",
          "Type: company<br>Text: **Commercial Insurance (Bizllm)**: 7 contracts including regional carriers, multi-line insurers, and...",
          "Type: company<br>Text: **Home Insurance (Homellm)**: 4 contracts including property insurers with advanced IoT and catastro...",
          "Type: contracts<br>Text: # Contract with Advantage Medical Coverage for Healthllm\n\n**Contract Date:** April 18, 2025\n**Contra...",
          "Type: contracts<br>Text: 4. **Member Coverage**: Professional Tier supports up to 50,000 covered members. Advantage currently...",
          "Type: contracts<br>Text: ## Features\n\n1. **Included Features**: Advantage Medical Coverage will have access to Healthllm Prof...",
          "Type: contracts<br>Text: 2. **Value-Based Care Support:**\n   - ACO performance tracking and shared savings calculation\n   - H...",
          "Type: contracts<br>Text: ## Support\n\n1. **Customer Support**: Insurellm will provide priority support to Advantage Medical Co...",
          "Type: contracts<br>Text: 3. **System Updates**: Monthly platform enhancements and bi-weekly security patches. Maintenance win...",
          "Type: contracts<br>Text: **Advantage Medical Coverage**\nDr. Michael Ramirez, Chief Medical Officer\nDate: April 18, 2025\n\n---\n...",
          "Type: contracts<br>Text: # Contract with Apex Reinsurance for Rellm: AI-Powered Enterprise Reinsurance Solution\n\n## Terms\n\n1....",
          "Type: contracts<br>Text: 4. **Contract Duration**: This Agreement shall commence on [Start Date] and shall remain in effect f...",
          "Type: contracts<br>Text: ## Features\n\n1. **AI-Driven Analytics**: The Rellm platform will utilize AI algorithms to provide pr...",
          "Type: contracts<br>Text: 5. **Dedicated Client Portal**: A portal for the Client will facilitate real-time communication and ...",
          "Type: contracts<br>Text: 4. **Escalation Protocol**: Issues that cannot be resolved at the first level of support will be esc...",
          "Type: contracts<br>Text: # Contract with Atlantic Risk Solutions for Bizllm\n\n---\n\n## Terms...",
          "Type: contracts<br>Text: 1. **Agreement Effective Date**: This contract is effective as of January 15, 2025.\n2. **Duration**:...",
          "Type: contracts<br>Text: 5. **User Licenses**: Contract includes 35 named user licenses. Additional users may be added at $18...",
          "Type: contracts<br>Text: ---\n\n## Renewal\n\n1. **Automatic Renewal**: This agreement will automatically renew for an additional...",
          "Type: contracts<br>Text: 1. **Access to Professional Tier Features**: Atlantic Risk Solutions will have access to all Profess...",
          "Type: contracts<br>Text: - Professional Liability Specialization for E&O coverage\n   - Portfolio Management Dashboard with lo...",
          "Type: contracts<br>Text: 2. **Industry-Specific Templates**: Pre-configured underwriting templates for:\n   - Technology compa...",
          "Type: contracts<br>Text: ---\n\n## Support\n\n1. **Technical Support**: Atlantic Risk Solutions will receive priority technical s...",
          "Type: contracts<br>Text: 3. **Updates and Maintenance**:\n   - Quarterly platform updates with new features and security enhan...",
          "Type: contracts<br>Text: ---\n\n**Signatures:**\n\n_________________________________\n**Michael Torres**\n**Title**: Chief Revenue ...",
          "Type: contracts<br>Text: # Contract with Belvedere Insurance for Markellm\n\n## Terms\nThis Contract (\"Agreement\") is made and e...",
          "Type: contracts<br>Text: 1. **Service Commencement**: The services described herein will commence on [Start Date].\n2. **Contr...",
          "Type: contracts<br>Text: ## Renewal\n1. **Renewal Terms**: This Agreement may be renewed for additional one-year terms upon mu...",
          "Type: contracts<br>Text: ## Features\n1. **AI-Powered Matching**: Belvedere Insurance will benefit from Markellm's AI-powered ...",
          "Type: contracts<br>Text: ## Support\n1. **Technical Support**: Technical support will be available from 9 AM to 7 PM EST, Mond...",
          "Type: contracts<br>Text: **Insurellm, Inc.**  \nSignature: ______________________  \nName: [Authorized Signatory]  \nTitle: [Tit...",
          "Type: contracts<br>Text: # Contract with BrightWay Solutions for Markellm\n\n**Contract Date:** October 5, 2023  \n**Contract ID...",
          "Type: contracts<br>Text: 3. **Service Level Agreement (SLA):**  \n   Insurellm commits to a 99.9% uptime for the platform with...",
          "Type: contracts<br>Text: ### Features\n1. **Access to AI-Powered Matching:**  \n   BrightWay Solutions will benefit from the AI...",
          "Type: contracts<br>Text: ### Support\n1. **Dedicated Customer Support:**  \n   BrightWay Solutions will have access to a dedica...",
          "Type: contracts<br>Text: ### Signatures\nBy signing below, both parties agree to the terms and conditions outlined in this Con...",
          "Type: contracts<br>Text: # Contract with ConnectInsure Agency for Markellm\n\n**Contract Date:** February 28, 2025\n**Contract N...",
          "Type: contracts<br>Text: 3. **Contract Duration**: This Agreement shall remain in effect for 18 months from the commencement ...",
          "Type: contracts<br>Text: 6. **Payment Terms**:\n   - Monthly listing fee due on the 1st of each month\n   - Performance-based f...",
          "Type: contracts<br>Text: ## Renewal\n\n1. **Automatic Renewal**: This agreement automatically renews for successive 6-month ter...",
          "Type: contracts<br>Text: 2. **Featured Listing**: Premium marketplace placement including:\n   - Enhanced agency profile with ...",
          "Type: contracts<br>Text: 4. **Lead Management Portal**: Comprehensive tools for:\n   - Real-time lead notifications (SMS, emai...",
          "Type: contracts<br>Text: 6. **Consumer Reviews**: Reputation management:\n   - Consumer rating and review collection\n   - Resp...",
          "Type: contracts<br>Text: 2. **Onboarding**: Implementation includes:\n   - 2-week onboarding process\n   - Platform training fo...",
          "Type: contracts<br>Text: 5. **Marketing Assistance**:\n   - Quarterly marketing strategy consultations\n   - Campaign performan...",
          "Type: contracts<br>Text: # Contract with Continental Commercial Group for Bizllm\n\n**Contract Date:** April 12, 2025\n**Contrac...",
          "Type: contracts<br>Text: 3. **Payment:** Continental Commercial Group shall pay custom Enterprise pricing of $42,000 per mont...",
          "Type: contracts<br>Text: 6. **Service Level Agreement (SLA):** Insurellm guarantees 99.9% platform uptime, measured monthly. ...",
          "Type: contracts<br>Text: ---\n\n## Features\n\nContinental Commercial Group will receive the complete Bizllm Enterprise suite:\n\n1...",
          "Type: contracts<br>Text: 4. **Advanced Cyber Risk Module:** Comprehensive cyber insurance underwriting tools including:\n   - ...",
          "Type: contracts<br>Text: 6. **Predictive Analytics Engine:** Machine learning models for:\n   - Loss forecasting and reserve a...",
          "Type: contracts<br>Text: ---\n\n## Support\n\nInsurellm commits to comprehensive Enterprise-level support:\n\n1. **Dedicated Succes...",
          "Type: contracts<br>Text: 3. **Implementation and Onboarding:**\n   - 6-month implementation program with dedicated project man...",
          "Type: contracts<br>Text: 6. **Performance Optimization:**\n   - Monthly platform performance reviews\n   - Proactive capacity p...",
          "Type: contracts<br>Text: ---\n\nThis agreement represents a strategic partnership between Insurellm and Continental Commercial ...",
          "Type: contracts<br>Text: # Contract with DriveSmart Insurance for Carllm\n\n**Contract Date:** March 20, 2025\n**Contract Number...",
          "Type: contracts<br>Text: 2. **Duration:** This agreement is effective for a period of 36 months from the contract date.\n\n3. *...",
          "Type: contracts<br>Text: 6. **Confidentiality:** Both parties agree to maintain strict confidentiality of proprietary algorit...",
          "Type: contracts<br>Text: 1. **Unlimited Policy Administration:** Full support for DriveSmart's 85,000+ policies with scalabil...",
          "Type: contracts<br>Text: 3. **Advanced AI Risk Assessment:** Enterprise-grade risk analysis:\n   - Real-time driver behavior a...",
          "Type: contracts<br>Text: 4. **Instant Quoting Engine:** High-performance quoting:\n   - Sub-3-second quote generation\n   - Rea...",
          "Type: contracts<br>Text: 6. **Advanced Fraud Detection:** Comprehensive fraud prevention:\n   - Application fraud detection (i...",
          "Type: contracts<br>Text: 8. **Telematics Integration:** Complete telematics platform:\n   - Device-agnostic integration (OBD-I...",
          "Type: contracts<br>Text: 10. **Multi-State Operations:** Comprehensive state support:\n    - State-specific forms and endorsem...",
          "Type: contracts<br>Text: 2. **24/7/365 Support:**\n   - 30-minute response time for P1 critical issues\n   - 2-hour response fo...",
          "Type: contracts<br>Text: 4. **Training and Enablement:**\n   - Role-based training for all users\n   - Train-the-trainer progra...",
          "Type: contracts<br>Text: 6. **Integration Services:**\n   - Integration with DriveSmart's systems:\n     - Duck Creek policy ad...",
          "Type: contracts<br>Text: 8. **Continuous Improvement:**\n   - Quarterly optimization workshops\n   - Annual efficiency audits\n ...",
          "Type: contracts<br>Text: # Contract with Evergreen Life Insurance for Lifellm\n\n**Contract Date:** January 20, 2025\n**Contract...",
          "Type: contracts<br>Text: 3. **Payment:** Evergreen Life Insurance shall pay a monthly fee of $3,500, due by the 5th of every ...",
          "Type: contracts<br>Text: 7. **Liability:** Insurellm's liability is limited to direct damages not exceeding the total fees pa...",
          "Type: contracts<br>Text: ---\n\n## Features\n\nEvergreen Life Insurance will receive the following Starter Tier features:\n\n1. **A...",
          "Type: contracts<br>Text: 3. **Automated Policy Management:**\n   - Digital policy issuance and delivery\n   - Beneficiary manag...",
          "Type: contracts<br>Text: 6. **Regulatory Compliance:** Built-in compliance monitoring for:\n   - State insurance regulations\n ...",
          "Type: contracts<br>Text: 2. **Technical Support:**\n   - Email and phone support Monday-Friday 8 AM - 6 PM EST\n   - Response t...",
          "Type: contracts<br>Text: 5. **Compliance Support:**\n   - Annual compliance review and audit support\n   - Regulatory update no...",
          "Type: contracts<br>Text: # Contract with EverGuard Insurance for Rellm: AI-Powered Enterprise Reinsurance Solution\n\n**Contrac...",
          "Type: contracts<br>Text: 3. **Payment Terms**: EverGuard Insurance agrees to pay Insurellm a monthly fee of $10,000 for the d...",
          "Type: contracts<br>Text: 2. **Price Adjustment**: In the event of a renewal, Insurellm reserves the right to adjust the month...",
          "Type: contracts<br>Text: 4. **Client Portal Access**: EverGuard Insurance will have access to both client and broker portals,...",
          "Type: contracts<br>Text: 3. **Updates and Upgrades**: EverGuard Insurance will receive all platform updates and upgrades at n...",
          "Type: contracts<br>Text: --- \n\nThis contract seeks to foster a strong partnership between Insurellm and EverGuard Insurance, ...",
          "Type: contracts<br>Text: # Contract with FastTrack Insurance Services for Claimllm\n\n**Contract Date:** May 10, 2025\n**Contrac...",
          "Type: contracts<br>Text: 4. **Claims Volume**: Advanced Tier supports up to 25,000 claims annually. FastTrack projects 22,000...",
          "Type: contracts<br>Text: 2. **Pricing Review**: Renewal pricing will be discussed 60 days prior to term end. Price increases ...",
          "Type: contracts<br>Text: 2. **Integration Capabilities**: API integration with FastTrack's existing claims systems (Guidewire...",
          "Type: contracts<br>Text: 3. **System Updates**: Regular platform enhancements pushed monthly with advance notification. Maint...",
          "Type: contracts<br>Text: # Contract with Fortress Business Underwriters for Bizllm\n\n---\n\n## Terms...",
          "Type: contracts<br>Text: 1. **Agreement Effective Date**: This contract is effective as of February 1, 2025.\n2. **Duration**:...",
          "Type: contracts<br>Text: 6. **Termination Clause**: Either party may terminate this agreement with 60 days' written notice pr...",
          "Type: contracts<br>Text: ---\n\n## Renewal\n\n1. **Automatic Renewal**: This agreement will automatically renew for an additional...",
          "Type: contracts<br>Text: ---\n\n## Features\n\n1. **Access to Professional Tier Features**: Fortress Business Underwriters will h...",
          "Type: contracts<br>Text: 2. **Advanced Analytics**: Access to enhanced reporting capabilities including loss ratio analysis, ...",
          "Type: contracts<br>Text: ---\n\n## Support\n\n1. **Technical Support**: Fortress Business Underwriters will receive priority tech...",
          "Type: contracts<br>Text: 3. **Updates and Maintenance**:\n   - Monthly platform updates with new features and enhancements\n   ...",
          "Type: contracts<br>Text: _________________________________\n**Michael Torres**\n**Title**: Chief Revenue Officer\n**Insurellm, I...",
          "Type: contracts<br>Text: # Contract with GlobalRe Partners for Rellm - AI-Powered Enterprise Reinsurance Solution\n\n**Contract...",
          "Type: contracts<br>Text: 3. **Payment:** GlobalRe Partners shall pay custom Enterprise Tier pricing of $45,000 per month for ...",
          "Type: contracts<br>Text: 6. **Confidentiality:** Both parties agree to maintain the highest level of confidentiality regardin...",
          "Type: contracts<br>Text: ---\n\n## Renewal\n\nThis agreement includes a mutual 120-day renewal notice period. GlobalRe Partners r...",
          "Type: contracts<br>Text: 2. **White-Label Platform:** Complete branding customization:\n   - Custom domains (portal.globalrepa...",
          "Type: contracts<br>Text: 3. **Advanced AI-Driven Analytics:** Enterprise-grade reinsurance analytics:\n   - Predictive risk mo...",
          "Type: contracts<br>Text: 4. **Comprehensive Risk Assessment Module:** State-of-the-art risk evaluation:\n   - Cedent financial...",
          "Type: contracts<br>Text: 5. **Catastrophe Modeling Integration:** Best-in-class CAT modeling:\n   - Integration with all major...",
          "Type: contracts<br>Text: 6. **Treaty Administration:** Complete treaty lifecycle management:\n   - Treaty structuring and quot...",
          "Type: contracts<br>Text: 7. **Facultative Reinsurance Platform:** Comprehensive fac management:\n   - Digital submission intak...",
          "Type: contracts<br>Text: 8. **Customizable Dashboard:** Enterprise-grade analytics:\n   - Real-time portfolio performance metr...",
          "Type: contracts<br>Text: 9. **Regulatory Compliance Tools:** Global compliance support:\n   - Multi-jurisdiction regulatory re...",
          "Type: contracts<br>Text: 10. **Client and Broker Portals:** Stakeholder engagement platforms:\n    - Cedent portal for submiss...",
          "Type: contracts<br>Text: 11. **Complete API Access:** Unlimited API integration:\n    - Real-time integration with GlobalRe's ...",
          "Type: contracts<br>Text: 13. **Climate Risk Analytics:** Forward-looking climate modeling:\n    - IPCC climate scenario analys...",
          "Type: contracts<br>Text: ---\n\n## Support\n\nInsurellm commits to comprehensive Enterprise-level support for GlobalRe Partners:\n...",
          "Type: contracts<br>Text: 2. **24/7/365 Premium Support:**\n   - Guaranteed 10-minute response for P1 critical issues (during c...",
          "Type: contracts<br>Text: 3. **Comprehensive Implementation:**\n   - 18-month phased implementation program with 5 major releas...",
          "Type: contracts<br>Text: 4. **Training and Enablement:**\n   - Comprehensive role-based training (underwriters, actuaries, acc...",
          "Type: contracts<br>Text: 5. **Custom Development:**\n   - 4,000 hours annually of custom development included\n   - Dedicated d...",
          "Type: contracts<br>Text: 6. **Integration Services:**\n   - Enterprise integration with GlobalRe's complex ecosystem:\n     - S...",
          "Type: contracts<br>Text: 7. **Analytics and Reporting:**\n   - Custom dashboard development (unlimited)\n   - Real-time operati...",
          "Type: contracts<br>Text: 8. **Catastrophe Response:**\n   - Dedicated CAT war room activation during major events\n   - Real-ti...",
          "Type: contracts<br>Text: 10. **Continuous Improvement:**\n    - Monthly process optimization sessions\n    - Quarterly efficien...",
          "Type: contracts<br>Text: ---\n\n**Signatures:**\n\n_________________________________\n**Jennifer Rodriguez**\n**Title**: Chief Exec...",
          "Type: contracts<br>Text: # Contract with GreenField Holdings for Markellm\n\n**Effective Date:** November 15, 2023  \n**Contract...",
          "Type: contracts<br>Text: ## Renewal\n1. **Automatic Renewal**: This contract will automatically renew for sequential one-year ...",
          "Type: contracts<br>Text: ## Features\n1. **AI-Powered Matching**: Access to advanced algorithms that connect GreenField Holdin...",
          "Type: contracts<br>Text: ## Support\n1. **Customer Support Access**: The Client will have access to dedicated support through ...",
          "Type: contracts<br>Text: ## Pricing\n- **Basic Listing Fee**: GreenField Holdings agrees to pay a monthly fee of $199 for a fe...",
          "Type: contracts<br>Text: # Contract with Greenstone Insurance for Homellm\n\n---\n\n## Terms\n\n1. **Parties**: This Contract (\"Agr...",
          "Type: contracts<br>Text: 4. **Payment Terms**: \n   - The Customer shall pay an amount of $10,000 per month for the Standard T...",
          "Type: contracts<br>Text: ---\n\n## Features\n\n- **AI-Powered Risk Assessment**: Customer will have access to enhanced risk evalu...",
          "Type: contracts<br>Text: - **Multi-Channel Integration**: Homellm will integrate with the Customer's existing platforms to cr...",
          "Type: contracts<br>Text: --- \n\n**AGREEMENT SIGNATURES**\n\nBy signing below, the parties acknowledge their acceptance of the te...",
          "Type: contracts<br>Text: # Contract with GreenValley Insurance for Homellm\n\n**Contract Date:** October 6, 2023  \n**Contract N...",
          "Type: contracts<br>Text: 3. **Payment:** GreenValley Insurance shall pay a monthly fee of $10,000, due by the 5th of every mo...",
          "Type: contracts<br>Text: ---\n\n## Features\n\nGreenValley Insurance will receive the following features with Homellm:\n\n1. **AI-P...",
          "Type: contracts<br>Text: 6. **Customer Portal:** A user-friendly portal for their customers for policy and claims management....",
          "Type: contracts<br>Text: ---\n\n**Signatures:**\n\n_________________________________  \n**[Name]**  \n**Title**: CEO  \n**Insurellm,...",
          "Type: contracts<br>Text: # Contract with Guardian Life Partners for Lifellm\n\n---\n\n## Terms...",
          "Type: contracts<br>Text: 1. **Agreement Effective Date**: This contract is effective as of March 1, 2025.\n2. **Duration**: Th...",
          "Type: contracts<br>Text: 6. **User Licenses**: Contract includes 25 named user licenses (underwriters, administrators, agents...",
          "Type: contracts<br>Text: ---\n\n## Renewal\n\n1. **Automatic Renewal**: This agreement will automatically renew for an additional...",
          "Type: contracts<br>Text: ---\n\n## Features\n\n1. **Access to Growth Tier Features**: Guardian Life Partners will have comprehens...",
          "Type: contracts<br>Text: 2. **Digital Health Features:**\n   - Wearable device integration for wellness programs\n   - Activity...",
          "Type: contracts<br>Text: 4. **Agent Portal:**\n   - Agent-facing tools for 200+ independent agents\n   - Real-time application ...",
          "Type: contracts<br>Text: 2. **Training**: Comprehensive training program:\n   - Initial onboarding (4 weeks) for up to 20 staf...",
          "Type: contracts<br>Text: 4. **Account Management**:\n   - Named Customer Success Manager with bi-weekly check-ins\n   - Quarter...",
          "Type: contracts<br>Text: 6. **Wellness Program Support:**\n   - Assistance designing wellness initiatives\n   - Health program ...",
          "Type: contracts<br>Text: # Contract with Harmony Health Plans for Healthllm\n\n---\n\n## Terms...",
          "Type: contracts<br>Text: 1. **Agreement Effective Date**: This contract is effective as of January 25, 2025.\n2. **Duration**:...",
          "Type: contracts<br>Text: 6. **User Licenses**: Contract includes 60 named user licenses. Additional licenses available at $15...",
          "Type: contracts<br>Text: ---\n\n## Renewal\n\n1. **Automatic Renewal**: This agreement will automatically renew for an additional...",
          "Type: contracts<br>Text: ---\n\n## Features\n\n1. **Access to Professional Tier Features**: Harmony Health Plans will have compre...",
          "Type: contracts<br>Text: 2. **Predictive Healthcare Analytics:**\n   - High-risk member identification for care management\n   ...",
          "Type: contracts<br>Text: 3. **Advanced Medication Management:**\n   - Complete formulary management and tier optimization\n   -...",
          "Type: contracts<br>Text: 5. **Care Management Platform:**\n   - Case management workflows for high-cost members\n   - Disease m...",
          "Type: contracts<br>Text: 2. **Training**: Comprehensive training program:\n   - 6-week implementation with dedicated project m...",
          "Type: contracts<br>Text: 3. **Updates and Maintenance**:\n   - Monthly platform updates with new features and enhancements\n   ...",
          "Type: contracts<br>Text: 5. **Integration Support**: Comprehensive integration assistance:\n   - Integration with Harmony's co...",
          "Type: contracts<br>Text: 6. **Analytics and Reporting:**\n   - Custom dashboard development (up to 10 dashboards)\n   - Automat...",
          "Type: contracts<br>Text: ---\n\n**Signatures:**\n\n_________________________________\n**Sarah Chen**\n**Title**: Vice President of ...",
          "Type: contracts<br>Text: # Contract with Heritage Life Assurance for Lifellm\n\n**Contract Date:** February 12, 2025\n**Contract...",
          "Type: contracts<br>Text: 4. **Policy Volume**: Growth Tier supports up to 10,000 active policies. Heritage currently administ...",
          "Type: contracts<br>Text: 2. **Predictive Risk Modeling**: Advanced analytics considering:\n   - Comprehensive medical historie...",
          "Type: contracts<br>Text: 5. **Customer Portal**: Policyholder self-service including:\n   - 24/7 policy access\n   - Digital in...",
          "Type: contracts<br>Text: 3. **Updates**: Monthly platform enhancements and security patches. Maintenance windows: Sunday 1 AM...",
          "Type: contracts<br>Text: # Contract with Metropolitan Life Group for Lifellm\n\n**Contract Date:** April 5, 2025\n**Contract Num...",
          "Type: contracts<br>Text: 2. **Duration:** This agreement is effective for a period of 36 months from the contract date, repre...",
          "Type: contracts<br>Text: 6. **Data Security:** Insurellm commits to maintaining HIPAA compliance, SOC 2 Type II certification...",
          "Type: contracts<br>Text: 2. **White-Label Platform:** Complete branding customization:\n   - Custom domains (life.metropolitan...",
          "Type: contracts<br>Text: 4. **Comprehensive Digital Health Integration:**\n   - Wearable integrations: Apple Watch, Fitbit, Ga...",
          "Type: contracts<br>Text: 6. **Predictive Analytics Suite:**\n   - Lapse and persistency prediction modeling\n   - Cross-sell an...",
          "Type: contracts<br>Text: 8. **Agent Network Platform:**\n   - Support for 5,000+ independent agents and career agents\n   - Hie...",
          "Type: contracts<br>Text: 10. **Blockchain Policy Verification:**\n   - Immutable policy records on private blockchain\n   - Fra...",
          "Type: contracts<br>Text: 2. **24/7/365 Premium Support:**\n   - Guaranteed 15-minute response for P1 critical issues\n   - 1-ho...",
          "Type: contracts<br>Text: 4. **Training and Enablement:**\n   - Comprehensive training programs for all roles\n   - Executive br...",
          "Type: contracts<br>Text: 6. **Integration Services:**\n   - Enterprise integration with Metropolitan's systems:\n     - iPipeli...",
          "Type: contracts<br>Text: 7. **Analytics and Reporting:**\n   - Custom executive dashboard development (unlimited)\n   - Real-ti...",
          "Type: contracts<br>Text: ---\n\n**Signatures:**\n\n_________________________________\n**Jennifer Rodriguez**\n**Title**: Chief Exec...",
          "Type: contracts<br>Text: # Contract with National Claims Network for Claimllm\n\n**Contract Date:** April 20, 2025\n**Contract N...",
          "Type: contracts<br>Text: 3. **Payment:** National Claims Network shall pay custom Enterprise Tier pricing of $35,000 per mont...",
          "Type: contracts<br>Text: 7. **Business Continuity:** Insurellm provides disaster recovery with 4-hour RTO (Recovery Time Obje...",
          "Type: contracts<br>Text: 2. **White-Label Platform:** Complete branding customization including:\n   - Custom domain names (cl...",
          "Type: contracts<br>Text: 4. **Enterprise Fraud Analytics:**\n   - Real-time fraud scoring on all claims\n   - Social network an...",
          "Type: contracts<br>Text: 6. **AI-Powered Litigation Prediction:** Predictive analytics identifying claims with high litigatio...",
          "Type: contracts<br>Text: 8. **Advanced Vendor Management:**\n   - Network of 5,000+ preferred vendors nationwide\n   - AI-power...",
          "Type: contracts<br>Text: ---\n\n## Support\n\nInsurellm commits to comprehensive Enterprise-level support for National Claims Net...",
          "Type: contracts<br>Text: 3. **Comprehensive Implementation:**\n   - 9-month phased implementation program\n   - Dedicated proje...",
          "Type: contracts<br>Text: 5. **Custom Development:**\n   - 1,000 hours annually of custom development included\n   - Dedicated d...",
          "Type: contracts<br>Text: 7. **Analytics and Reporting:**\n   - Custom executive dashboard development\n   - Real-time operation...",
          "Type: contracts<br>Text: _________________________________\n**Jennifer Rodriguez**\n**Title**: Chief Executive Officer\n**Insure...",
          "Type: contracts<br>Text: # Contract with Pinnacle Insurance Co. for Homellm\n\n## Terms\nThis contract (\"Contract\") is entered i...",
          "Type: contracts<br>Text: 1. **License Grant**: Insurellm hereby grants the Client a non-exclusive, non-transferable license t...",
          "Type: contracts<br>Text: ## Renewal\n1. **Renewal Terms**: At the end of the initial term, this Contract shall automatically r...",
          "Type: contracts<br>Text: ## Features\n1. **AI-Powered Risk Assessment**: Utilized for tailored underwriting decisions specific...",
          "Type: contracts<br>Text: 5. **Multi-Channel Integration**: Seamless access to customer data through existing systems in Pinna...",
          "Type: contracts<br>Text: ## Support\n1. **Technical Support**: Insurellm shall provide 24/7 technical support via an email and...",
          "Type: contracts<br>Text: ____  \n**Insurellm Authorized Signature**  \nName: Sarah Johnson  \nTitle: VP of Sales  \nDate: _______...",
          "Type: contracts<br>Text: # Contract with Premier Adjusters Inc. for Claimllm\n\n---\n\n## Terms...",
          "Type: contracts<br>Text: 1. **Agreement Effective Date**: This contract is effective as of February 15, 2025.\n2. **Duration**...",
          "Type: contracts<br>Text: 5. **Payment Terms**: Payments are due on the 5th of each month via wire transfer. Late payments wil...",
          "Type: contracts<br>Text: ---\n\n## Renewal\n\n1. **Automatic Renewal**: This agreement will automatically renew for an additional...",
          "Type: contracts<br>Text: 1. **Access to Advanced Tier Features**: Premier Adjusters Inc. will have access to comprehensive cl...",
          "Type: contracts<br>Text: - Payment Automation for approved claims with multi-party splitting\n   - Claimant Communication Hub ...",
          "Type: contracts<br>Text: 2. **Computer Vision Capabilities:**\n   - Automated vehicle damage assessment from photos (dents, sc...",
          "Type: contracts<br>Text: 4. **Vendor Network:**\n   - Support for 200+ preferred vendors (repair shops, medical providers, att...",
          "Type: contracts<br>Text: 2. **Training**: Comprehensive training program:\n   - 4-week implementation with on-site support (fi...",
          "Type: contracts<br>Text: 4. **Account Management**:\n   - Named Customer Success Manager with weekly check-ins (first 90 days)...",
          "Type: contracts<br>Text: 6. **Data and Analytics:**\n   - Custom dashboard development (up to 5 dashboards)\n   - Monthly data ...",
          "Type: contracts<br>Text: # Contract with Rapid Claims Associates for Claimllm\n\n**Contract Date:** March 1, 2025\n**Contract Nu...",
          "Type: contracts<br>Text: 4. **Overage Fees:** If claims volume exceeds 5,000 annually, overage fees of $0.90 per claim apply,...",
          "Type: contracts<br>Text: 7. **Liability:** Insurellm's liability is limited to direct damages not exceeding total fees paid i...",
          "Type: contracts<br>Text: 2. **Automated Triage and Routing:** Machine learning algorithms assess claim severity and complexit...",
          "Type: contracts<br>Text: 5. **Claimant Communication Hub:** Automated status updates via:\n   - SMS text messages\n   - Email n...",
          "Type: contracts<br>Text: ---\n\n## Support\n\nInsurellm commits to providing comprehensive support to Rapid Claims Associates:\n\n1...",
          "Type: contracts<br>Text: 3. **Platform Updates:**\n   - Quarterly feature releases with new capabilities\n   - Monthly security...",
          "Type: contracts<br>Text: ---\n\n**Signatures:**\n\n_________________________________\n**Sarah Chen**\n**Title**: Vice President of ...",
          "Type: contracts<br>Text: # Contract with Roadway Insurance Inc. for Carllm\n\n---\n\n## Terms\n\n1. **Agreement Effective Date**: T...",
          "Type: contracts<br>Text: ---\n\n## Renewal\n\n1. **Automatic Renewal**: This agreement will automatically renew for an additional...",
          "Type: contracts<br>Text: ---\n\n## Features\n\n1. **Access to Core Features**: Roadway Insurance Inc. will have access to all Pro...",
          "Type: contracts<br>Text: ---\n\n## Support\n\n1. **Technical Support**: Roadway Insurance Inc. will receive priority technical su...",
          "Type: contracts<br>Text: # Contract with SafeHaven Property Insurance for Homellm\n\n**Contract Date:** May 3, 2025\n**Contract ...",
          "Type: contracts<br>Text: 2. **Duration:** This agreement is effective for a period of 36 months from the contract date.\n\n3. *...",
          "Type: contracts<br>Text: 6. **Confidentiality:** Both parties agree to maintain strict confidentiality of proprietary algorit...",
          "Type: contracts<br>Text: 1. **Unlimited Policy Administration:** Full support for SafeHaven's 45,000+ policies with scalabili...",
          "Type: contracts<br>Text: 3. **Advanced AI Risk Assessment:** Enterprise-grade property risk analysis:\n   - Aerial imagery ana...",
          "Type: contracts<br>Text: 4. **Dynamic Pricing Model:** Sophisticated pricing engine:\n   - Real-time rate optimization across ...",
          "Type: contracts<br>Text: 6. **Predictive Maintenance Alerts:** IoT-powered risk prevention:\n   - Integration with smart home ...",
          "Type: contracts<br>Text: 8. **Customer Portal:** Comprehensive self-service:\n   - 24/7 policy access and document retrieval\n ...",
          "Type: contracts<br>Text: 10. **Complete API Access:** Unlimited API calls:\n    - Integration with SafeHaven's core systems\n  ...",
          "Type: contracts<br>Text: 12. **Catastrophe Management:** Disaster response tools:\n    - Pre-CAT modeling and exposure managem...",
          "Type: contracts<br>Text: 2. **24/7/365 Premium Support:**\n   - 20-minute response time for P1 critical issues\n   - 1-hour res...",
          "Type: contracts<br>Text: 4. **Training and Enablement:**\n   - Comprehensive role-based training programs\n   - Underwriter cer...",
          "Type: contracts<br>Text: 5. **Custom Development:**\n   - 1,200 hours annually of custom development\n   - Dedicated developmen...",
          "Type: contracts<br>Text: 6. **Integration Services:**\n   - Enterprise integration with SafeHaven's systems:\n     - Duck Creek...",
          "Type: contracts<br>Text: 7. **Analytics and Reporting:**\n   - Custom dashboard development (up to 20 dashboards)\n   - Real-ti...",
          "Type: contracts<br>Text: 9. **Catastrophe Response:**\n   - Dedicated CAT support during disaster events\n   - Pre-CAT system p...",
          "Type: contracts<br>Text: _________________________________\n**Jennifer Rodriguez**\n**Title**: Chief Executive Officer\n**Insure...",
          "Type: contracts<br>Text: # Contract with Stellar Insurance Co. for Rellm\n\n## Terms\nThis contract is made between **Insurellm*...",
          "Type: contracts<br>Text: ### Payment Terms\nStellar Insurance Co. agrees to pay Insurellm a monthly subscription fee of **$10,...",
          "Type: contracts<br>Text: ## Features\nStellar Insurance Co. will receive access to the following features of the Rellm product...",
          "Type: contracts<br>Text: ## Support\nInsurellm provides Stellar Insurance Co. with the following support services:\n\n- **24/7 T...",
          "Type: contracts<br>Text: **For Insurellm**  \n______________________________  \n[Signature]  \n[Name, Title]  \n[Date]  \n\n**For S...",
          "Type: contracts<br>Text: # Contract with Summit Commercial Insurance for Bizllm\n\n**Contract Date:** March 15, 2025\n**Contract...",
          "Type: contracts<br>Text: 3. **Payment:** Summit Commercial Insurance shall pay a monthly fee of $6,000, due by the 1st of eve...",
          "Type: contracts<br>Text: ---\n\n## Renewal\n\nUnless either party provides a written notice of termination at least 45 days prior...",
          "Type: contracts<br>Text: 3. **Commercial Property Evaluation:** Advanced property risk modeling incorporating location data, ...",
          "Type: contracts<br>Text: ---\n\n## Support\n\nInsurellm commits to providing comprehensive support to Summit Commercial Insurance...",
          "Type: contracts<br>Text: 4. **Integration Assistance:** Technical support for integrating Bizllm with Summit's existing polic...",
          "Type: contracts<br>Text: # Contract with TechDrive Insurance for Carllm\n\n**Contract Date:** October 1, 2024  \n**Contract Dura...",
          "Type: contracts<br>Text: **Contract Date:** October 1, 2024  \n**Contract Duration:** 12 months\n\n---\n\n## Terms\n\n1. **Parties I...",
          "Type: contracts<br>Text: ## Renewal\n\n1. **Automatic Renewal**: This contract shall automatically renew for additional one-yea...",
          "Type: contracts<br>Text: 2. **System Requirements**: TechDrive Insurance must ensure that their existing systems meet the tec...",
          "Type: contracts<br>Text: 3. **System Updates**: The Provider will push regular updates to improve system performance and add ...",
          "Type: contracts<br>Text: # Contract with United Healthcare Alliance for Healthllm\n\n**Contract Date:** May 15, 2025\n**Contract...",
          "Type: contracts<br>Text: 3. **Payment:** United Healthcare Alliance shall pay custom Enterprise Tier pricing of $52,000 per m...",
          "Type: contracts<br>Text: 6. **Security and Compliance:** Insurellm commits to maintaining HIPAA compliance, HITRUST certifica...",
          "Type: contracts<br>Text: ---\n\n## Features\n\nUnited Healthcare Alliance will receive the complete Healthllm Enterprise suite wi...",
          "Type: contracts<br>Text: 3. **White-Label Platform:** Complete branding customization:\n   - Custom domains (members.unitedhea...",
          "Type: contracts<br>Text: 5. **Population Health Management:** Comprehensive analytics for value-based care:\n   - Real-time ri...",
          "Type: contracts<br>Text: 6. **Complete API Access:** Unlimited API calls supporting:\n   - Real-time integration with United's...",
          "Type: contracts<br>Text: 7. **Advanced Provider Network Management:**\n   - Credentialing and re-credentialing for 15,000+ pro...",
          "Type: contracts<br>Text: 8. **Comprehensive Medication Management:**\n   - Multi-tier formulary management (national and state...",
          "Type: contracts<br>Text: 9. **Member Engagement Suite:**\n   - Omnichannel communication platform (SMS, email, push, voice)\n  ...",
          "Type: contracts<br>Text: 10. **Quality and Performance Management:**\n    - HEDIS measure calculation and reporting\n    - STAR...",
          "Type: contracts<br>Text: 11. **Advanced Analytics and Business Intelligence:**\n    - Real-time operational dashboards for all...",
          "Type: contracts<br>Text: 12. **Regulatory Compliance and Reporting:**\n    - ACA compliance monitoring (MLR, essential health ...",
          "Type: contracts<br>Text: ---\n\n## Support\n\nInsurellm commits to comprehensive Enterprise-level support for United Healthcare A...",
          "Type: contracts<br>Text: 2. **24/7/365 Premium Support:**\n   - Guaranteed 10-minute response for P1 critical issues\n   - 30-m...",
          "Type: contracts<br>Text: 3. **Comprehensive Implementation:**\n   - 18-month phased implementation program with 4 major go-liv...",
          "Type: contracts<br>Text: 4. **Training and Enablement:**\n   - Comprehensive role-based training programs for all staff\n   - E...",
          "Type: contracts<br>Text: 5. **Custom Development:**\n   - 3,000 hours annually of custom development included\n   - Dedicated d...",
          "Type: contracts<br>Text: 6. **Integration Services:**\n   - Enterprise integration with United's complex system landscape:\n   ...",
          "Type: contracts<br>Text: 7. **Analytics and Reporting:**\n   - Custom dashboard development (unlimited)\n   - Real-time operati...",
          "Type: contracts<br>Text: 8. **Compliance and Regulatory Support:**\n   - Monthly compliance reviews with detailed documentatio...",
          "Type: contracts<br>Text: 9. **Continuous Improvement:**\n   - Bi-weekly process optimization workshops\n   - Quarterly efficien...",
          "Type: contracts<br>Text: ---\n\n**Signatures:**\n\n_________________________________\n**Jennifer Rodriguez**\n**Title**: Chief Exec...",
          "Type: contracts<br>Text: # Contract with Velocity Auto Solutions for Carllm\n\n**Contract Date:** October 1, 2023  \n**Contract ...",
          "Type: contracts<br>Text: ---\n\n## Terms\n\n1. **Duration**: This contract is effective for a period of 12 months from the contra...",
          "Type: contracts<br>Text: ## Renewal\n\n1. **Automatic Renewal**: This contract will automatically renew for successive 12-month...",
          "Type: contracts<br>Text: 2. **Feature Enhancements**: Velocity Auto Solutions will receive updates to the Carllm product as o...",
          "Type: contracts<br>Text: ---\n\n**Accepted and Agreed:**  \n**For Velocity Auto Solutions**  \nSignature: _____________________  ...",
          "Type: contracts<br>Text: # Contract with WellCare Insurance Co. for Healthllm\n\n**Contract Date:** March 8, 2025\n**Contract Nu...",
          "Type: contracts<br>Text: 3. **Payment:** WellCare Insurance Co. shall pay a monthly fee of $8,000, due by the 1st of every mo...",
          "Type: contracts<br>Text: 7. **Liability:** Insurellm's liability is limited to direct damages not exceeding the total fees pa...",
          "Type: contracts<br>Text: ---\n\n## Features\n\nWellCare Insurance Co. will receive the following Essential Tier features:\n\n1. **I...",
          "Type: contracts<br>Text: 3. **AI-Driven Claims Adjudication:** Automated claims processing:\n   - Machine learning-based claim...",
          "Type: contracts<br>Text: 5. **Member Engagement Platform:** Mobile-first member portal:\n   - Digital ID cards\n   - Claims sta...",
          "Type: contracts<br>Text: 8. **Standard Analytics:** Dashboards tracking:\n   - Claims volume and processing time\n   - Medical ...",
          "Type: contracts<br>Text: 2. **Technical Support:**\n   - Email and phone support Monday-Friday 7 AM - 7 PM EST\n   - Response t...",
          "Type: contracts<br>Text: 5. **Compliance Support:**\n   - Annual HIPAA compliance review\n   - Regulatory update notifications\n...",
          "Type: contracts<br>Text: ---\n\nThis agreement enables WellCare Insurance Co. to modernize their health insurance operations wi...",
          "Type: employees<br>Text: # HR Record\n\n# Alex Chen\n\n## Summary\n- **Date of Birth:** March 15, 1990\n- **Job Title:** Backend So...",
          "Type: employees<br>Text: ## Annual Performance History\n- **2020:**  \n  - Completed onboarding successfully.  \n  - Met expecta...",
          "Type: employees<br>Text: ## Compensation History\n- **2020:** Base Salary: $80,000  \n- **2021:** Base Salary Increase to $90,0...",
          "Type: employees<br>Text: ## Other HR Notes\n- Participates regularly in Insurellm's Diversity & Inclusion initiatives, champio...",
          "Type: employees<br>Text: # HR Record\n\n# Alex Harper\n\n## Summary\n- **Date of Birth**: March 15, 1993\n- **Job Title**: Sales De...",
          "Type: employees<br>Text: ## Insurellm Career Progression\n- **July 2021**: Joined Insurellm as a Sales Development Representat...",
          "Type: employees<br>Text: ## Annual Performance History  \n- **2021**:  \n  - **Performance Rating**: 4.5/5  \n  - **Key Achievem...",
          "Type: employees<br>Text: ## Compensation History  \n- **2021**:  \n  - **Base Salary**: $55,000  \n  - **Bonus**: $5,500 (10% of...",
          "Type: employees<br>Text: - **Awards**:  \n  - Insurellm \"SDR of the Year\" Award (2022)  \n  - Monthly MVP Recognition (3 times ...",
          "Type: employees<br>Text: # HR Record\n\n# Alex Thomson\n\n## Summary\n- **Date of Birth:** March 15, 1995\n- **Job Title:** Sales D...",
          "Type: employees<br>Text: ## Insurellm Career Progression\n- **November 2022** - Joined Insurellm as a Sales Development Repres...",
          "Type: employees<br>Text: ## Annual Performance History  \n- **2022** - Rated as \"Exceeds Expectations.\" Alex Thomson achieved ...",
          "Type: employees<br>Text: ## Compensation History\n- **2022**: Base Salary - $55,000 | Bonus - $5,000  \n- **2023**: Base Salary...",
          "Type: employees<br>Text: ## Other HR Notes\n- Alex Thomson is an active member of the Diversity and Inclusion committee at Ins...",
          "Type: employees<br>Text: # HR Record\n\n# Amanda Foster\n\n## Summary\n- **Date of Birth:** August 14, 1982\n- **Job Title:** HR Bu...",
          "Type: employees<br>Text: - **June 2009 - February 2013:** HR Coordinator at Enterprise Corp.\n  - Supported recruiting and onb...",
          "Type: employees<br>Text: - **2021:** Rating: 4.0/5\n  *Good performance. Managed challenging employee situations effectively. ...",
          "Type: employees<br>Text: - **2016:** Rating: 3.8/5\n  *Good onboarding. Quick to understand business needs and HR priorities.*...",
          "Type: employees<br>Text: ## Other HR Notes\n- **Education:** MS in Human Resources Management from Cornell University, BA in P...",
          "Type: employees<br>Text: # Avery Lancaster\n\n## Summary\n- **Date of Birth**: March 15, 1985\n- **Job Title**: Co-Founder & Chie...",
          "Type: employees<br>Text: - **2013 - 2015**: Senior Product Manager at Innovate Insurance Solutions  \n  Before launching Insur...",
          "Type: employees<br>Text: - **2016**: **Meets Expectations**  \n  Growth continued, though challenges arose in operational effi...",
          "Type: employees<br>Text: - **2020**: **Below Expectations**  \n  The COVID-19 pandemic posed unforeseen operational difficulti...",
          "Type: employees<br>Text: - **2023**: **Exceeds Expectations**  \n  Market leadership was regained with innovative approaches t...",
          "Type: employees<br>Text: ## Compensation History\n- **2015**: $150,000 base salary + Significant equity stake  \n- **2016**: $1...",
          "Type: employees<br>Text: ## Other HR Notes\n- **Professional Development**: Avery has actively participated in leadership trai...",
          "Type: employees<br>Text: Avery Lancaster has demonstrated resilience and adaptability throughout her career at Insurellm, pos...",
          "Type: employees<br>Text: # HR Record\n\n# Brandon Walker\n\n## Summary\n- **Date of Birth:** December 5, 1993\n- **Job Title:** Tec...",
          "Type: employees<br>Text: - **January 2018 - April 2019:** IT Help Desk Technician at Regional Bank\n  - Provided internal IT s...",
          "Type: employees<br>Text: - **2021:** Rating: 3.6/5\n  *Adequate performance for a new hire. Good technical skills but needs to...",
          "Type: employees<br>Text: ## Other HR Notes\n- **Education:** Associate Degree in Information Technology from Phoenix Community...",
          "Type: employees<br>Text: # HR Record\n\n# Carlos Rodriguez\n\n## Summary\n- **Date of Birth:** October 12, 1989\n- **Job Title:** S...",
          "Type: employees<br>Text: - **January 2015 - February 2017:** Application Developer at FinTech Systems\n  - Developed financial...",
          "Type: employees<br>Text: - **2020:** Rating: 3.9/5\n  *Good performance during challenging remote transition. Some gaps in pro...",
          "Type: employees<br>Text: ## Other HR Notes\n- **Education:** MS in Computer Science from University of Florida\n- **Certificati...",
          "Type: employees<br>Text: # HR Record\n\n# Daniel Park\n\n## Summary\n- **Date of Birth:** October 3, 1991\n- **Job Title:** QA Engi...",
          "Type: employees<br>Text: - **July 2016 - April 2018:** Junior QA Tester at AppQuality Corp.\n  - Conducted manual testing and ...",
          "Type: employees<br>Text: - **2020:** Rating: 3.7/5\n  *Adequate performance in first year. Building knowledge of products and ...",
          "Type: employees<br>Text: ## Other HR Notes\n- **Education:** BS in Computer Science from Texas State University\n- **Certificat...",
          "Type: employees<br>Text: # HR Record\n\n# David Kim\n\n## Summary\n- **Date of Birth:** September 22, 1992\n- **Job Title:** DevOps...",
          "Type: employees<br>Text: - **June 2017 - February 2019:** Systems Administrator at CloudFirst Solutions\n  - Maintained Linux ...",
          "Type: employees<br>Text: - **2021:** Rating: 4.0/5\n  *Solid first year as DevOps Engineer. Quick learner who adapted well to ...",
          "Type: employees<br>Text: ## Other HR Notes\n- **Certifications:** AWS Certified Solutions Architect (2022), Certified Kubernet...",
          "Type: employees<br>Text: # HR Record\n\n# Emily Carter\n\n## Summary\n- **Date of Birth:** August 12, 1990\n- **Job Title:** Accoun...",
          "Type: employees<br>Text: ## Insurellm Career Progression\n- **2021-Present:** Account Executive  \n  - Responsibilities include...",
          "Type: employees<br>Text: - **2017-2019:** Marketing Intern  \n  - Assisted with market research and campaign development for s...",
          "Type: employees<br>Text: ## Compensation History\n| Year | Base Salary | Bonus         | Total Compensation |\n|------|--------...",
          "Type: employees<br>Text: ## Other HR Notes\n- **Professional Development:** Emily is currently enrolled in a leadership traini...",
          "Type: employees<br>Text: # HR Record\n\n# Emily Tran\n\n## Summary\n- **Date of Birth:** March 18, 1991\n- **Job Title:** Digital M...",
          "Type: employees<br>Text: - **June 2018 - January 2020**: Marketing Coordinator  \n  - Assisted in the development and executio...",
          "Type: employees<br>Text: ---\n\n## Annual Performance History\n- **2023**:  \n  - Performance Rating: Exceeds Expectations  \n  - ...",
          "Type: employees<br>Text: ---\n\n## Compensation History\n- **2023**:  \n  - Base Salary: $75,000  \n  - Bonus: $10,000 for exceedi...",
          "Type: employees<br>Text: - **Hobbies**:  \n  - Emily enjoys photography and regularly contributes to Insurellm's social media ...",
          "Type: employees<br>Text: # HR Record\n\n# James Wilson\n\n## Summary\n- **Date of Birth:** April 5, 1978\n- **Job Title:** Chief Te...",
          "Type: employees<br>Text: - **March 2012 - December 2016:** VP of Engineering at TechScale Inc.\n  - Built and scaled engineeri...",
          "Type: employees<br>Text: ## Annual Performance History\n- **2023:** Rating: 4.9/5\n  *Outstanding performance. Successfully led...",
          "Type: employees<br>Text: - **2020:** Rating: 4.4/5\n  *Strong performance during challenging year. Successfully pivoted techno...",
          "Type: employees<br>Text: - **2017:** Rating: 4.3/5\n  *Strong start as CTO. Quickly assessed technical landscape and began str...",
          "Type: employees<br>Text: ## Other HR Notes\n- **Education:** MS in Computer Science from MIT, BS in Computer Engineering from ...",
          "Type: employees<br>Text: - **Strategic Impact:** Transformed Insurellm's technology from legacy systems to modern cloud-nativ...",
          "Type: employees<br>Text: # HR Record\n\n# Jennifer Adams\n\n## Summary\n- **Date of Birth:** July 7, 1997\n- **Job Title:** Sales D...",
          "Type: employees<br>Text: - **August 2019 - May 2022:** Customer Service Representative at RetailCo\n  - Handled customer inqui...",
          "Type: employees<br>Text: ## Other HR Notes\n- **Education:** BA in Business Administration from University of Denver (graduate...",
          "Type: employees<br>Text: # HR Record\n\n# Jessica Liu\n\n## Summary\n- **Date of Birth:** April 30, 1996\n- **Job Title:** Frontend...",
          "Type: employees<br>Text: - **June 2018 - December 2019:** Web Developer Intern at StartupLabs\n  - Created landing pages and m...",
          "Type: employees<br>Text: - **2020:** Rating: 3.8/5\n  *Good start as Junior Developer. Eager to learn and receptive to feedbac...",
          "Type: employees<br>Text: ## Other HR Notes\n- **Education:** BS in Computer Science from University of Washington\n- **Skills:*...",
          "Type: employees<br>Text: # HR Record\n\n# Jordan Blake\n\n## Summary\n- **Date of Birth:** March 15, 1993\n- **Job Title:** Sales D...",
          "Type: employees<br>Text: ## Annual Performance History\n- **2021:** First year at Insurellm; achieved 90% of monthly targets. ...",
          "Type: employees<br>Text: ## Compensation History\n- **2021-06:** Starting Salary: $50,000  \n- **2022-04:** Merit-based increas...",
          "Type: employees<br>Text: ## Other HR Notes\n- Jordan has shown an interest in continuing education, actively participating in ...",
          "Type: employees<br>Text: # HR Record\n\n# Jordan K. Bishop\n\n## Summary\n- **Date of Birth:** March 15, 1990\n- **Job Title:** Fro...",
          "Type: employees<br>Text: ## Insurellm Career Progression\n- **June 2018:** Hired as a Frontend Software Engineer.\n- **August 2...",
          "Type: employees<br>Text: ## Annual Performance History\n- **2019:** Exceeds Expectations - Continuously delivered high-quality...",
          "Type: employees<br>Text: ## Compensation History\n- **June 2018:** Starting Salary - $85,000\n- **June 2019:** Salary Increase ...",
          "Type: employees<br>Text: ## Other HR Notes\n- Jordan K. Bishop has been an integral part of club initiatives, including the In...",
          "Type: employees<br>Text: # HR Record\n\n# Kevin Zhang\n\n## Summary\n- **Date of Birth:** March 27, 1990\n- **Job Title:** Mobile D...",
          "Type: employees<br>Text: - **July 2015 - January 2018:** Junior Mobile Developer at StartupTech\n  - Built mobile features for...",
          "Type: employees<br>Text: - **2020:** Rating: 4.0/5\n  *Good first year at Insurellm. Quick to learn insurance domain and contr...",
          "Type: employees<br>Text: ## Other HR Notes\n- **Education:** BS in Computer Science from UC Berkeley\n- **Skills:** Expert in S...",
          "Type: employees<br>Text: # HR Record\n\n# Lisa Anderson\n\n## Summary\n- **Date of Birth:** November 18, 1985\n- **Job Title:** Mar...",
          "Type: employees<br>Text: - **June 2012 - December 2015:** Marketing Coordinator at Enterprise Solutions\n  - Supported marketi...",
          "Type: employees<br>Text: - **2020:** Rating: 3.8/5\n  *Good performance during challenging pandemic year. Adapted marketing st...",
          "Type: employees<br>Text: ## Other HR Notes\n- **Education:** MBA in Marketing from University of Texas at Austin, BA in Commun...",
          "Type: employees<br>Text: # HR Record\n\n# Marcus Johnson\n\n## Summary\n- **Date of Birth:** February 17, 1988\n- **Job Title:** Cu...",
          "Type: employees<br>Text: - **January 2016 - August 2018:** Account Manager at SaaS Solutions Inc.\n  - Managed B2B client rela...",
          "Type: employees<br>Text: - **2020:** Rating: 4.0/5\n  *Good transition to CSM role. Quickly built rapport with enterprise clie...",
          "Type: employees<br>Text: ## Other HR Notes\n- **Education:** BA in Business Administration from NYU Stern School of Business\n-...",
          "Type: employees<br>Text: # HR Record\n\n# Maxine Thompson\n\n## Summary\n- **Date of Birth:** January 15, 1991\n- **Job Title:** Da...",
          "Type: employees<br>Text: ## Insurellm Career Progression\n- **January 2017 - October 2018**: **Junior Data Engineer**  \n  * Ma...",
          "Type: employees<br>Text: - **January 2021 - Present**: **Senior Data Engineer**  \n  * Maxine was promoted to Senior Data Engi...",
          "Type: employees<br>Text: ## Annual Performance History\n- **2017**: *Meets Expectations*  \n  Maxine showed potential in her ro...",
          "Type: employees<br>Text: - **2020**: *Meets Expectations*  \n  Maxine focused on regaining her footing and excelling with tech...",
          "Type: employees<br>Text: - **2023**: *Exceeds Expectations*  \n  Maxine has taken on mentoring responsibilities and is leading...",
          "Type: employees<br>Text: ## Other HR Notes\n- Maxine participated in various company-sponsored trainings related to big data t...",
          "Type: employees<br>Text: # HR Record\n\n# Maya Thompson\n\n## Summary\n- **Date of Birth:** June 14, 1993\n- **Job Title:** Data En...",
          "Type: employees<br>Text: - **June 2017 - June 2019:** Data Analyst at Analytics Corp.\n  - Analyzed business data and created ...",
          "Type: employees<br>Text: ## Other HR Notes\n- **Education:** MS in Data Science from Columbia University, BS in Mathematics fr...",
          "Type: employees<br>Text: # HR Record\n\n# Michael O'Brien\n\n## Summary\n- **Date of Birth:** May 20, 1984\n- **Job Title:** Accoun...",
          "Type: employees<br>Text: - **August 2010 - May 2014:** Sales Representative at Business Solutions Inc.\n  - B2B software sales...",
          "Type: employees<br>Text: - **2021:** Rating: 4.5/5\n  *Excellent year. Exceeded quota at 142%. Closed two major enterprise dea...",
          "Type: employees<br>Text: - **2017:** Rating: 3.5/5\n  *Good onboarding year. Learning curve with insurance industry specifics ...",
          "Type: employees<br>Text: ## Other HR Notes\n- **Education:** BA in Business from University of Illinois\n- **Awards:** Sales Ex...",
          "Type: employees<br>Text: # HR Record\n\n# Michelle Rivera\n\n## Summary\n- **Date of Birth:** December 16, 1988\n- **Job Title:** P...",
          "Type: employees<br>Text: - **May 2013 - July 2016:** UX Designer at CreativeAgency\n  - Created user interfaces for consumer a...",
          "Type: employees<br>Text: - **2020:** Rating: 4.1/5\n  *Good performance adapting to remote design collaboration. Maintained de...",
          "Type: employees<br>Text: ## Other HR Notes\n- **Education:** MFA in Interaction Design from School of Visual Arts, BFA in Grap...",
          "Type: employees<br>Text: # HR Record\n\n# Nina Patel\n\n## Summary\n- **Date of Birth:** July 25, 1991\n- **Job Title:** Business I...",
          "Type: employees<br>Text: - **May 2017 - July 2019:** Data Analyst at RetailMetrics Inc.\n  - Analyzed retail sales data and cu...",
          "Type: employees<br>Text: - **2020:** Rating: 4.0/5\n  *Strong performance as Junior Analyst. Showed initiative and eagerness t...",
          "Type: employees<br>Text: ## Other HR Notes\n- **Education:** BS in Statistics from University of Illinois at Chicago\n- **Skill...",
          "Type: employees<br>Text: # HR Record\n\n# Oliver Spencer\n\n## Summary\n- **Date of Birth**: May 14, 1990\n- **Job Title**: Backend...",
          "Type: employees<br>Text: ## Insurellm Career Progression\n- **March 2018**: Joined Insurellm as a Backend Developer I, focusin...",
          "Type: employees<br>Text: ## Annual Performance History\n- **2018**: **3/5** - Adaptable team player but still learning to take...",
          "Type: employees<br>Text: ## Compensation History\n- **March 2018**: Initial salary of $80,000.\n- **July 2019**: Salary increas...",
          "Type: employees<br>Text: ## Other HR Notes\n- Oliver enjoys a strong rapport with team members and is known for organizing reg...",
          "Type: employees<br>Text: # HR Record\n\n# Priya Sharma\n\n## Summary\n- **Date of Birth:** January 8, 1986\n- **Job Title:** Senior...",
          "Type: employees<br>Text: - **August 2012 - May 2015:** Research Scientist at UC Berkeley AI Lab\n  - Conducted research in mac...",
          "Type: employees<br>Text: - **2020:** Rating: 4.3/5\n  *Strong performance despite remote transition challenges. Maintained hig...",
          "Type: employees<br>Text: ## Other HR Notes\n- **Education:** PhD in Computer Science (Machine Learning) from Stanford Universi...",
          "Type: employees<br>Text: # HR Record\n\n# Rachel Martinez\n\n## Summary\n- **Date of Birth:** June 8, 1987\n- **Job Title:** Produc...",
          "Type: employees<br>Text: - **June 2015 - December 2016:** Business Analyst at TechInsure Corp\n  - Analyzed market trends and ...",
          "Type: employees<br>Text: - **2021:** Rating: 4.8/5\n  *Outstanding performance. Led product redesign that reduced customer chu...",
          "Type: employees<br>Text: ## Other HR Notes\n- **Professional Development:** Completed Product Leadership Certification from Pr...",
          "Type: employees<br>Text: # HR Record\n\n# Robert Chen\n\n## Summary\n- **Date of Birth:** February 28, 1983\n- **Job Title:** Senio...",
          "Type: employees<br>Text: - **August 2008 - May 2012:** Software Engineer at TechStartup\n  - Developed features for SaaS platf...",
          "Type: employees<br>Text: - **2020:** Rating: 4.2/5\n  *Good performance maintaining productivity during remote transition. Sup...",
          "Type: employees<br>Text: - **2016:** Rating: 4.0/5\n  *Strong start at Insurellm. Quick to learn domain and contribute effecti...",
          "Type: employees<br>Text: ## Other HR Notes\n- **Education:** MS in Computer Science from Stanford University, BS in Computer E...",
          "Type: employees<br>Text: # Samantha Greene\n\n## Summary\n- **Date of Birth:** October 14, 1990\n- **Job Title:** HR Generalist\n-...",
          "Type: employees<br>Text: ## Insurellm Career Progression\n- **2020** - Joined Insurellm as a HR Coordinator\n  - Responsibiliti...",
          "Type: employees<br>Text: ## Annual Performance History\n- **2020:** Exceeds Expectations  \n  Samantha Greene demonstrated exce...",
          "Type: employees<br>Text: - **2023:** Meets Expectations  \n  After attending workshops focused on conflict resolution, Samanth...",
          "Type: employees<br>Text: - **2023:** Base Salary - $70,000  \n  Recognized for substantial improvement in employee relations m...",
          "Type: employees<br>Text: # HR Record\n\n# Samuel Trenton\n\n## Summary\n- **Date of Birth:** April 12, 1989\n- **Job Title:** Senio...",
          "Type: employees<br>Text: - **August 2016 - May 2018:** Junior Data Analyst  \n  *Started at Insurellm as a Junior Data Analyst...",
          "Type: employees<br>Text: - **2021:** Rating: 4.0/5  \n  *There was notable improvement in performance. Worked to enhance model...",
          "Type: employees<br>Text: - **2021:** Base Salary: $105,000 + Bonus: $12,000  \n  *Merit-based increase, reflecting consistent ...",
          "Type: employees<br>Text: - **Areas for Improvement:** Collaboration with engineering teams has been noted as an area needing ...",
          "Type: employees<br>Text: # HR Record\n\n# Sarah Williams\n\n## Summary\n- **Date of Birth:** November 3, 1994\n- **Job Title:** UX ...",
          "Type: employees<br>Text: - **August 2018 - May 2020:** UI/UX Designer at StartupHub Inc.\n  - Designed mobile and web interfac...",
          "Type: employees<br>Text: - **2020:** Rating: 4.2/5\n  *Solid performance as Junior Designer. Quick to learn Insurellm's design...",
          "Type: employees<br>Text: ## Other HR Notes\n- **Education:** BFA in Graphic Design from Rhode Island School of Design\n- **Skil...",
          "Type: employees<br>Text: # HR Record\n\n# Tyler Brooks\n\n## Summary\n- **Date of Birth:** September 9, 1998\n- **Job Title:** Juni...",
          "Type: employees<br>Text: ## Annual Performance History\n- **2023:** Rating: 3.2/5\n  *Meets basic expectations. Shows potential...",
          "Type: employees<br>Text: ## Other HR Notes\n- **Education:** BS in Computer Science from University of Texas at Austin (gradua...",
          "Type: products<br>Text: # Product Summary\n\n# Bizllm\n\n## Summary\n\nBizllm is Insurellm's enterprise-grade commercial insurance...",
          "Type: products<br>Text: ## Features\n\n### 1. Multi-Line Underwriting Engine\nBizllm's sophisticated underwriting platform hand...",
          "Type: products<br>Text: ### 3. Cyber Risk Assessment\nSpecialized cyber insurance capabilities include automated evaluation o...",
          "Type: products<br>Text: ### 5. Commercial Property Evaluation\nAdvanced property risk modeling incorporates location data, bu...",
          "Type: products<br>Text: ### 7. Portfolio Management Dashboard\nComprehensive analytics provide insurers with portfolio-level ...",
          "Type: products<br>Text: ## Pricing\n\nBizllm's pricing structure reflects the complexity and value of commercial insurance ope...",
          "Type: products<br>Text: - **Q2 2025:** Launch of Bizllm version 1.0 with core multi-line underwriting, quoting, and policy a...",
          "Type: products<br>Text: Bizllm empowers commercial insurers to compete effectively in complex markets while delivering the d...",
          "Type: products<br>Text: # Product Summary\n\n# Carllm\n\n## Summary\n\nCarllm is an innovative auto insurance product developed by...",
          "Type: products<br>Text: ## Features\n\n- **AI-Powered Risk Assessment**: Carllm leverages artificial intelligence to analyze d...",
          "Type: products<br>Text: - **Fraud Detection**: The product incorporates advanced analytics to identify potentially fraudulen...",
          "Type: products<br>Text: ## Pricing\n\nCarllm is offered under a subscription-based pricing model tailored to meet the needs of...",
          "Type: products<br>Text: Contact our sales team for a personalized quote and discover how Carllm can transform your auto insu...",
          "Type: products<br>Text: ### Q4 2025: AI and Machine Learning Upgrades\n- Implement next-gen machine learning models for predi...",
          "Type: products<br>Text: # Product Summary\n\n# Claimllm\n\n## Summary\n\nClaimllm is Insurellm's revolutionary claims processing p...",
          "Type: products<br>Text: ## Features\n\n### 1. Intelligent FNOL Processing\nClaimllm's AI-powered first notice of loss intake ca...",
          "Type: products<br>Text: ### 3. Computer Vision Damage Assessment\nAdvanced image recognition technology analyzes photos and v...",
          "Type: products<br>Text: ### 5. Smart Document Processing\nOptical character recognition and natural language processing autom...",
          "Type: products<br>Text: ### 7. Vendor Management Platform\nIntegrated tools coordinate with repair shops, medical providers, ...",
          "Type: products<br>Text: ### 10. Analytics and Reporting\nComprehensive dashboards track key metrics including cycle time, los...",
          "Type: products<br>Text: ## Pricing\n\nClaimllm offers flexible pricing models to accommodate insurers of all sizes:\n\n- **Core ...",
          "Type: products<br>Text: - **Q1 2025:** Launch of Claimllm version 1.0 with core claims processing automation, FNOL capture, ...",
          "Type: products<br>Text: - **Q1 2027:** Introduction of real-time settlement negotiation AI that optimizes settlement amounts...",
          "Type: products<br>Text: Claimllm represents the future of insurance claims—faster, smarter, and more customer-centric. Trans...",
          "Type: products<br>Text: # Product Summary\n\n# Healthllm\n\n## Summary\n\nHealthllm is Insurellm's comprehensive health insurance ...",
          "Type: products<br>Text: ## Features\n\n### 1. Intelligent Plan Design\nHealthllm's AI-powered tools help insurers create compet...",
          "Type: products<br>Text: ### 3. AI-Driven Claims Adjudication\nAutomated claims processing uses machine learning to review cla...",
          "Type: products<br>Text: ### 5. Provider Network Management\nComprehensive tools for managing provider relationships, contract...",
          "Type: products<br>Text: ### 7. Medication Management\nIntegration with pharmacy benefit managers enables formulary management...",
          "Type: products<br>Text: ## Pricing\n\nHealthllm offers tiered pricing to serve health insurers across the spectrum:\n\n- **Essen...",
          "Type: products<br>Text: ## Roadmap\n\nHealthllm's strategic development roadmap includes:\n\n- **Q1 2025:** Launch of Healthllm ...",
          "Type: products<br>Text: Healthllm represents Insurellm's commitment to transforming health insurance through technology that...",
          "Type: products<br>Text: # Product Summary\n\n# Homellm\n\n## Summary\nHomellm is an innovative home insurance product developed b...",
          "Type: products<br>Text: ## Features\n### 1. AI-Powered Risk Assessment\nHomellm utilizes sophisticated AI algorithms to analyz...",
          "Type: products<br>Text: ### 3. Instant Claim Processing\nThe AI-driven claims management system in Homellm automates the enti...",
          "Type: products<br>Text: ### 5. Multi-Channel Integration\nHomellm seamlessly integrates into existing insurance platforms, pr...",
          "Type: products<br>Text: - **Basic Tier:** Starting at $5,000/month for small insurers with basic integration features.\n- **S...",
          "Type: products<br>Text: ## Roadmap\nThe development roadmap for Homellm includes the following key milestones:\n\n- **Q1 2024:*...",
          "Type: products<br>Text: With Homellm, Insurellm is committed to transforming the landscape of home insurance, ensuring both ...",
          "Type: products<br>Text: # Product Summary\n\n# Lifellm\n\n## Summary\n\nLifellm is an advanced life insurance platform developed b...",
          "Type: products<br>Text: ## Features\n\n### 1. AI-Powered Underwriting\nLifellm's sophisticated AI engine analyzes health record...",
          "Type: products<br>Text: ### 3. Digital Health Integration\nLifellm seamlessly integrates with wearables and health tracking a...",
          "Type: products<br>Text: ### 5. Smart Document Processing\nLifellm utilizes natural language processing and optical character ...",
          "Type: products<br>Text: ## Pricing\n\nLifellm's flexible pricing structure accommodates insurance providers of all sizes:\n\n- *...",
          "Type: products<br>Text: ## Roadmap\n\nThe development roadmap for Lifellm includes these strategic milestones:\n\n- **Q2 2025:**...",
          "Type: products<br>Text: With Lifellm, Insurellm is transforming life insurance into a modern, customer-centric experience th...",
          "Type: products<br>Text: # Product Summary\n\n# Markellm\n\n## Summary\n\nMarkellm is an innovative two-sided marketplace designed ...",
          "Type: products<br>Text: ## Features\n\n- **AI-Powered Matching**: Markellm utilizes sophisticated AI algorithms to match consu...",
          "Type: products<br>Text: - **Customized Recommendations**: Based on user profiles and preferences, Markellm provides personal...",
          "Type: products<br>Text: ## Pricing\n\nAt Markellm, we believe in transparency and flexibility. Our pricing structure is design...",
          "Type: products<br>Text: ### For Insurance Companies:\n- **Basic Listing Fee**: $199/month for a featured listing on the platf...",
          "Type: products<br>Text: ### Q3 2025\n- Initiate a comprehensive marketing campaign targeting both consumers and insurers to i...",
          "Type: products<br>Text: # Product Summary\n\n# Rellm: AI-Powered Enterprise Reinsurance Solution\n\n## Summary\n\nRellm is an inno...",
          "Type: products<br>Text: ## Features\n\n### AI-Driven Analytics\nRellm utilizes cutting-edge AI algorithms to provide predictive...",
          "Type: products<br>Text: ### Risk Assessment Module\nThe comprehensive risk assessment module within Rellm allows insurers to ...",
          "Type: products<br>Text: ### Client and Broker Portals\nRellm offers dedicated portals for both clients and brokers, facilitat...",
          "Type: products<br>Text: Join the growing number of organizations leveraging Rellm to enhance their reinsurance processes whi...",
          "Type: products<br>Text: - **Q3 2026**: \n  - Release of a community platform for Rellm users to exchange insights, tips, and ..."
         ],
         "type": "scatter3d",
         "x": {
          "bdata": "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",
          "dtype": "f4"
         },
         "y": {
          "bdata": "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",
          "dtype": "f4"
         },
         "z": {
          "bdata": "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",
          "dtype": "f4"
         }
        }
       ],
       "layout": {
        "height": 700,
        "margin": {
         "b": 10,
         "l": 10,
         "r": 20,
         "t": 40
        },
        "scene": {
         "xaxis": {
          "title": {
           "text": "x"
          }
         },
         "yaxis": {
          "title": {
           "text": "y"
          }
         },
         "zaxis": {
          "title": {
           "text": "z"
          }
         }
        },
        "template": {
         "data": {
          "bar": [
           {
            "error_x": {
             "color": "#2a3f5f"
            },
            "error_y": {
             "color": "#2a3f5f"
            },
            "marker": {
             "line": {
              "color": "#E5ECF6",
              "width": 0.5
             },
             "pattern": {
              "fillmode": "overlay",
              "size": 10,
              "solidity": 0.2
             }
            },
            "type": "bar"
           }
          ],
          "barpolar": [
           {
            "marker": {
             "line": {
              "color": "#E5ECF6",
              "width": 0.5
             },
             "pattern": {
              "fillmode": "overlay",
              "size": 10,
              "solidity": 0.2
             }
            },
            "type": "barpolar"
           }
          ],
          "carpet": [
           {
            "aaxis": {
             "endlinecolor": "#2a3f5f",
             "gridcolor": "white",
             "linecolor": "white",
             "minorgridcolor": "white",
             "startlinecolor": "#2a3f5f"
            },
            "baxis": {
             "endlinecolor": "#2a3f5f",
             "gridcolor": "white",
             "linecolor": "white",
             "minorgridcolor": "white",
             "startlinecolor": "#2a3f5f"
            },
            "type": "carpet"
           }
          ],
          "choropleth": [
           {
            "colorbar": {
             "outlinewidth": 0,
             "ticks": ""
            },
            "type": "choropleth"
           }
          ],
          "contour": [
           {
            "colorbar": {
             "outlinewidth": 0,
             "ticks": ""
            },
            "colorscale": [
             [
              0,
              "#0d0887"
             ],
             [
              0.1111111111111111,
              "#46039f"
             ],
             [
              0.2222222222222222,
              "#7201a8"
             ],
             [
              0.3333333333333333,
              "#9c179e"
             ],
             [
              0.4444444444444444,
              "#bd3786"
             ],
             [
              0.5555555555555556,
              "#d8576b"
             ],
             [
              0.6666666666666666,
              "#ed7953"
             ],
             [
              0.7777777777777778,
              "#fb9f3a"
             ],
             [
              0.8888888888888888,
              "#fdca26"
             ],
             [
              1,
              "#f0f921"
             ]
            ],
            "type": "contour"
           }
          ],
          "contourcarpet": [
           {
            "colorbar": {
             "outlinewidth": 0,
             "ticks": ""
            },
            "type": "contourcarpet"
           }
          ],
          "heatmap": [
           {
            "colorbar": {
             "outlinewidth": 0,
             "ticks": ""
            },
            "colorscale": [
             [
              0,
              "#0d0887"
             ],
             [
              0.1111111111111111,
              "#46039f"
             ],
             [
              0.2222222222222222,
              "#7201a8"
             ],
             [
              0.3333333333333333,
              "#9c179e"
             ],
             [
              0.4444444444444444,
              "#bd3786"
             ],
             [
              0.5555555555555556,
              "#d8576b"
             ],
             [
              0.6666666666666666,
              "#ed7953"
             ],
             [
              0.7777777777777778,
              "#fb9f3a"
             ],
             [
              0.8888888888888888,
              "#fdca26"
             ],
             [
              1,
              "#f0f921"
             ]
            ],
            "type": "heatmap"
           }
          ],
          "histogram": [
           {
            "marker": {
             "pattern": {
              "fillmode": "overlay",
              "size": 10,
              "solidity": 0.2
             }
            },
            "type": "histogram"
           }
          ],
          "histogram2d": [
           {
            "colorbar": {
             "outlinewidth": 0,
             "ticks": ""
            },
            "colorscale": [
             [
              0,
              "#0d0887"
             ],
             [
              0.1111111111111111,
              "#46039f"
             ],
             [
              0.2222222222222222,
              "#7201a8"
             ],
             [
              0.3333333333333333,
              "#9c179e"
             ],
             [
              0.4444444444444444,
              "#bd3786"
             ],
             [
              0.5555555555555556,
              "#d8576b"
             ],
             [
              0.6666666666666666,
              "#ed7953"
             ],
             [
              0.7777777777777778,
              "#fb9f3a"
             ],
             [
              0.8888888888888888,
              "#fdca26"
             ],
             [
              1,
              "#f0f921"
             ]
            ],
            "type": "histogram2d"
           }
          ],
          "histogram2dcontour": [
           {
            "colorbar": {
             "outlinewidth": 0,
             "ticks": ""
            },
            "colorscale": [
             [
              0,
              "#0d0887"
             ],
             [
              0.1111111111111111,
              "#46039f"
             ],
             [
              0.2222222222222222,
              "#7201a8"
             ],
             [
              0.3333333333333333,
              "#9c179e"
             ],
             [
              0.4444444444444444,
              "#bd3786"
             ],
             [
              0.5555555555555556,
              "#d8576b"
             ],
             [
              0.6666666666666666,
              "#ed7953"
             ],
             [
              0.7777777777777778,
              "#fb9f3a"
             ],
             [
              0.8888888888888888,
              "#fdca26"
             ],
             [
              1,
              "#f0f921"
             ]
            ],
            "type": "histogram2dcontour"
           }
          ],
          "mesh3d": [
           {
            "colorbar": {
             "outlinewidth": 0,
             "ticks": ""
            },
            "type": "mesh3d"
           }
          ],
          "parcoords": [
           {
            "line": {
             "colorbar": {
              "outlinewidth": 0,
              "ticks": ""
             }
            },
            "type": "parcoords"
           }
          ],
          "pie": [
           {
            "automargin": true,
            "type": "pie"
           }
          ],
          "scatter": [
           {
            "fillpattern": {
             "fillmode": "overlay",
             "size": 10,
             "solidity": 0.2
            },
            "type": "scatter"
           }
          ],
          "scatter3d": [
           {
            "line": {
             "colorbar": {
              "outlinewidth": 0,
              "ticks": ""
             }
            },
            "marker": {
             "colorbar": {
              "outlinewidth": 0,
              "ticks": ""
             }
            },
            "type": "scatter3d"
           }
          ],
          "scattercarpet": [
           {
            "marker": {
             "colorbar": {
              "outlinewidth": 0,
              "ticks": ""
             }
            },
            "type": "scattercarpet"
           }
          ],
          "scattergeo": [
           {
            "marker": {
             "colorbar": {
              "outlinewidth": 0,
              "ticks": ""
             }
            },
            "type": "scattergeo"
           }
          ],
          "scattergl": [
           {
            "marker": {
             "colorbar": {
              "outlinewidth": 0,
              "ticks": ""
             }
            },
            "type": "scattergl"
           }
          ],
          "scattermap": [
           {
            "marker": {
             "colorbar": {
              "outlinewidth": 0,
              "ticks": ""
             }
            },
            "type": "scattermap"
           }
          ],
          "scattermapbox": [
           {
            "marker": {
             "colorbar": {
              "outlinewidth": 0,
              "ticks": ""
             }
            },
            "type": "scattermapbox"
           }
          ],
          "scatterpolar": [
           {
            "marker": {
             "colorbar": {
              "outlinewidth": 0,
              "ticks": ""
             }
            },
            "type": "scatterpolar"
           }
          ],
          "scatterpolargl": [
           {
            "marker": {
             "colorbar": {
              "outlinewidth": 0,
              "ticks": ""
             }
            },
            "type": "scatterpolargl"
           }
          ],
          "scatterternary": [
           {
            "marker": {
             "colorbar": {
              "outlinewidth": 0,
              "ticks": ""
             }
            },
            "type": "scatterternary"
           }
          ],
          "surface": [
           {
            "colorbar": {
             "outlinewidth": 0,
             "ticks": ""
            },
            "colorscale": [
             [
              0,
              "#0d0887"
             ],
             [
              0.1111111111111111,
              "#46039f"
             ],
             [
              0.2222222222222222,
              "#7201a8"
             ],
             [
              0.3333333333333333,
              "#9c179e"
             ],
             [
              0.4444444444444444,
              "#bd3786"
             ],
             [
              0.5555555555555556,
              "#d8576b"
             ],
             [
              0.6666666666666666,
              "#ed7953"
             ],
             [
              0.7777777777777778,
              "#fb9f3a"
             ],
             [
              0.8888888888888888,
              "#fdca26"
             ],
             [
              1,
              "#f0f921"
             ]
            ],
            "type": "surface"
           }
          ],
          "table": [
           {
            "cells": {
             "fill": {
              "color": "#EBF0F8"
             },
             "line": {
              "color": "white"
             }
            },
            "header": {
             "fill": {
              "color": "#C8D4E3"
             },
             "line": {
              "color": "white"
             }
            },
            "type": "table"
           }
          ]
         },
         "layout": {
          "annotationdefaults": {
           "arrowcolor": "#2a3f5f",
           "arrowhead": 0,
           "arrowwidth": 1
          },
          "autotypenumbers": "strict",
          "coloraxis": {
           "colorbar": {
            "outlinewidth": 0,
            "ticks": ""
           }
          },
          "colorscale": {
           "diverging": [
            [
             0,
             "#8e0152"
            ],
            [
             0.1,
             "#c51b7d"
            ],
            [
             0.2,
             "#de77ae"
            ],
            [
             0.3,
             "#f1b6da"
            ],
            [
             0.4,
             "#fde0ef"
            ],
            [
             0.5,
             "#f7f7f7"
            ],
            [
             0.6,
             "#e6f5d0"
            ],
            [
             0.7,
             "#b8e186"
            ],
            [
             0.8,
             "#7fbc41"
            ],
            [
             0.9,
             "#4d9221"
            ],
            [
             1,
             "#276419"
            ]
           ],
           "sequential": [
            [
             0,
             "#0d0887"
            ],
            [
             0.1111111111111111,
             "#46039f"
            ],
            [
             0.2222222222222222,
             "#7201a8"
            ],
            [
             0.3333333333333333,
             "#9c179e"
            ],
            [
             0.4444444444444444,
             "#bd3786"
            ],
            [
             0.5555555555555556,
             "#d8576b"
            ],
            [
             0.6666666666666666,
             "#ed7953"
            ],
            [
             0.7777777777777778,
             "#fb9f3a"
            ],
            [
             0.8888888888888888,
             "#fdca26"
            ],
            [
             1,
             "#f0f921"
            ]
           ],
           "sequentialminus": [
            [
             0,
             "#0d0887"
            ],
            [
             0.1111111111111111,
             "#46039f"
            ],
            [
             0.2222222222222222,
             "#7201a8"
            ],
            [
             0.3333333333333333,
             "#9c179e"
            ],
            [
             0.4444444444444444,
             "#bd3786"
            ],
            [
             0.5555555555555556,
             "#d8576b"
            ],
            [
             0.6666666666666666,
             "#ed7953"
            ],
            [
             0.7777777777777778,
             "#fb9f3a"
            ],
            [
             0.8888888888888888,
             "#fdca26"
            ],
            [
             1,
             "#f0f921"
            ]
           ]
          },
          "colorway": [
           "#636efa",
           "#EF553B",
           "#00cc96",
           "#ab63fa",
           "#FFA15A",
           "#19d3f3",
           "#FF6692",
           "#B6E880",
           "#FF97FF",
           "#FECB52"
          ],
          "font": {
           "color": "#2a3f5f"
          },
          "geo": {
           "bgcolor": "white",
           "lakecolor": "white",
           "landcolor": "#E5ECF6",
           "showlakes": true,
           "showland": true,
           "subunitcolor": "white"
          },
          "hoverlabel": {
           "align": "left"
          },
          "hovermode": "closest",
          "mapbox": {
           "style": "light"
          },
          "paper_bgcolor": "white",
          "plot_bgcolor": "#E5ECF6",
          "polar": {
           "angularaxis": {
            "gridcolor": "white",
            "linecolor": "white",
            "ticks": ""
           },
           "bgcolor": "#E5ECF6",
           "radialaxis": {
            "gridcolor": "white",
            "linecolor": "white",
            "ticks": ""
           }
          },
          "scene": {
           "xaxis": {
            "backgroundcolor": "#E5ECF6",
            "gridcolor": "white",
            "gridwidth": 2,
            "linecolor": "white",
            "showbackground": true,
            "ticks": "",
            "zerolinecolor": "white"
           },
           "yaxis": {
            "backgroundcolor": "#E5ECF6",
            "gridcolor": "white",
            "gridwidth": 2,
            "linecolor": "white",
            "showbackground": true,
            "ticks": "",
            "zerolinecolor": "white"
           },
           "zaxis": {
            "backgroundcolor": "#E5ECF6",
            "gridcolor": "white",
            "gridwidth": 2,
            "linecolor": "white",
            "showbackground": true,
            "ticks": "",
            "zerolinecolor": "white"
           }
          },
          "shapedefaults": {
           "line": {
            "color": "#2a3f5f"
           }
          },
          "ternary": {
           "aaxis": {
            "gridcolor": "white",
            "linecolor": "white",
            "ticks": ""
           },
           "baxis": {
            "gridcolor": "white",
            "linecolor": "white",
            "ticks": ""
           },
           "bgcolor": "#E5ECF6",
           "caxis": {
            "gridcolor": "white",
            "linecolor": "white",
            "ticks": ""
           }
          },
          "title": {
           "x": 0.05
          },
          "xaxis": {
           "automargin": true,
           "gridcolor": "white",
           "linecolor": "white",
           "ticks": "",
           "title": {
            "standoff": 15
           },
           "zerolinecolor": "white",
           "zerolinewidth": 2
          },
          "yaxis": {
           "automargin": true,
           "gridcolor": "white",
           "linecolor": "white",
           "ticks": "",
           "title": {
            "standoff": 15
           },
           "zerolinecolor": "white",
           "zerolinewidth": 2
          }
         }
        },
        "title": {
         "text": "3D Chroma Vector Store Visualization"
        },
        "width": 900
       }
      }
     },
     "metadata": {},
     "output_type": "display_data"
    }
   ],
   "source": [
    "# Let's try 3D!\n",
    "\n",
    "tsne = TSNE(n_components=3, random_state=42)\n",
    "reduced_vectors = tsne.fit_transform(vectors)\n",
    "\n",
    "# Create the 3D scatter plot\n",
    "fig = go.Figure(data=[go.Scatter3d(\n",
    "    x=reduced_vectors[:, 0],\n",
    "    y=reduced_vectors[:, 1],\n",
    "    z=reduced_vectors[:, 2],\n",
    "    mode='markers',\n",
    "    marker=dict(size=5, color=colors, opacity=0.8),\n",
    "    text=[f\"Type: {t}<br>Text: {d[:100]}...\" for t, d in zip(doc_types, documents)],\n",
    "    hoverinfo='text'\n",
    ")])\n",
    "\n",
    "fig.update_layout(\n",
    "    title='3D Chroma Vector Store Visualization',\n",
    "    scene=dict(xaxis_title='x', yaxis_title='y', zaxis_title='z'),\n",
    "    width=900,\n",
    "    height=700,\n",
    "    margin=dict(r=20, b=10, l=10, t=40)\n",
    ")\n",
    "\n",
    "fig.show()"
   ]
  },
  {
   "cell_type": "code",
   "execution_count": null,
   "metadata": {},
   "outputs": [],
   "source": [
    "# create a new Chat with OpenAI\n",
    "llm = ChatOpenAI(temperature=0.7, model_name=MODEL)\n",
    "\n",
    "# how many chunks to provide in each prompt\n",
    "retriever = vectorstore.as_retriever(search_kwargs={\"k\": 3})\n",
    "\n",
    "# Simple prompt that includes chat history\n",
    "prompt = ChatPromptTemplate.from_messages([\n",
    "    (\"system\", \"Answer the question based on the context:\\n{context}\"),\n",
    "    (\"human\", \"{input}\")\n",
    "])\n",
    "\n",
    "# Create the chain\n",
    "question_answer_chain = create_stuff_documents_chain(llm, prompt)\n",
    "rag_chain = create_retrieval_chain(retriever, question_answer_chain)\n",
    "\n",
    "# Invoke it\n",
    "query = \"Please explain what Insurellm is in a couple of sentences\"\n",
    "result = rag_chain.invoke({\"input\": query})\n",
    "print(result[\"answer\"])"
   ]
  },
  {
   "cell_type": "markdown",
   "metadata": {},
   "source": [
    "## Now check out ingest.py\n",
    "\n",
    "Then run at the terminal:\n",
    "\n",
    "`uv run ingest.py`"
   ]
  },
  {
   "cell_type": "code",
   "execution_count": 4,
   "metadata": {},
   "outputs": [
    {
     "name": "stdout",
     "output_type": "stream",
     "text": [
      "There are 200 vectors with 384 dimensions in the vector store\n",
      "Ingestion complete\n"
     ]
    }
   ],
   "source": [
    "!uv run ingest.py"
   ]
  },
  {
   "cell_type": "markdown",
   "metadata": {},
   "source": [
    "## Now check out answer.py"
   ]
  },
  {
   "cell_type": "code",
   "execution_count": 2,
   "metadata": {},
   "outputs": [
    {
     "data": {
      "text/plain": [
       "[Document(id='e0a0d436-7bc6-4028-ba07-b15053f2b9ff', metadata={'doc_type': 'employees', 'source': 'knowledge-base\\\\employees\\\\Avery Lancaster.md'}, page_content=\"Avery recognized the need to enhance company culture. - **2020**: **Below Expectations**  \\n  The COVID-19 pandemic posed unforeseen operational difficulties. Avery faced criticism for delayed strategy shifts, although efforts were eventually made to stabilize the company. - **2021**: **Exceptional**  \\n  Avery's decisive transition to remote work and rapid adoption of digital tools led to record-high customer satisfaction levels and increased sales. - **2022**: **Satisfactory**  \\n  Avery focused on rebuilding team dynamics and addressing employee concerns, leading to overall improvement despite a saturated market. - **2023**: **Exceeds Expectations**  \\n  Market leadership was regained with innovative approaches to personalized insurance solutions. Avery is now recognized in industry publications as a leading voice in Insurance Tech innovation. ## Compensation History\\n- **2015**: $150,000 base salary + Significant equity stake  \\n- **2016**: $160,000 base salary + Equity increase  \\n- **2017**: $150,000 base salary + Decrease in bonus due to performance  \\n- **2018**: $180,000 base salary + performance bonus of $30,000  \\n- **2019**: $185,000 base salary + market adjustment + $5,000 bonus  \\n- **2020**: $170,000 base salary (temporary reduction due to COVID-19)  \\n- **2021**: $200,000 base salary + performance bonus of $50,000  \\n- **2022**: $210,000 base salary + retention bonus  \\n- **2023**: $225,000 base salary + $75,000 performance bonus  \\n\\n## Other HR Notes\\n- **Professional Development**: Avery has actively participated in leadership training programs and industry conferences, representing Insurellm and fostering partnerships. - **Diversity & Inclusion Initiatives**: Avery has championed a commitment to diversity in hiring practices, seeing visible improvements in team representation since 2021.\"),\n",
       " Document(id='f9ca906c-97e7-4826-b1e3-40c3a77d42a8', metadata={'doc_type': 'employees', 'source': 'knowledge-base\\\\employees\\\\Avery Lancaster.md'}, page_content=\"- **Work-Life Balance**: Feedback revealed concerns regarding work-life balance, which Avery has approached by implementing flexible working conditions and ensuring regular check-ins with the team. - **Community Engagement**: Avery led community outreach efforts, focusing on financial literacy programs, particularly aimed at underserved populations, improving Insurellm's corporate social responsibility image. Avery Lancaster has demonstrated resilience and adaptability throughout her career at Insurellm, positioning the company as a key player in the insurance technology landscape.\"),\n",
       " Document(id='b1394732-1133-41b0-9ac2-cfa0e559d7c9', metadata={'source': 'knowledge-base\\\\employees\\\\Avery Lancaster.md', 'doc_type': 'employees'}, page_content=\"# Avery Lancaster\\n\\n## Summary\\n- **Date of Birth**: March 15, 1985\\n- **Job Title**: Co-Founder & Chief Executive Officer (CEO)\\n- **Location**: San Francisco, California\\n- **Current Salary**: $225,000  \\n\\n## Insurellm Career Progression\\n- **2015 - Present**: Co-Founder & CEO  \\n  Avery Lancaster co-founded Insurellm in 2015 and has since guided the company to its current position as a leading Insurance Tech provider. Avery is known for her innovative leadership strategies and risk management expertise that have catapulted the company into the mainstream insurance market. - **2013 - 2015**: Senior Product Manager at Innovate Insurance Solutions  \\n  Before launching Insurellm, Avery was a leading Senior Product Manager at Innovate Insurance Solutions, where she developed groundbreaking insurance products aimed at the tech sector. - **2010 - 2013**: Business Analyst at Edge Analytics  \\n  Prior to joining Innovate, Avery worked as a Business Analyst, focusing on market trends and consumer preferences in the insurance space. This position laid the groundwork for Avery’s future entrepreneurial endeavors. ## Annual Performance History\\n- **2015**: **Exceeds Expectations**  \\n  Avery’s leadership during Insurellm's foundational year led to successful product launches and securing initial funding. - **2016**: **Meets Expectations**  \\n  Growth continued, though challenges arose in operational efficiency that required Avery's attention. - **2017**: **Developing**  \\n  Market competition intensified, and monthly sales metrics were below targets. Avery implemented new strategies which required a steep learning curve. - **2018**: **Exceeds Expectations**  \\n  Under Avery’s pivoted vision, Insurellm launched two new successful products that significantly increased market share. - **2019**: **Meets Expectations**  \\n  Steady growth, however, some team tensions led to a minor drop in employee morale.\"),\n",
       " Document(id='1e289698-dce8-40e0-b7a2-b4f1ddbf843c', metadata={'source': 'knowledge-base\\\\employees\\\\Alex Harper.md', 'doc_type': 'employees'}, page_content='- **Feedback from HR**:  \\n  - Alex Harper is noted for their work ethic, positive attitude, and willingness to go above and beyond for both clients and colleagues. Recognized for fostering a team spirit within the SDR team. '),\n",
       " Document(id='b6a8ee84-90f6-4606-9705-1d039292f693', metadata={'doc_type': 'contracts', 'source': 'knowledge-base\\\\contracts\\\\Contract with Heritage Life Assurance for Lifellm.md'}, page_content=\"**Account Management**: Named customer success manager with quarterly business reviews. ---\\n\\n**Signatures:**\\n\\n**Insurellm, Inc.**\\nMichael Torres, Chief Revenue Officer\\nDate: February 12, 2025\\n\\n**Heritage Life Assurance**\\nMelissa Zhang, VP of Operations\\nDate: February 12, 2025\\n\\n---\\n\\nThis contract enables Heritage Life Assurance to leverage Lifellm's AI technology for modernized life insurance underwriting and administration. \"),\n",
       " Document(id='9c2d452f-a7b7-43b4-9ce8-c3702843baea', metadata={'doc_type': 'employees', 'source': 'knowledge-base\\\\employees\\\\Jordan K. Bishop.md'}, page_content=\"# HR Record\\n\\n# Jordan K. Bishop\\n\\n## Summary\\n- **Date of Birth:** March 15, 1990\\n- **Job Title:** Frontend Software Engineer\\n- **Location:** Austin, Texas\\n- **Current Salary:** $92,000\\n\\n## Insurellm Career Progression\\n- **June 2018:** Hired as a Frontend Software Engineer. - **August 2019:** Promoted to Senior Frontend Software Engineer due to outstanding contributions to the Insurellm web application redesign project. - **March 2021:** Led a cross-functional team for the launch of Insurellm's customer portal, enhancing user experience and engagement. - **January 2022:** Transitioned to a mentorship role, where Jordan K. Bishop began training junior engineers, which affected the focus on personal projects. - **August 2023:** Returned to core development tasks but faced challenges adapting to new frameworks, leading to performance reviews reflecting a need for improvement.\"),\n",
       " Document(id='537f2000-9c71-405e-bf3b-6496031fd386', metadata={'source': 'knowledge-base\\\\employees\\\\Michelle Rivera.md', 'doc_type': 'employees'}, page_content='Trusted design leader. '),\n",
       " Document(id='e4f38c9c-5129-49da-bf6d-0bdd702149d6', metadata={'doc_type': 'employees', 'source': 'knowledge-base\\\\employees\\\\Kevin Zhang.md'}, page_content='Strong mentor to other developers. '),\n",
       " Document(id='cb84ae64-3240-4088-8df8-bdecdbea866a', metadata={'source': 'knowledge-base\\\\contracts\\\\Contract with Continental Commercial Group for Bizllm.md', 'doc_type': 'contracts'}, page_content=''),\n",
       " Document(id='530bf78a-adee-4311-824b-5abf2daa8fe5', metadata={'source': 'knowledge-base\\\\contracts\\\\Contract with GlobalRe Partners for Rellm.md', 'doc_type': 'contracts'}, page_content=''),\n",
       " Document(id='2d6fb858-a105-476c-934b-d5fccd7c6d2a', metadata={'doc_type': 'contracts', 'source': 'knowledge-base\\\\contracts\\\\Contract with DriveSmart Insurance for Carllm.md'}, page_content=''),\n",
       " Document(id='74953d07-1553-4550-b4d6-d11e9587c70b', metadata={'source': 'knowledge-base\\\\contracts\\\\Contract with Metropolitan Life Group for Lifellm.md', 'doc_type': 'contracts'}, page_content=''),\n",
       " Document(id='cda1f18a-326d-4868-8d31-9ea42c2ff1d3', metadata={'doc_type': 'contracts', 'source': 'knowledge-base\\\\contracts\\\\Contract with National Claims Network for Claimllm.md'}, page_content=''),\n",
       " Document(id='0feaf690-6e80-4a67-b8c9-bd8cb1ff44a3', metadata={'doc_type': 'contracts', 'source': 'knowledge-base\\\\contracts\\\\Contract with SafeHaven Property Insurance for Homellm.md'}, page_content=''),\n",
       " Document(id='76db083f-92ea-40b7-b38e-a7fb02309c07', metadata={'source': 'knowledge-base\\\\contracts\\\\Contract with United Healthcare Alliance for Healthllm.md', 'doc_type': 'contracts'}, page_content=''),\n",
       " Document(id='3071ff92-d91e-4e33-a1fc-cba28c04a654', metadata={'doc_type': 'employees', 'source': 'knowledge-base\\\\employees\\\\Lisa Anderson.md'}, page_content=''),\n",
       " Document(id='e74290a2-2f33-4f14-9dc0-5a5c9c818c87', metadata={'source': 'knowledge-base\\\\employees\\\\Maxine Thompson.md', 'doc_type': 'employees'}, page_content=''),\n",
       " Document(id='a5271ada-9810-4ddf-bc09-0d1efae2f859', metadata={'source': 'knowledge-base\\\\employees\\\\Nina Patel.md', 'doc_type': 'employees'}, page_content=''),\n",
       " Document(id='fcb32fa7-2cac-4d1d-86a1-655b8eeb8a51', metadata={'source': 'knowledge-base\\\\employees\\\\Jordan K. Bishop.md', 'doc_type': 'employees'}, page_content='## Annual Performance History\\n- **2019:** Exceeds Expectations - Continuously delivered high-quality code and participated actively in team meetings. - **2020:** Meets Expectations - Jordan K. Bishop maintained steady performance but faced challenges due to a higher workload from multiple projects. - **2021:** Exceeds Expectations - Recognized for leadership during the customer portal project; received the “Innovation Award” for creative problem-solving. - **2022:** Meets Expectations - While mentoring others, the shift in focus led to fewer contributions to new features, marking a decrease in performance.'),\n",
       " Document(id='2851fe2e-18b2-47de-8688-f0c99f4f86ff', metadata={'doc_type': 'employees', 'source': 'knowledge-base\\\\employees\\\\Jessica Liu.md'}, page_content='Strong written communicator. Participates actively in team standups and planning sessions. - **Feedback:** Reliable developer with good attention to UI details. Improving technical decision-making skills. Would benefit from more ownership of larger features. ')]"
      ]
     },
     "execution_count": 2,
     "metadata": {},
     "output_type": "execute_result"
    }
   ],
   "source": [
    "from answer import fetch_context, answer_question\n",
    "\n",
    "fetch_context(\"Who is Avery?\")"
   ]
  },
  {
   "cell_type": "code",
   "execution_count": 3,
   "metadata": {},
   "outputs": [
    {
     "data": {
      "text/markdown": [
       "Avery Lancaster is the Co-Founder and Chief Executive Officer (CEO) of Insurellm. She has been with the company since its founding in 2015 and has played a key role in guiding Insurellm to become a leading provider in the Insurance Tech industry. Avery is known for her innovative leadership, risk management expertise, and her active participation in professional development, industry conferences, and community outreach. She is based in San Francisco, California."
      ],
      "text/plain": [
       "<IPython.core.display.Markdown object>"
      ]
     },
     "metadata": {},
     "output_type": "display_data"
    }
   ],
   "source": [
    "result, chunks = await answer_question(\"Who is Avery?\")\n",
    "display(Markdown(result))"
   ]
  },
  {
   "cell_type": "markdown",
   "metadata": {},
   "source": [
    "## Now check out app.py"
   ]
  },
  {
   "cell_type": "code",
   "execution_count": 9,
   "metadata": {},
   "outputs": [
    {
     "name": "stdout",
     "output_type": "stream",
     "text": [
      "^C\n"
     ]
    }
   ],
   "source": [
    "!uv run app.py"
   ]
  },
  {
   "cell_type": "markdown",
   "metadata": {},
   "source": [
    "## OK - Now it's time to EVALUATE!\n",
    "\n",
    "### First check out tests.jsonl for all the questions\n",
    "\n",
    "And see how it's loaded in test.py\n"
   ]
  },
  {
   "cell_type": "code",
   "execution_count": 2,
   "metadata": {},
   "outputs": [
    {
     "name": "stdout",
     "output_type": "stream",
     "text": [
      "150\n",
      "question='Who won the prestigious IIOTY award in 2023?' keywords=['Maxine', 'Thompson', 'IIOTY'] reference_answer='Maxine Thompson won the prestigious Insurellm Innovator of the Year (IIOTY) award in 2023.' category='direct_fact'\n",
      "question='How many Claimllm contracts does Insurellm have?' keywords=['7', 'Claimllm'] reference_answer='Insurellm has 7 contracts for Claimllm, ranging from independent adjusting firms to enterprise claims networks.' category='direct_fact'\n"
     ]
    }
   ],
   "source": [
    "from test import load_tests\n",
    "\n",
    "test_data = load_tests()\n",
    "\n",
    "print(len(test_data))\n",
    "print(test_data[0])\n",
    "print(test_data[10])\n",
    "\n"
   ]
  },
  {
   "cell_type": "code",
   "execution_count": 3,
   "metadata": {},
   "outputs": [
    {
     "name": "stdout",
     "output_type": "stream",
     "text": [
      "{'relationship', 'direct_fact', 'holistic', 'temporal', 'comparative', 'spanning', 'numerical'}\n"
     ]
    }
   ],
   "source": [
    "print(set(test.category for test in test_data))\n"
   ]
  },
  {
   "cell_type": "markdown",
   "metadata": {},
   "source": [
    "## Now take a look at eval.py"
   ]
  },
  {
   "cell_type": "code",
   "execution_count": 4,
   "metadata": {},
   "outputs": [
    {
     "data": {
      "text/plain": [
       "RetrievalEval(mrr=0.5, ndcg=0.6309297535714575, keywords_found=2, total_keywords=2, keyword_coverage=100.0)"
      ]
     },
     "execution_count": 4,
     "metadata": {},
     "output_type": "execute_result"
    }
   ],
   "source": [
    "from eval import evaluate_retrieval, evaluate_answer\n",
    "\n",
    "evaluate_retrieval(test_data[1])"
   ]
  },
  {
   "cell_type": "code",
   "execution_count": 5,
   "metadata": {},
   "outputs": [
    {
     "data": {
      "text/plain": [
       "(AnswerEval(feedback='The answer correctly states the founding year and the founder, aligning with the reference, but the question only asks for the founding year, so including the founder adds unnecessary details.', accuracy=5.0, completeness=3.0, relevance=4.0),\n",
       " 'Insurellm was founded in 2015 by Avery Lancaster.',\n",
       " [Document(id='76ae49ab-a2a1-4236-b767-09acaab723b7', metadata={'source': 'knowledge-base\\\\company\\\\overview.md', 'doc_type': 'company'}, page_content='# Overview of Insurellm\\n\\nInsurellm is an innovative insurance tech firm with 32 employees operating primarily remotely across the US, with offices in San Francisco (HQ), New York, Austin, Chicago, and Denver.'),\n",
       "  Document(id='62faa18f-ee3a-47bb-8496-d91499a40776', metadata={'source': 'knowledge-base\\\\company\\\\about.md', 'doc_type': 'company'}, page_content='# About Insurellm\\n\\nInsurellm was founded by Avery Lancaster in 2015 as an insurance tech startup designed to disrupt an industry in need of innovative products. Its first product was Markellm, the marketplace connecting consumers with insurance providers. The company experienced rapid growth in its first five years, expanding its product portfolio to include Carllm (auto insurance portal), Homellm (home insurance portal), and Rellm (enterprise reinsurance platform). By 2020, Insurellm had reached a peak of 200 employees with 12 offices across the US. However, the company underwent a strategic restructuring in 2022-2023 to focus on profitability and sustainable growth. This included consolidating office locations, implementing a remote-first strategy, and streamlining operations. As of 2025, Insurellm operates with a lean, highly efficient team of 32 employees who have built a portfolio of 32 active contracts spanning all eight product lines. The company maintains its San Francisco headquarters along with small satellite offices in key markets including New York, Austin, Chicago, and Denver. Since the restructuring, Insurellm has continued to innovate, expanding its product suite to eight comprehensive platforms.'),\n",
       "  Document(id='85c58ece-03fa-4d0c-b539-ccb1e8c4156e', metadata={'source': 'knowledge-base\\\\contracts\\\\Contract with FastTrack Insurance Services for Claimllm.md', 'doc_type': 'contracts'}, page_content='Maintenance windows on Sundays 12 AM - 4 AM EST. ---\\n\\n**Signatures:**\\n\\n**Insurellm, Inc.**\\nSarah Chen, VP of Sales\\nDate: May 10, 2025\\n\\n**FastTrack Insurance Services**\\nRebecca Martinez, COO\\nDate: May 10, 2025\\n\\n---\\n\\nThis contract represents the agreement between Insurellm and FastTrack Insurance Services for streamlined, AI-powered claims processing operations. '),\n",
       "  Document(id='ead7bc3c-3272-4c25-b30b-5c9645af0b75', metadata={'doc_type': 'company', 'source': 'knowledge-base\\\\company\\\\careers.md'}, page_content='Insurellm is an equal opportunity employer. We celebrate diversity and are committed to creating an inclusive environment for all employees.'),\n",
       "  Document(id='a871099c-79e9-4a1e-93d5-024c80eb09cd', metadata={'source': 'knowledge-base\\\\contracts\\\\Contract with Belvedere Insurance for Markellm.md', 'doc_type': 'contracts'}, page_content='# Contract with Belvedere Insurance for Markellm\\n\\n## Terms\\nThis Contract (\"Agreement\") is made and entered into as of [Date] by and between Insurellm, Inc., a corporation registered in the United States, (\"Provider\") and Belvedere Insurance, (\"Client\"). 1.'),\n",
       "  Document(id='b6a8ee84-90f6-4606-9705-1d039292f693', metadata={'source': 'knowledge-base\\\\contracts\\\\Contract with Heritage Life Assurance for Lifellm.md', 'doc_type': 'contracts'}, page_content=\"**Account Management**: Named customer success manager with quarterly business reviews. ---\\n\\n**Signatures:**\\n\\n**Insurellm, Inc.**\\nMichael Torres, Chief Revenue Officer\\nDate: February 12, 2025\\n\\n**Heritage Life Assurance**\\nMelissa Zhang, VP of Operations\\nDate: February 12, 2025\\n\\n---\\n\\nThis contract enables Heritage Life Assurance to leverage Lifellm's AI technology for modernized life insurance underwriting and administration. \"),\n",
       "  Document(id='9bccea7a-9d76-4337-b32b-43a96b534f5e', metadata={'source': 'knowledge-base\\\\contracts\\\\Contract with GreenValley Insurance for Homellm.md', 'doc_type': 'contracts'}, page_content='**Customer Portal:** A user-friendly portal for their customers for policy and claims management. ---\\n\\n## Support\\n\\nInsurellm commits to providing comprehensive support to GreenValley Insurance, which includes:\\n\\n1. **Onboarding:** An extensive training program for the GreenValley staff to ensure effective use of Homellm. 2. **Dedicated Support Team:** A dedicated support team available 24/7 to address any technical issues or inquiries. 3. **Regular Updates:** Insurellm will offer ongoing updates and enhancements to the Homellm platform, including new features and security improvements. 4. **Feedback Implementation:** Insurellm will actively solicit feedback from GreenValley Insurance to ensure Homellm continues to meet their evolving needs. ---\\n\\n**Signatures:**\\n\\n_________________________________  \\n**[Name]**  \\n**Title**: CEO  \\n**Insurellm, Inc.**\\n\\n_________________________________  \\n**[Name]**  \\n**Title**: COO  \\n**GreenValley Insurance, LLC**  \\n\\n---\\n\\nThis agreement represents the complete understanding of both parties regarding the use of the Homellm product and supersedes any prior agreements or communications.'),\n",
       "  Document(id='3a373884-f8bd-4fbc-bf12-175abc0bd855', metadata={'doc_type': 'contracts', 'source': 'knowledge-base\\\\contracts\\\\Contract with National Claims Network for Claimllm.md'}, page_content=\"# Contract with National Claims Network for Claimllm\\n\\n**Contract Date:** April 20, 2025\\n**Contract Number:** CL-2025-E-0198\\n**Parties:**\\n- Insurellm, Inc. - National Claims Network Corp. ---\\n\\n## Terms\\n\\n1. **Coverage:** Insurellm agrees to provide National Claims Network with enterprise access to the Claimllm platform, including white-label capabilities, unlimited claims capacity, advanced fraud analytics, and dedicated infrastructure to support their nationwide claims operations processing over 100,000 claims annually. 2. **Duration:** This agreement is effective for a period of 36 months from the contract date, representing Insurellm's longest-term contract commitment to date. 3. **Payment:** National Claims Network shall pay custom Enterprise Tier pricing of $35,000 per month for months 1-12, $38,000 per month for months 13-24, and $41,000 per month for months 25-36, totaling $1,368,000 over the contract term. 4. **Service Level Agreement:** Insurellm guarantees 99.95% uptime with financial credits for downtime: 5% monthly credit for each hour of unplanned downtime, maximum 50% monthly credit. 5. **Confidentiality:** Both parties agree to maintain the highest level of confidentiality regarding proprietary AI models, fraud detection algorithms, claimant PII, and business strategies. 6. **Data Security:** Insurellm commits to maintaining SOC 2 Type II compliance, annual penetration testing, and end-to-end encryption for all data at rest and in transit. 7. **Business Continuity:** Insurellm provides disaster recovery with 4-hour RTO (Recovery Time Objective) and 1-hour RPO (Recovery Point Objective). ---\\n\\n## Renewal\\n\\nThis agreement includes a mutual 120-day renewal notice period.\"),\n",
       "  Document(id='a38a252f-cb0c-44e9-b814-c3267a2eaacd', metadata={'doc_type': 'contracts', 'source': 'knowledge-base\\\\contracts\\\\Contract with GreenField Holdings for Markellm.md'}, page_content='# Contract with GreenField Holdings for Markellm\\n\\n**Effective Date:** November 15, 2023  \\n**Contract Duration:** 12 months  \\n\\n## Terms\\n1. **Parties to the Agreement**: This contract is entered into between Insurellm, hereafter referred to as \"Provider,\" and GreenField Holdings, hereafter referred to as \"Client.\"\\n2. **Scope of Services**: Provider agrees to grant the Client access to the Markellm platform, enabling GreenField Holdings to connect with potential insurance customers through the AI-powered marketplace. 3.'),\n",
       "  Document(id='d5788e24-9e32-4ed7-9f06-f5917741a69f', metadata={'source': 'knowledge-base\\\\contracts\\\\Contract with Metropolitan Life Group for Lifellm.md', 'doc_type': 'contracts'}, page_content='# Contract with Metropolitan Life Group for Lifellm\\n\\n**Contract Date:** April 5, 2025\\n**Contract Number:** LF-2025-E-0087\\n**Parties:**\\n- Insurellm, Inc. - Metropolitan Life Group, Inc. ---\\n\\n## Terms\\n\\n1. **Coverage:** Insurellm agrees to provide Metropolitan Life Group with enterprise access to the Lifellm platform, including white-label capabilities, full customization, dedicated support, and enterprise-grade security for their nationwide life insurance operations managing 50,000+ active policies. 2.'),\n",
       "  Document(id='87a0119a-b8fa-4630-8b03-4856d0b097ae', metadata={'doc_type': 'company', 'source': 'knowledge-base\\\\company\\\\about.md'}, page_content=\"The company added Lifellm (life insurance), Healthllm (health insurance), Bizllm (commercial insurance), and Claimllm (claims processing) to serve the full spectrum of insurance needs. This strategic expansion has been highly successful, with strong adoption across all new products:\\n\\n- **Bizllm** quickly gained traction with 7 commercial insurance contracts, including regional carriers and national commercial groups\\n- **Claimllm** signed 7 contracts ranging from independent adjusting firms to enterprise claims networks\\n- **Lifellm** secured 6 life insurance clients from small regional providers to major national carriers\\n- **Healthllm** won 6 health plan contracts including regional insurers and multi-state healthcare alliances\\n\\nCombined with continued growth in the original product lines (Carllm, Homellm, Markellm, and Rellm), Insurellm now serves clients ranging from regional insurers to global reinsurance partners, demonstrating the company's ability to compete across the entire insurance value chain.\"),\n",
       "  Document(id='468c6131-77ff-434f-8667-da6da3f46ffb', metadata={'source': 'knowledge-base\\\\contracts\\\\Contract with ConnectInsure Agency for Markellm.md', 'doc_type': 'contracts'}, page_content='# Contract with ConnectInsure Agency for Markellm\\n\\n**Contract Date:** February 28, 2025\\n**Contract Number:** MK-2025-0056\\n\\n---\\n\\n## Terms\\n\\n1. **Parties Involved**: This contract is entered into between Insurellm, Inc. (\"Provider\") and ConnectInsure Agency (\"Client\"). 2. **Service Commencement**: Services will commence on March 1, 2025. 3. **Contract Duration**: This Agreement shall remain in effect for 18 months from the commencement date, ending August 31, 2026.'),\n",
       "  Document(id='c2595357-f6f6-4ea0-8ca3-c48e395733df', metadata={'source': 'knowledge-base\\\\company\\\\overview.md', 'doc_type': 'company'}, page_content=\"Founded in 2015, the company has evolved from a high-growth startup to a lean, profitable operation focused on sustainable growth and operational excellence. ## Products\\n\\nInsurellm offers 8 insurance software products across multiple insurance lines:\\n\\n### Core Insurance Portals\\n- **Carllm** - Auto insurance platform for insurers\\n- **Homellm** - Home insurance platform for insurers\\n- **Lifellm** - Life insurance platform with AI-powered underwriting\\n- **Healthllm** - Comprehensive health insurance platform\\n- **Bizllm** - Commercial insurance platform for business coverage\\n\\n### Marketplace & Infrastructure\\n- **Markellm** - Marketplace connecting consumers with insurance providers (original flagship product)\\n- **Claimllm** - AI-powered claims processing platform across all insurance lines\\n- **Rellm** - Enterprise platform for the reinsurance sector\\n\\n## Scale & Impact\\n\\nDespite its compact team size, Insurellm has built an impressive client portfolio with 32 active contracts across all product lines, serving clients ranging from regional insurers to national carriers and global reinsurance partners. The company demonstrates exceptional productivity and leverage through:\\n- Highly automated systems and processes\\n- Strategic use of AI and machine learning\\n- Remote-first culture enabling access to top talent\\n- Focus on high-value enterprise clients in multiple insurance verticals\\n\\n## Client Portfolio Breakdown\\n\\nInsurellm's 32 active contracts span the full spectrum of insurance technology:\\n\\n**Commercial Insurance (Bizllm)**: 7 contracts including regional carriers, multi-line insurers, and national commercial insurance groups\\n\\n**Claims Processing (Claimllm)**: 7 contracts ranging from independent adjusting firms to enterprise claims networks\\n\\n**Life Insurance (Lifellm)**: 6 contracts serving life insurance carriers from small regional providers to major national groups\\n\\n**Health Insurance (Healthllm)**: 6 contracts with health plans from regional insurers to multi-state healthcare alliances\\n\\n**Auto Insurance (Carllm)**: 3 contracts with personal and commercial auto insurers\\n\\n**Home Insurance (Homellm)**: 4 contracts including property insurers with advanced IoT and catastrophe management needs\\n\\n**Insurance Marketplace (Markellm)**: 2 contracts with agencies and brokers leveraging the consumer-insurer matching platform\\n\\n**Reinsurance (Rellm)**: 2 contracts with reinsurance companies including global treaty and facultative operations\\n\\nThis diversified portfolio demonstrates Insurellm's ability to serve the entire insurance value chain, from consumer-facing marketplaces to complex reinsurance operations.\"),\n",
       "  Document(id='6a69c194-7023-474e-939f-01bd62dc0601', metadata={'doc_type': 'contracts', 'source': 'knowledge-base\\\\contracts\\\\Contract with United Healthcare Alliance for Healthllm.md'}, page_content=\"# Contract with United Healthcare Alliance for Healthllm\\n\\n**Contract Date:** May 15, 2025\\n**Contract Number:** HL-2025-E-0156\\n**Parties:**\\n- Insurellm, Inc. - United Healthcare Alliance, LLC\\n\\n---\\n\\n## Terms\\n\\n1. **Coverage:** Insurellm agrees to provide United Healthcare Alliance with enterprise access to the Healthllm platform, including extensive customization, multi-state support, dedicated infrastructure, and premium support services for their nationwide health insurance operations covering 250,000+ members across 12 states. 2. **Duration:** This agreement is effective for a period of 48 months from the contract date, representing Insurellm's most strategic long-term healthcare partnership. 3. **Payment:** United Healthcare Alliance shall pay custom Enterprise Tier pricing of $52,000 per month for months 1-12, $56,000 per month for months 13-24, $60,000 per month for months 25-36, and $64,000 per month for months 37-48, totaling $2,784,000 over the contract term. 4. **Service Level Agreement:** Insurellm guarantees 99.95% uptime measured monthly, with financial credits: 7% monthly credit for each hour of unplanned downtime exceeding the SLA, maximum 50% monthly credit. 5. **Confidentiality:** Both parties agree to maintain the highest level of confidentiality regarding AI algorithms, predictive models, member PHI, provider contracts, and strategic initiatives. 6. **Security and Compliance:** Insurellm commits to maintaining HIPAA compliance, HITRUST certification, SOC 2 Type II, and annual third-party security audits with penetration testing. 7. **Business Continuity:** Guaranteed 2-hour recovery time objective (RTO) and 15-minute recovery point objective (RPO) with active-active data center configuration. ---\\n\\n## Renewal\\n\\nThis agreement includes a mutual 120-day renewal notice period.\"),\n",
       "  Document(id='11d00d43-b99f-4a91-b1e6-574d51e2300c', metadata={'source': 'knowledge-base\\\\contracts\\\\Contract with Roadway Insurance Inc. for Carllm.md', 'doc_type': 'contracts'}, page_content='3. **Updates and Maintenance**: Regular updates to the Carllm platform will be conducted quarterly, and any maintenance outages will be communicated at least 48 hours in advance. ---\\n\\n*This contract outlines the terms of the relationship between Insurellm and Roadway Insurance Inc. for the Carllm product, emphasizing the collaborative spirit aimed at transforming the auto insurance landscape.*'),\n",
       "  Document(id='b195163e-fe54-4866-a643-d0d728bb3d8e', metadata={'source': 'knowledge-base\\\\contracts\\\\Contract with Summit Commercial Insurance for Bizllm.md', 'doc_type': 'contracts'}, page_content=\"2. **Business Intelligence Integration:** Automated data gathering from business registries, financial databases, and industry reports for streamlined underwriting. 3. **Commercial Property Evaluation:** Advanced property risk modeling incorporating location data, building characteristics, and catastrophe modeling. 4. **Workers' Compensation Optimization:** Integrated tools analyzing payroll data, industry classifications, and claims history for accurate pricing. 5. **Portfolio Management Dashboard:** Analytics providing line-of-business performance, loss ratios, and renewal rates insights. 6. **Agent and Broker Portal:** Dedicated portals enabling distribution partners to quote, bind, and service policies efficiently. ---\\n\\n## Support\\n\\nInsurellm commits to providing comprehensive support to Summit Commercial Insurance, which includes:\\n\\n1. **Onboarding:** A 3-week intensive training program for up to 15 Summit Commercial staff members to ensure effective use of Bizllm, including hands-on workshops and certification. 2. **Dedicated Support Team:** A dedicated account manager and technical support team available Monday-Friday 7 AM to 7 PM EST, with emergency support available 24/7. 3. **Regular Updates:** Insurellm will provide quarterly platform updates and enhancements, including new features, security improvements, and regulatory compliance updates. 4. **Integration Assistance:** Technical support for integrating Bizllm with Summit's existing policy administration and claims management systems. 5. **Performance Reviews:** Quarterly business reviews to assess platform utilization, identify optimization opportunities, and discuss strategic initiatives. ---\\n\\n**Signatures:**\\n\\n_________________________________\\n**Michael Torres**\\n**Title**: Chief Revenue Officer\\n**Insurellm, Inc.**\\n\\n_________________________________\\n**Patricia Lawson**\\n**Title**: Vice President of Operations\\n**Summit Commercial Insurance, LLC**\\n\\n---\\n\\nThis agreement represents the complete understanding of both parties regarding the use of the Bizllm product and supersedes any prior agreements or communications. \"),\n",
       "  Document(id='a65625fc-20b2-4179-acd2-bcb6903ae7fb', metadata={'doc_type': 'company', 'source': 'knowledge-base\\\\company\\\\careers.md'}, page_content=\"# Careers at Insurellm\\n\\n## Why Join Insurellm? At Insurellm, we're not just building software—we're revolutionizing an entire industry. Since our founding in 2015, we've evolved from a high-growth startup to a lean, profitable company with 32 highly talented employees managing 32 active contracts across all eight of our product lines. After reaching 200 employees in 2020, we strategically restructured in 2022-2023 to focus on sustainable growth, operational excellence, and building a world-class remote-first culture. Today, we're a tight-knit team of exceptional professionals who deliver outsized impact through automation, AI, and strategic focus on high-value enterprise clients—from regional insurers to global reinsurance partners. ### Our Culture\\n\\nWe live by our core values every day:\\n- **Innovation First**: We encourage experimentation and creative problem-solving\\n- **Customer Obsession**: Your work directly impacts 32 active client operations spanning the entire insurance value chain\\n- **Integrity & Transparency**: We build trust through ethical behavior and open communication\\n- **Collaborative Excellence**: Diverse perspectives and teamwork drive our success\\n\\n### What We Offer\\n\\n- Competitive compensation with equity participation\\n- Comprehensive health, dental, and vision insurance\\n- Flexible working arrangements and generous PTO\\n- Professional development programs and mentorship\\n- Clear career progression paths\\n- Latest technologies and tools\\n- Inclusive, diverse work environment\\n\\n## Current Opportunities\\n\\n### Engineering\\n\\n**Senior Full Stack Engineer** - San Francisco, CA\\n- Lead development of next-generation insurance platform features\\n- Work with React, Node.js, Python, and cloud technologies\\n- Mentor junior engineers and drive technical decisions\\n- 5+ years experience required\\n\\n**Backend Software Engineer** - San Francisco, CA / Austin, TX\\n- Build scalable microservices and APIs\\n- Optimize system performance and reliability\\n- Collaborate with product and design teams\\n- 3+ years experience with Java, Python, or Go\\n\\n**Frontend Developer** - Remote\\n- Create intuitive user interfaces for our insurance platforms\\n- Work with modern frameworks (React, Vue, or Angular)\\n- Ensure accessibility and responsive design\\n- 2+ years experience required\\n\\n**DevOps Engineer** - New York, NY\\n- Manage cloud infrastructure (AWS/GCP)\\n- Implement CI/CD pipelines and automation\\n- Monitor system performance and security\\n- 3+ years experience in DevOps/SRE\\n\\n**Mobile Developer (iOS/Android)** - San Francisco, CA\\n- Build native mobile applications for our marketplace\\n- Create seamless user experiences\\n- Integrate with backend APIs\\n- 3+ years mobile development experience\\n\\n### Data & Analytics\\n\\n**Senior Data Scientist** - San Francisco, CA / New York, NY\\n- Develop predictive models for insurance risk assessment\\n- Build recommendation systems for our marketplace\\n- Lead data-driven product initiatives\\n- PhD or MS in related field preferred, 4+ years experience\\n\\n**Data Engineer** - Austin, TX\\n- Design and maintain data pipelines\\n- Build data warehousing solutions\\n- Optimize data infrastructure for scale\\n- 3+ years experience with SQL, Python, and ETL tools\\n\\n**Business Intelligence Analyst** - Chicago, IL\\n- Create dashboards and reports for stakeholders\\n- Analyze business metrics and trends\\n- Support data-driven decision making\\n- 2+ years experience with BI tools (Tableau, Looker, etc.)\\n\\n### Product & Design\\n\\n**Product Manager** - San Francisco, CA\\n- Define product roadmap and strategy\\n- Work closely with engineering and design teams\\n- Gather customer insights and market research\\n- 3+ years product management experience in B2B SaaS\\n\\n**UX/UI Designer** - Remote\\n- Design user experiences for our insurance platforms\\n- Conduct user research and usability testing\\n- Create design systems and prototypes\\n- 3+ years design experience, insurance/fintech preferred\\n\\n### Sales & Customer Success\\n\\n**Account Executive** - New York, NY / Chicago, IL / Austin, TX\\n- Manage B2B sales cycle for enterprise clients\\n- Build relationships with insurance companies\\n- Exceed revenue targets and grow territory\\n- 3+ years B2B sales experience, SaaS preferred\\n\\n**Sales Development Representative** - Austin, TX / Remote\\n- Generate qualified leads for sales team\\n- Conduct outreach to prospective clients\\n- Research and identify target accounts\\n- 1+ years SDR/BDR experience preferred\\n\\n**Customer Success Manager** - San Francisco, CA / New York, NY\\n- Ensure client satisfaction and retention\\n- Drive product adoption and expansion\\n- Serve as trusted advisor to clients\\n- 2+ years customer success experience in SaaS\\n\\n**Solutions Engineer** - Remote\\n- Provide technical expertise during sales process\\n- Conduct product demonstrations and POCs\\n- Support implementation and integration\\n- 3+ years technical pre-sales experience\\n\\n### Operations & Support\\n\\n**Technical Support Specialist** - Remote\\n- Provide tier 2/3 technical support to clients\\n- Troubleshoot platform issues\\n- Create documentation and knowledge base articles\\n- 2+ years technical support experience\\n\\n**HR Business Partner** - San Francisco, CA\\n- Partner with leadership on people strategy\\n- Support talent development and retention\\n- Drive culture and engagement initiatives\\n- 4+ years HR experience, tech industry preferred\\n\\n## How to Apply\\n\\nVisit our careers portal at careers.insurellm.com or send your resume to jobs@insurellm.com. Please include the position title in your subject line.\"),\n",
       "  Document(id='b1394732-1133-41b0-9ac2-cfa0e559d7c9', metadata={'doc_type': 'employees', 'source': 'knowledge-base\\\\employees\\\\Avery Lancaster.md'}, page_content=\"# Avery Lancaster\\n\\n## Summary\\n- **Date of Birth**: March 15, 1985\\n- **Job Title**: Co-Founder & Chief Executive Officer (CEO)\\n- **Location**: San Francisco, California\\n- **Current Salary**: $225,000  \\n\\n## Insurellm Career Progression\\n- **2015 - Present**: Co-Founder & CEO  \\n  Avery Lancaster co-founded Insurellm in 2015 and has since guided the company to its current position as a leading Insurance Tech provider. Avery is known for her innovative leadership strategies and risk management expertise that have catapulted the company into the mainstream insurance market. - **2013 - 2015**: Senior Product Manager at Innovate Insurance Solutions  \\n  Before launching Insurellm, Avery was a leading Senior Product Manager at Innovate Insurance Solutions, where she developed groundbreaking insurance products aimed at the tech sector. - **2010 - 2013**: Business Analyst at Edge Analytics  \\n  Prior to joining Innovate, Avery worked as a Business Analyst, focusing on market trends and consumer preferences in the insurance space. This position laid the groundwork for Avery’s future entrepreneurial endeavors. ## Annual Performance History\\n- **2015**: **Exceeds Expectations**  \\n  Avery’s leadership during Insurellm's foundational year led to successful product launches and securing initial funding. - **2016**: **Meets Expectations**  \\n  Growth continued, though challenges arose in operational efficiency that required Avery's attention. - **2017**: **Developing**  \\n  Market competition intensified, and monthly sales metrics were below targets. Avery implemented new strategies which required a steep learning curve. - **2018**: **Exceeds Expectations**  \\n  Under Avery’s pivoted vision, Insurellm launched two new successful products that significantly increased market share. - **2019**: **Meets Expectations**  \\n  Steady growth, however, some team tensions led to a minor drop in employee morale.\"),\n",
       "  Document(id='9ce086ea-cca3-4456-9b69-469f33502e7a', metadata={'source': 'knowledge-base\\\\contracts\\\\Contract with Continental Commercial Group for Bizllm.md', 'doc_type': 'contracts'}, page_content='# Contract with Continental Commercial Group for Bizllm\\n\\n**Contract Date:** April 12, 2025\\n**Contract Number:** BZ-2025-E-0147\\n**Parties:**\\n- Insurellm, Inc. - Continental Commercial Group, Inc. ---\\n\\n## Terms\\n\\n1. **Coverage:** Insurellm agrees to provide Continental Commercial Group with comprehensive access to the Bizllm Enterprise platform, including white-label capabilities, dedicated infrastructure, and full API access for commercial insurance operations across all 50 US states. 2. **Duration:** This agreement is effective for a period of 36 months from the contract date, with provisions for early renewal discussions at the 24-month mark. 3. **Payment:** Continental Commercial Group shall pay custom Enterprise pricing of $42,000 per month for the first 12 months, with pricing review and adjustment for years 2-3 based on usage metrics and expanded feature adoption. 4.'),\n",
       "  Document(id='c752ee69-9876-443f-8d0d-7ac02546b023', metadata={'doc_type': 'contracts', 'source': 'knowledge-base\\\\contracts\\\\Contract with Rapid Claims Associates for Claimllm.md'}, page_content=\"**Confidentiality:** Both parties agree to maintain confidentiality of proprietary information, claimant data, and processing methodologies disclosed during this contract. 6. **Data Ownership:** Rapid Claims Associates retains ownership of all claims data. Insurellm may use anonymized, aggregated data for product improvement. 7. **Liability:** Insurellm's liability is limited to direct damages not exceeding total fees paid in the preceding 6 months. ---\\n\\n## Renewal\\n\\nUnless either party provides written notice of termination at least 30 days prior to contract expiration, this agreement automatically renews for successive 12-month terms. Pricing may be adjusted annually with 60 days' advance notice, capped at 10% increase per year. ---\\n\\n## Features\\n\\nRapid Claims Associates will receive the following Core Tier features:\\n\\n1. **Intelligent FNOL Processing:** Multi-channel first notice of loss intake via:\\n   - Mobile app integration\\n   - Web portal submission\\n   - Email parsing with NLP extraction\\n   - Phone system integration with IVR\\n   - Chatbot-assisted intake\\n\\n2. **Automated Triage and Routing:** Machine learning algorithms assess claim severity and complexity to route appropriately:\\n   - Low-complexity claims → automated processing\\n   - Medium-complexity claims → junior adjuster queue\\n   - High-complexity/high-value claims → senior adjuster assignment\\n   - Fraud-flagged claims → special investigation unit\\n\\n3. **Basic Document Processing:** OCR and NLP extraction from:\\n   - Police reports\\n   - Repair estimates\\n   - Medical bills and records\\n   - Witness statements\\n   - Photo and video evidence\\n\\n4. **Standard Fraud Detection:** Rule-based fraud screening including:\\n   - Duplicate claim detection\\n   - Unusual pattern identification\\n   - Loss location verification\\n   - Claimant history review\\n\\n5. **Claimant Communication Hub:** Automated status updates via:\\n   - SMS text messages\\n   - Email notifications\\n   - Mobile app push notifications\\n   - Scheduled status update intervals\\n\\n6. **Basic Reporting:** Standard dashboards tracking:\\n   - Claims volume and cycle time\\n   - Average settlement amounts\\n   - Adjuster productivity metrics\\n   - Customer satisfaction scores\\n\\n7. **Payment Processing:** Integration with payment systems for:\\n   - Direct deposit (ACH)\\n   - Check issuance\\n   - Digital wallets (PayPal, Venmo)\\n   - Simple multi-party splits\\n\\n---\\n\\n## Support\\n\\nInsurellm commits to providing comprehensive support to Rapid Claims Associates:\\n\\n1. **Onboarding:** 2-week implementation program including:\\n   - System configuration and data migration\\n   - Training for up to 10 claims staff members (12 hours total)\\n   - Process workflow mapping and optimization\\n   - Integration with existing claims management system\\n\\n2. **Technical Support:**\\n   - Email and phone support Monday-Friday 8 AM - 6 PM EST\\n   - Response time: 8 hours for critical issues, 24 hours for standard requests\\n   - Online knowledge base and FAQ access\\n   - Monthly platform office hours for questions\\n\\n3. **Platform Updates:**\\n   - Quarterly feature releases with new capabilities\\n   - Monthly security patches and bug fixes\\n   - Release notes and changelog documentation\\n   - Advance notice of breaking changes (minimum 30 days)\\n\\n4.\")])"
      ]
     },
     "execution_count": 5,
     "metadata": {},
     "output_type": "execute_result"
    }
   ],
   "source": [
    "await evaluate_answer(test_data[1])"
   ]
  },
  {
   "cell_type": "markdown",
   "metadata": {},
   "source": [
    "## AND FINALLY - all come together in a UI"
   ]
  },
  {
   "cell_type": "code",
   "execution_count": null,
   "metadata": {},
   "outputs": [],
   "source": [
    "!uv run evaluator.py"
   ]
  },
  {
   "cell_type": "markdown",
   "metadata": {},
   "source": [
    "## Ideas for your experiments\n",
    "\n",
    "### Quick wins\n",
    "\n",
    "- Experiment with the encoder\n",
    "- Experiment with chunking strategies\n",
    "\n",
    "### Big change ideas\n",
    "\n",
    "1. Pre-processing - use an LLM to rewrite (a) the chunks and/or (b) the questions / conversation history\n",
    "2. Hierarchical RAG - summarize at different levels and do RAG over summaries\n",
    "3. Tools!"
   ]
  },
  {
   "cell_type": "markdown",
   "metadata": {},
   "source": []
  }
 ],
 "metadata": {
  "kernelspec": {
   "display_name": ".venv",
   "language": "python",
   "name": "python3"
  },
  "language_info": {
   "codemirror_mode": {
    "name": "ipython",
    "version": 3
   },
   "file_extension": ".py",
   "mimetype": "text/x-python",
   "name": "python",
   "nbconvert_exporter": "python",
   "pygments_lexer": "ipython3",
   "version": "3.12.11"
  }
 },
 "nbformat": 4,
 "nbformat_minor": 4
}
