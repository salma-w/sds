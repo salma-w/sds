{
 "cells": [
  {
   "cell_type": "markdown",
   "id": "211efbd0",
   "metadata": {},
   "source": [
    "## Lab 7: Routing and Abtractions"
   ]
  },
  {
   "cell_type": "code",
   "execution_count": 3,
   "id": "16ee023f",
   "metadata": {},
   "outputs": [],
   "source": [
    "from  litellm import completion\n"
   ]
  },
  {
   "cell_type": "code",
   "execution_count": 4,
   "id": "f6098e2e",
   "metadata": {},
   "outputs": [],
   "source": [
    "messages=[{\"role\":\"user\",\"content\":\"give me 7*4+2=?\"}]"
   ]
  },
  {
   "cell_type": "code",
   "execution_count": 5,
   "id": "df126b33",
   "metadata": {},
   "outputs": [],
   "source": [
    "result=completion(model='openai/gpt-5-mini',\n",
    "messages=messages\n",
    ")"
   ]
  },
  {
   "cell_type": "code",
   "execution_count": 7,
   "id": "d7bb125a",
   "metadata": {},
   "outputs": [
    {
     "data": {
      "text/plain": [
       "'30'"
      ]
     },
     "execution_count": 7,
     "metadata": {},
     "output_type": "execute_result"
    }
   ],
   "source": [
    "result.choices[0].message.content"
   ]
  },
  {
   "cell_type": "code",
   "execution_count": null,
   "id": "f5df3230",
   "metadata": {},
   "outputs": [],
   "source": [
    "from re import M\n",
    "from langchain_openai import ChatOpenAI\n",
    "from IPython.display import display,Markdown\n",
    "llm=ChatOpenAI(model=\"gpt-5-nano\")\n",
    "result=llm.invoke(message)\n",
    "display(Markdown(result.content))"
   ]
  }
 ],
 "metadata": {
  "kernelspec": {
   "display_name": ".venv",
   "language": "python",
   "name": "python3"
  },
  "language_info": {
   "codemirror_mode": {
    "name": "ipython",
    "version": 3
   },
   "file_extension": ".py",
   "mimetype": "text/x-python",
   "name": "python",
   "nbconvert_exporter": "python",
   "pygments_lexer": "ipython3",
   "version": "3.12.11"
  }
 },
 "nbformat": 4,
 "nbformat_minor": 5
}
