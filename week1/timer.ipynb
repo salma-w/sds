{
 "cells": [
  {
   "cell_type": "code",
   "execution_count": null,
   "id": "58e76a94",
   "metadata": {},
   "outputs": [],
   "source": [
    "from dotenv import load_dotenv\n",
    "from openai import OpenAI\n",
    "from IPython.display import display, Markdown\n",
    "import time\n",
    "load_dotenv(override=True)\n",
    "openai = OpenAI()"
   ]
  },
  {
   "cell_type": "code",
   "execution_count": null,
   "id": "1998770e",
   "metadata": {},
   "outputs": [],
   "source": [
    "break_minutes = 10\n",
    "style = \"in the style of Captain Jack Sparrow\""
   ]
  },
  {
   "cell_type": "code",
   "execution_count": null,
   "id": "37f01157",
   "metadata": {},
   "outputs": [],
   "source": [
    "def timer_messages(total_minutes, remaining_minutes):\n",
    "    message = f\"\"\"\n",
    "You are a motivational assistant responsible for keeping students excited during their break.\n",
    "You speak in the style of {style}.\n",
    "The students are on an AI Bootcamp for building and deploying Generative AI and Agentic AI applications.\n",
    "The total break time is {total_minutes} minutes.\n",
    "\"\"\"\n",
    "    if remaining_minutes <= 0:\n",
    "        message += \"The break is over! The students need to get back to work!\"\n",
    "    else:\n",
    "        message += f\"There are {remaining_minutes} minutes left in the break!\"\n",
    "    message += \"\\n\\nNow reply in markdown with your message; including lots of markdown formatting, no other comments, in the style of {style}.\"\n",
    "    return [{\"role\": \"system\", \"content\": message}]"
   ]
  },
  {
   "cell_type": "code",
   "execution_count": null,
   "id": "a19a0549",
   "metadata": {},
   "outputs": [],
   "source": [
    "for i in range(break_minutes, -1, -1):\n",
    "    messages = timer_messages(break_minutes, i)\n",
    "    response = openai.chat.completions.create(model=\"gpt-5-mini\", messages=messages, reasoning_effort=\"minimal\")\n",
    "    reply = response.choices[0].message.content\n",
    "    display(Markdown(reply))\n",
    "    if i:\n",
    "        time.sleep(45)\n",
    "        display(Markdown(\"___\"))"
   ]
  },
  {
   "cell_type": "code",
   "execution_count": null,
   "id": "0dc3b487",
   "metadata": {},
   "outputs": [],
   "source": []
  },
  {
   "cell_type": "code",
   "execution_count": null,
   "id": "3d2bccfa",
   "metadata": {},
   "outputs": [],
   "source": []
  },
  {
   "cell_type": "code",
   "execution_count": null,
   "id": "191cace7",
   "metadata": {},
   "outputs": [],
   "source": []
  }
 ],
 "metadata": {
  "kernelspec": {
   "display_name": ".venv",
   "language": "python",
   "name": "python3"
  },
  "language_info": {
   "codemirror_mode": {
    "name": "ipython",
    "version": 3
   },
   "file_extension": ".py",
   "mimetype": "text/x-python",
   "name": "python",
   "nbconvert_exporter": "python",
   "pygments_lexer": "ipython3",
   "version": "3.12.9"
  }
 },
 "nbformat": 4,
 "nbformat_minor": 5
}
