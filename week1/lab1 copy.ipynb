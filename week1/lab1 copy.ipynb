{
 "cells": [
  {
   "cell_type": "markdown",
   "id": "67efb10f",
   "metadata": {},
   "source": [
    "# Welcome to the SuperDataScience AI Bootcamp!\n",
    "\n",
    "\n",
    "![Bootcamp](../assets/banner2.png)"
   ]
  },
  {
   "cell_type": "markdown",
   "id": "3ece7553",
   "metadata": {},
   "source": [
    "## AGENDA FOR TODAY\n",
    "\n",
    "### Part 1: Welcome!\n",
    "\n",
    "- Introductions\n",
    "- Judo Belts\n",
    "- Course Agenda\n",
    "- Themes of the course\n",
    "- Success\n",
    "\n",
    "### Part 2: Preliminaries\n",
    "\n",
    "- An HTTP call to a friend\n",
    "- The OpenAI Python Client Library\n",
    "- System Prompt vs User Prompt\n",
    "- OpenAI for non OpenAI & LLM as a Judge\n",
    "\n",
    "### Part 3: Foundations\n",
    "\n",
    "- The illusion of memory\n",
    "- Chat vs Reasoning; Training vs Inference scaling\n",
    "- Abstractions vs Routers\n",
    "- Temperature & inside inference\n",
    "- Multi-modal Gradio\n",
    "\n",
    "### <span style=\"color: purple;\">First - please open a Cursor Terminal and run `git pull` to pick up the latest code</span>"
   ]
  },
  {
   "cell_type": "markdown",
   "id": "6b9143cf",
   "metadata": {},
   "source": [
    "# Lab1: An HTTP call to a friend"
   ]
  },
  {
   "cell_type": "code",
   "execution_count": 3,
   "id": "270ba8c9",
   "metadata": {},
   "outputs": [],
   "source": [
    "message = \"Tell me a fun fact.\""
   ]
  },
  {
   "cell_type": "markdown",
   "id": "ce05876a",
   "metadata": {},
   "source": [
    "### <span style=\"color: green;\">Question: what is an \"Endpoint\"?</span>"
   ]
  },
  {
   "cell_type": "code",
   "execution_count": 2,
   "id": "25fe06d4",
   "metadata": {},
   "outputs": [
    {
     "name": "stdout",
     "output_type": "stream",
     "text": [
      "key exist\n"
     ]
    }
   ],
   "source": [
    "from math import isnan\n",
    "from dotenv import load_dotenv\n",
    "import requests\n",
    "import os\n",
    "\n",
    "load_dotenv(override=True)\n",
    "key=os.getenv(\"OPENAI_API_KEY\")\n",
    "if key:\n",
    "    print(\"key exist\")\n",
    "else:\n",
    "    print(\"key does not exist\")"
   ]
  },
  {
   "cell_type": "code",
   "execution_count": 51,
   "id": "45b183b9",
   "metadata": {},
   "outputs": [
    {
     "name": "stdout",
     "output_type": "stream",
     "text": [
      "b'{\\n  \"id\": \"chatcmpl-CN93m1lQRYTWrB10wGsMZ1Gs37BGK\",\\n  \"object\": \"chat.completion\",\\n  \"created\": 1759632406,\\n  \"model\": \"gpt-4.1-nano-2025-04-14\",\\n  \"choices\": [\\n    {\\n      \"index\": 0,\\n      \"message\": {\\n        \"role\": \"assistant\",\\n        \"content\": \"Sure! Here\\'s a fun fact: Honey never spoils. Archaeologists have found pots of honey in ancient Egyptian tombs that are over 3,000 years old and still perfectly edible!\",\\n        \"refusal\": null,\\n        \"annotations\": []\\n      },\\n      \"logprobs\": null,\\n      \"finish_reason\": \"stop\"\\n    }\\n  ],\\n  \"usage\": {\\n    \"prompt_tokens\": 13,\\n    \"completion_tokens\": 38,\\n    \"total_tokens\": 51,\\n    \"prompt_tokens_details\": {\\n      \"cached_tokens\": 0,\\n      \"audio_tokens\": 0\\n    },\\n    \"completion_tokens_details\": {\\n      \"reasoning_tokens\": 0,\\n      \"audio_tokens\": 0,\\n      \"accepted_prediction_tokens\": 0,\\n      \"rejected_prediction_tokens\": 0\\n    }\\n  },\\n  \"service_tier\": \"default\",\\n  \"system_fingerprint\": \"fp_7c233bf9d1\"\\n}\\n'\n"
     ]
    }
   ],
   "source": [
    "from requests import auth\n",
    "\n",
    "\n",
    "url = \"https://api.openai.com/v1/chat/completions\"\n",
    "message_to_send = [{\"role\": \"user\", \"content\": message}]\n",
    "headers={\"Authorization\":f\"Bearer {key}\", \"Content-Type\":\"application/json\"}\n",
    "data={\"model\":\"gpt-4.1-nano\", \"messages\":message_to_send}\n",
    "result=requests.post(url=url,json=data,headers=headers)\n",
    "print(result.content)"
   ]
  },
  {
   "cell_type": "code",
   "execution_count": 52,
   "id": "53b49cc0",
   "metadata": {},
   "outputs": [
    {
     "data": {
      "text/markdown": [
       "Sure! Here's a fun fact: Honey never spoils. Archaeologists have found pots of honey in ancient Egyptian tombs that are over 3,000 years old and still perfectly edible!"
      ],
      "text/plain": [
       "<IPython.core.display.Markdown object>"
      ]
     },
     "metadata": {},
     "output_type": "display_data"
    }
   ],
   "source": [
    "from random import choice\n",
    "\n",
    "from IPython.display import display, Markdown\n",
    "\n",
    "\n",
    "result_str=result.json()['choices'][0]['message']['content']\n",
    "display(Markdown(result_str))"
   ]
  }
 ],
 "metadata": {
  "kernelspec": {
   "display_name": ".venv",
   "language": "python",
   "name": "python3"
  },
  "language_info": {
   "codemirror_mode": {
    "name": "ipython",
    "version": 3
   },
   "file_extension": ".py",
   "mimetype": "text/x-python",
   "name": "python",
   "nbconvert_exporter": "python",
   "pygments_lexer": "ipython3",
   "version": "3.12.11"
  }
 },
 "nbformat": 4,
 "nbformat_minor": 5
}
