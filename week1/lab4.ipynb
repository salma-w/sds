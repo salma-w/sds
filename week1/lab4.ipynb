{
 "cells": [
  {
   "cell_type": "markdown",
   "id": "ccdfb040",
   "metadata": {},
   "source": [
    "## Lab 4: OpenAI for non-OpenAI"
   ]
  },
  {
   "cell_type": "code",
   "execution_count": 4,
   "id": "6bf82c34",
   "metadata": {},
   "outputs": [
    {
     "data": {
      "text/plain": [
       "True"
      ]
     },
     "execution_count": 4,
     "metadata": {},
     "output_type": "execute_result"
    }
   ],
   "source": [
    "import os\n",
    "import json\n",
    "from dotenv import load_dotenv\n",
    "from openai import OpenAI\n",
    "from IPython.display import display, Markdown, update_display\n",
    "import requests\n",
    "load_dotenv(override=True)"
   ]
  },
  {
   "cell_type": "markdown",
   "id": "0dedb47e",
   "metadata": {},
   "source": [
    "### We're now going to ask a hard question to lots of models"
   ]
  },
  {
   "cell_type": "code",
   "execution_count": 10,
   "id": "3fa6c4bb",
   "metadata": {},
   "outputs": [],
   "source": [
    "message = \"In 1 sentence, describe a rainbow to someone who's never been able to see. \\\n",
    "Then in 1 sentence, describe the imaginary number i to someone who doesn't understand math. \\\n",
    "Then in 1 sentence, find a connection between rainbows and imaginary numbers. \\\n",
    "Then end by stating how many words are in your answer.\"\n",
    "\n",
    "messages = [{\"role\": \"user\", \"content\": message}]"
   ]
  },
  {
   "cell_type": "code",
   "execution_count": null,
   "id": "cdf88ee5",
   "metadata": {},
   "outputs": [],
   "source": [
    "openai_api_key = os.getenv('OPENAI_API_KEY')\n",
    "anthropic_api_key = os.getenv('ANTHROPIC_API_KEY')\n",
    "google_api_key = os.getenv('GOOGLE_API_KEY')\n",
    "deepseek_api_key = os.getenv('DEEPSEEK_API_KEY')\n",
    "groq_api_key = os.getenv('GROQ_API_KEY')\n",
    "grok_api_key = os.getenv('GROK_API_KEY')\n",
    "\n",
    "if openai_api_key:\n",
    "    print(f\"OpenAI API Key exists and begins {openai_api_key[:8]}\")\n",
    "else:\n",
    "    print(\"OpenAI API Key not set\")\n",
    "    \n",
    "if anthropic_api_key:\n",
    "    print(f\"Anthropic API Key exists and begins {anthropic_api_key[:7]}\")\n",
    "else:\n",
    "    print(\"Anthropic API Key not set (and this is optional)\")\n",
    "\n",
    "if google_api_key:\n",
    "    print(f\"Google API Key exists and begins {google_api_key[:2]}\")\n",
    "else:\n",
    "    print(\"Google API Key not set (and this is optional)\")\n",
    "\n",
    "if deepseek_api_key:\n",
    "    print(f\"DeepSeek API Key exists and begins {deepseek_api_key[:3]}\")\n",
    "else:\n",
    "    print(\"DeepSeek API Key not set (and this is optional)\")\n",
    "\n",
    "if groq_api_key:\n",
    "    print(f\"Groq API Key exists and begins {groq_api_key[:4]}\")\n",
    "else:\n",
    "    print(\"Groq API Key not set (and this is optional)\")\n",
    "\n",
    "if grok_api_key:\n",
    "    print(f\"Grok API Key exists and begins {grok_api_key[:4]}\")\n",
    "else:\n",
    "    print(\"Grok API Key not set (and this is optional)\")"
   ]
  },
  {
   "cell_type": "markdown",
   "id": "f92ea11e",
   "metadata": {},
   "source": [
    "#### <span style=\"color: green;\">Question: what's going on below? Why are we calling OpenAI with details about Anthropic?</span>"
   ]
  },
  {
   "cell_type": "code",
   "execution_count": 6,
   "id": "e0fe3794",
   "metadata": {},
   "outputs": [
    {
     "ename": "NameError",
     "evalue": "name 'anthropic_api_key' is not defined",
     "output_type": "error",
     "traceback": [
      "\u001b[31m---------------------------------------------------------------------------\u001b[39m",
      "\u001b[31mNameError\u001b[39m                                 Traceback (most recent call last)",
      "\u001b[36mCell\u001b[39m\u001b[36m \u001b[39m\u001b[32mIn[6]\u001b[39m\u001b[32m, line 9\u001b[39m\n\u001b[32m      6\u001b[39m ollama_url = \u001b[33m'\u001b[39m\u001b[33mhttp://localhost:11434/v1\u001b[39m\u001b[33m'\u001b[39m\n\u001b[32m      8\u001b[39m openai = OpenAI()\n\u001b[32m----> \u001b[39m\u001b[32m9\u001b[39m anthropic = OpenAI(api_key=\u001b[43manthropic_api_key\u001b[49m, base_url=anthropic_url)\n\u001b[32m     10\u001b[39m gemini = OpenAI(api_key=google_api_key, base_url=gemini_url)\n\u001b[32m     11\u001b[39m deepseek = OpenAI(api_key=deepseek_api_key, base_url=deepseek_url)\n",
      "\u001b[31mNameError\u001b[39m: name 'anthropic_api_key' is not defined"
     ]
    }
   ],
   "source": [
    "anthropic_url = \"https://api.anthropic.com/v1\"\n",
    "gemini_url = \"https://generativelanguage.googleapis.com/v1beta/openai/\"\n",
    "deepseek_url = \"https://api.deepseek.com\"\n",
    "groq_url = \"https://api.groq.com/openai/v1\"\n",
    "grok_url = \"https://api.x.ai/v1\"\n",
    "ollama_url = 'http://localhost:11434/v1/chat'\n",
    "\n",
    "openai = OpenAI()\n",
    "anthropic = OpenAI(api_key=anthropic_api_key, base_url=anthropic_url)\n",
    "gemini = OpenAI(api_key=google_api_key, base_url=gemini_url)\n",
    "deepseek = OpenAI(api_key=deepseek_api_key, base_url=deepseek_url)\n",
    "groq = OpenAI(api_key=groq_api_key, base_url=groq_url)\n",
    "grok = OpenAI(api_key=grok_api_key, base_url=grok_url)\n",
    "ollama = OpenAI(base_url=ollama_url, api_key='ollama')\n"
   ]
  },
  {
   "cell_type": "code",
   "execution_count": 7,
   "id": "6d456fa5",
   "metadata": {},
   "outputs": [],
   "source": [
    "models = []\n",
    "answers = []\n",
    "\n",
    "def answer(client, model):\n",
    "    stream = client.chat.completions.create(model=model, messages=messages, stream=True)\n",
    "    prefix = f\"### Response from {model}:\\n\\n\"\n",
    "    reply = \"\"\n",
    "    display_handle = display(Markdown(prefix), display_id=True)\n",
    "    for chunk in stream:\n",
    "        reply += chunk.choices[0].delta.content or ''\n",
    "        update_display(Markdown(prefix+reply), display_id=display_handle.display_id)\n",
    "    words = reply.split('</think>')[1] if '</think>' in reply else reply\n",
    "    reply += f\"\\n\\n#### Calculated true word count: {len(words.split())}\"\n",
    "    update_display(Markdown(prefix+reply), display_id=display_handle.display_id)\n",
    "    \n",
    "    models.append(model)\n",
    "    answers.append(reply)"
   ]
  },
  {
   "cell_type": "code",
   "execution_count": 11,
   "id": "ce4349f1",
   "metadata": {},
   "outputs": [
    {
     "data": {
      "text/markdown": [
       "### Response from gpt-4.1-mini:\n",
       "\n",
       "A rainbow is a graceful arc of vibrant colors that appears in the sky when sunlight passes through raindrops, creating a beautiful spectrum you can almost feel as a warm, soothing presence. The imaginary number i is like a special tool in math that lets us think about solutions to problems that can’t be solved using just regular numbers, almost like imagining a new direction to explore. Both rainbows and imaginary numbers reveal hidden dimensions—rainbows show the unseen spectrum of light, while imaginary numbers open up new possibilities beyond everyday numbers. My answer contains 66 words.\n",
       "\n",
       "#### Calculated true word count: 96"
      ],
      "text/plain": [
       "<IPython.core.display.Markdown object>"
      ]
     },
     "metadata": {},
     "output_type": "display_data"
    }
   ],
   "source": [
    "answer(openai, \"gpt-4.1-mini\")"
   ]
  },
  {
   "cell_type": "code",
   "execution_count": null,
   "id": "0bc8e270",
   "metadata": {},
   "outputs": [],
   "source": [
    "answer(openai, \"gpt-5-nano\")"
   ]
  },
  {
   "cell_type": "code",
   "execution_count": null,
   "id": "69fff502",
   "metadata": {},
   "outputs": [],
   "source": [
    "answer(openai, \"gpt-5\")"
   ]
  },
  {
   "cell_type": "code",
   "execution_count": null,
   "id": "7dd44125",
   "metadata": {},
   "outputs": [],
   "source": [
    "# claude-sonnet-4-20250514\n",
    "\n",
    "answer(anthropic, \"claude-sonnet-4-5-20250929\")"
   ]
  },
  {
   "cell_type": "code",
   "execution_count": null,
   "id": "93aaca99",
   "metadata": {},
   "outputs": [],
   "source": [
    "answer(gemini, \"gemini-2.5-flash-lite\")"
   ]
  },
  {
   "cell_type": "code",
   "execution_count": null,
   "id": "ffdf8ea3",
   "metadata": {},
   "outputs": [],
   "source": [
    "answer(gemini, \"gemini-2.5-pro\")"
   ]
  },
  {
   "cell_type": "code",
   "execution_count": null,
   "id": "d1db5c8c",
   "metadata": {},
   "outputs": [],
   "source": [
    "# DeepSeek 3.1 Terminus - not on reasoning mode or it takes too long\n",
    "\n",
    "answer(deepseek, \"deepseek-chat\")"
   ]
  },
  {
   "cell_type": "code",
   "execution_count": null,
   "id": "7006b313",
   "metadata": {},
   "outputs": [],
   "source": [
    "answer(groq, \"deepseek-r1-distill-llama-70b\")"
   ]
  },
  {
   "cell_type": "markdown",
   "id": "87e59d0c",
   "metadata": {},
   "source": [
    "#### <span style=\"color: orange;\">Question: what's the difference between Grok and Groq and why do they have such similar names?</span>"
   ]
  },
  {
   "cell_type": "code",
   "execution_count": null,
   "id": "bfa14883",
   "metadata": {},
   "outputs": [],
   "source": [
    "answer(grok, \"grok-4\")"
   ]
  },
  {
   "cell_type": "code",
   "execution_count": null,
   "id": "aa6104cf",
   "metadata": {},
   "outputs": [],
   "source": [
    "!ollama pull llama3.2\n",
    "!ollama pull gpt-oss"
   ]
  },
  {
   "cell_type": "code",
   "execution_count": null,
   "id": "f9a0f09c",
   "metadata": {},
   "outputs": [],
   "source": [
    "requests.get(\"http://localhost:11434\").content"
   ]
  },
  {
   "cell_type": "code",
   "execution_count": null,
   "id": "641743e2",
   "metadata": {},
   "outputs": [],
   "source": [
    "answer(ollama, \"llama3.2\")"
   ]
  },
  {
   "cell_type": "code",
   "execution_count": null,
   "id": "6382e390",
   "metadata": {},
   "outputs": [],
   "source": [
    "answer(ollama, \"gpt-oss:20b\")"
   ]
  },
  {
   "cell_type": "code",
   "execution_count": null,
   "id": "41cbb5e4",
   "metadata": {},
   "outputs": [],
   "source": [
    "answer(groq, \"openai/gpt-oss-120b\")"
   ]
  },
  {
   "cell_type": "code",
   "execution_count": null,
   "id": "bc8c38a9",
   "metadata": {},
   "outputs": [],
   "source": [
    "len(models)"
   ]
  },
  {
   "cell_type": "markdown",
   "id": "1cf6639a",
   "metadata": {},
   "source": [
    "## LLM as a Judge"
   ]
  },
  {
   "cell_type": "code",
   "execution_count": null,
   "id": "e32e153a",
   "metadata": {},
   "outputs": [],
   "source": [
    "together = \"\"\n",
    "for index, answer in enumerate(answers):\n",
    "    together += f\"# Response from competitor {index+1}\\n\\n\"\n",
    "    together += answer + \"\\n\\n\""
   ]
  },
  {
   "cell_type": "code",
   "execution_count": null,
   "id": "fb22b408",
   "metadata": {},
   "outputs": [],
   "source": [
    "display(Markdown(together))"
   ]
  },
  {
   "cell_type": "code",
   "execution_count": null,
   "id": "ef5787e7",
   "metadata": {},
   "outputs": [],
   "source": [
    "judge = f\"\"\"You are judging a competition between {len(models)} competitors.\n",
    "Each model has been given this question:\n",
    "\n",
    "{message}\n",
    "\n",
    "Your job is to evaluate each response for clarity and strength of argument and accuracy of word count, and rank them in order of best to worst.\n",
    "Respond with JSON, and only JSON, with the following format:\n",
    "{{\"results\": [\"best competitor number\", \"second best competitor number\", \"third best competitor number\", ...]}}\n",
    "\n",
    "Here are the responses from each competitor:\n",
    "\n",
    "{together}\n",
    "\n",
    "Now respond with the JSON with the ranked order of the competitors, nothing else. Do not include markdown formatting or code blocks.\"\"\""
   ]
  },
  {
   "cell_type": "code",
   "execution_count": null,
   "id": "77b4cd6c",
   "metadata": {},
   "outputs": [],
   "source": [
    "display(Markdown(judge))"
   ]
  },
  {
   "cell_type": "code",
   "execution_count": null,
   "id": "371d96ea",
   "metadata": {},
   "outputs": [],
   "source": [
    "judge_messages = [{\"role\": \"user\", \"content\": judge}]\n",
    "response = groq.chat.completions.create(model=\"openai/gpt-oss-120b\", messages=judge_messages)\n",
    "results = response.choices[0].message.content\n",
    "results\n"
   ]
  },
  {
   "cell_type": "code",
   "execution_count": null,
   "id": "7544dae4",
   "metadata": {},
   "outputs": [],
   "source": [
    "results_dict = json.loads(results)\n",
    "ranks = results_dict[\"results\"]\n",
    "for index, result in enumerate(ranks):\n",
    "    competitor = models[int(result)-1]\n",
    "    print(f\"Rank {index+1}: {competitor}\")"
   ]
  },
  {
   "cell_type": "code",
   "execution_count": null,
   "id": "4281b9dd",
   "metadata": {},
   "outputs": [],
   "source": []
  }
 ],
 "metadata": {
  "kernelspec": {
   "display_name": ".venv",
   "language": "python",
   "name": "python3"
  },
  "language_info": {
   "codemirror_mode": {
    "name": "ipython",
    "version": 3
   },
   "file_extension": ".py",
   "mimetype": "text/x-python",
   "name": "python",
   "nbconvert_exporter": "python",
   "pygments_lexer": "ipython3",
   "version": "3.12.11"
  }
 },
 "nbformat": 4,
 "nbformat_minor": 5
}
