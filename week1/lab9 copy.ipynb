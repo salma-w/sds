{
 "cells": [
  {
   "cell_type": "markdown",
   "id": "70629249-1ff7-4638-8d44-5f07e67a071b",
   "metadata": {},
   "source": [
    "# Lab 9 - Gradio and AI Assistant"
   ]
  },
  {
   "cell_type": "markdown",
   "id": "aa7beff0-eb67-4892-aa39-351d98f96d40",
   "metadata": {},
   "source": [
    "And now we wrap this in a simple chat() function,  \n",
    "and then we use the shockingly simple Gradio platform to bring up a Chatbot UI.\n",
    "\n",
    "First, the chat function, which takes the current message and the history of prior messages:"
   ]
  },
  {
   "cell_type": "markdown",
   "id": "7bf11434",
   "metadata": {},
   "source": []
  },
  {
   "cell_type": "code",
   "execution_count": null,
   "id": "acfc6f79",
   "metadata": {},
   "outputs": [],
   "source": [
    "from openai import OpenAI\n",
    "from IPython.display import display, Markdown\n",
    "import gradio as gd"
   ]
  },
  {
   "cell_type": "code",
   "execution_count": 3,
   "id": "88d08311",
   "metadata": {},
   "outputs": [],
   "source": [
    "openai=OpenAI()"
   ]
  },
  {
   "cell_type": "code",
   "execution_count": 4,
   "id": "5fb0ec54",
   "metadata": {},
   "outputs": [],
   "source": [
    "message=[{\"role\":\"system\", \"content\":\"You are helpful AI airlines assistant\"}]\n"
   ]
  },
  {
   "cell_type": "code",
   "execution_count": null,
   "id": "2ccb00c3",
   "metadata": {},
   "outputs": [],
   "source": []
  },
  {
   "cell_type": "code",
   "execution_count": null,
   "id": "b1b26c7c",
   "metadata": {},
   "outputs": [],
   "source": [
    "def chat(history,user_prompt):\n",
    "    messages=message+history+[{\"role\":\"user\", \"content\":user_prompt}]\n",
    "    response= openai.chat.completions.create(\n",
    "        model=\"gpt-4.1-mini\",\n",
    "        messages=messages\n",
    "    )\n",
    "    reply=response.choices[0].message.content\n",
    "    history+=[{\"role\":\"assisstant\", \"content\":reply}]"
   ]
  },
  {
   "cell_type": "code",
   "execution_count": 5,
   "id": "78b3b7bc",
   "metadata": {},
   "outputs": [],
   "source": [
    "from pandas.core import base\n",
    "from io import BytesIO\n",
    "import base64\n"
   ]
  },
  {
   "cell_type": "code",
   "execution_count": null,
   "id": "632c6d0a",
   "metadata": {},
   "outputs": [],
   "source": [
    "message=[]"
   ]
  },
  {
   "cell_type": "code",
   "execution_count": 7,
   "id": "bdbd2a68",
   "metadata": {},
   "outputs": [],
   "source": [
    "\n",
    "\n",
    "def create_image(city:str):\n",
    "    image=openai.images.create_variation(\n",
    "        model='dall-e-3',\n",
    "        size='256X256',\n",
    "        n=1,\n",
    "        response_format='b64_json',\n",
    "        prompt=\"create an iamge the match the {city}\"\n",
    "    )\n",
    "    \n",
    "    base_image=image.data[0].b64_json\n",
    "    image=base64.b64deconde(base_image)\n",
    "    return image.open(BytesIO(image))\n"
   ]
  },
  {
   "cell_type": "code",
   "execution_count": 10,
   "id": "0e03ca36",
   "metadata": {},
   "outputs": [],
   "source": [
    "ticket_prices = {\"london\": \"$799\", \"paris\": \"$899\", \"tokyo\": \"$1400\", \"sydney\": \"$2999\"}\n"
   ]
  },
  {
   "cell_type": "code",
   "execution_count": null,
   "id": "168774c3",
   "metadata": {},
   "outputs": [],
   "source": [
    "def chat(history, city):\n",
    "    response=openai.chat.completions.create(\n",
    "         model=\"gpt-4.1-mini\",\n",
    "         messages=[{\"role\":\"system\", \"content\":\"You are helpful AI airlines assistant\"}\n",
    "         +history+{\"role\":\"user\", \"content\": city}\n",
    "         ]\n",
    "    )\n",
    "    reply=response.choices[0].message.content\n",
    "    message.append[reply]"
   ]
  },
  {
   "cell_type": "code",
   "execution_count": null,
   "id": "a42c4344",
   "metadata": {},
   "outputs": [],
   "source": [
    "from PIL.ImageOps import contain\n",
    "\n",
    "\n",
    "\n",
    "def get_info(user_input):\n",
    "    chat_result=chat(user_input)\n",
    "    if user_input contain( lambda x:x[1])\n"
   ]
  },
  {
   "cell_type": "markdown",
   "id": "ba266303-707d-4e06-882a-7323bdd812db",
   "metadata": {},
   "source": [
    "## Expertise\n",
    "\n",
    "We can give our model knowledge using the system prompt"
   ]
  },
  {
   "cell_type": "markdown",
   "id": "5df990ea",
   "metadata": {},
   "source": [
    "#### <span style=\"color: orange;\">Question: wait - a Python question. We're changing system_message. But we already used it in the chat function above. Will the next line use the prior system_message or this new system_message? Why?</span>"
   ]
  },
  {
   "cell_type": "markdown",
   "id": "7174aff0-b2d1-41cb-a93f-c371c8bbad76",
   "metadata": {},
   "source": [
    "## First steps towards agentic workflows\n",
    "\n",
    "Having multiple AIs collaborate to solve the problem is a simple step. Let's add another AI to the mix!\n",
    "\n",
    "Let's pick a fun one: adding multi-modality.."
   ]
  },
  {
   "cell_type": "markdown",
   "id": "6d76e9be-70e5-47d7-bdc8-a484630c19a0",
   "metadata": {},
   "source": [
    "## Bringing it all together in a mini Agent Framework\n",
    "\n",
    "Bringing together both our LLM calls in 1 UI"
   ]
  },
  {
   "cell_type": "code",
   "execution_count": null,
   "id": "141ad91d",
   "metadata": {},
   "outputs": [],
   "source": []
  },
  {
   "cell_type": "markdown",
   "id": "3b79b8fb-6c38-4034-b154-0a3f79e0572b",
   "metadata": {},
   "source": [
    "## Congratulations!\n",
    "\n",
    "You just created a multi-modal AI Assistant\n",
    "\n",
    "### Simple Assignment\n",
    "\n",
    "Based on this code:\n",
    "\n",
    "```python\n",
    "ticket_prices = {\"london\": \"$799\", \"paris\": \"$899\", \"tokyo\": \"$1400\", \"sydney\": \"$2999\"}\n",
    "```\n",
    "\n",
    "Allow the Chatbot to quote ticket prices for any of those destinations, and show images!\n",
    "\n",
    "## MAJOR ASSIGNMENT\n",
    "\n",
    "Make a variation of this Chatbot that applies this to your business\n",
    "\n",
    "\n",
    "### Optional Stretch Assignment\n",
    "\n",
    "Research \"tool use\" (also known as Function Calling) and then use this technique to add Tool capabilities to your LLM to look up ticket prices.. and also have it retrieve them from a SQLLite database.\n"
   ]
  },
  {
   "cell_type": "code",
   "execution_count": null,
   "id": "ada4f8b9",
   "metadata": {},
   "outputs": [],
   "source": []
  },
  {
   "cell_type": "code",
   "execution_count": null,
   "id": "d7f1b30f",
   "metadata": {},
   "outputs": [],
   "source": []
  },
  {
   "cell_type": "markdown",
   "id": "d8ee1d41",
   "metadata": {},
   "source": [
    "## Additional preparation for next week:\n",
    "\n",
    "Please gather information about yourself for our RAG example, such as resume, personal projects, any relevant artifacts.\n",
    "\n",
    "## SURVEY LINK:\n",
    "\n",
    "https://docs.google.com/forms/d/1UBoU8ItMNKZ5X0axN8LJqR0SBFDZvuhxsBIk9dwrplg/edit"
   ]
  },
  {
   "cell_type": "markdown",
   "id": "db3124ec",
   "metadata": {},
   "source": []
  }
 ],
 "metadata": {
  "kernelspec": {
   "display_name": ".venv",
   "language": "python",
   "name": "python3"
  },
  "language_info": {
   "codemirror_mode": {
    "name": "ipython",
    "version": 3
   },
   "file_extension": ".py",
   "mimetype": "text/x-python",
   "name": "python",
   "nbconvert_exporter": "python",
   "pygments_lexer": "ipython3",
   "version": "3.12.11"
  }
 },
 "nbformat": 4,
 "nbformat_minor": 5
}
