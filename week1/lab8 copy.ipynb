{
 "cells": [
  {
   "cell_type": "markdown",
   "id": "15cd6350",
   "metadata": {},
   "source": [
    "## Lab 8: Inference and temperature"
   ]
  },
  {
   "cell_type": "markdown",
   "id": "4261e41d",
   "metadata": {},
   "source": [
    "#### <span style=\"color: orange;\">Question: what is temperature and how does it work?</span>\n"
   ]
  },
  {
   "cell_type": "code",
   "execution_count": null,
   "id": "540f1e02",
   "metadata": {},
   "outputs": [],
   "source": []
  }
 ],
 "metadata": {
  "kernelspec": {
   "display_name": ".venv",
   "language": "python",
   "name": "python3"
  },
  "language_info": {
   "codemirror_mode": {
    "name": "ipython",
    "version": 3
   },
   "file_extension": ".py",
   "mimetype": "text/x-python",
   "name": "python",
   "nbconvert_exporter": "python",
   "pygments_lexer": "ipython3",
   "version": "3.12.9"
  }
 },
 "nbformat": 4,
 "nbformat_minor": 5
}
