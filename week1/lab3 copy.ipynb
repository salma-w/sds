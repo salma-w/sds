{
 "cells": [
  {
   "cell_type": "markdown",
   "id": "211efbd0",
   "metadata": {},
   "source": [
    "## Lab 3: System vs User Prompts"
   ]
  },
  {
   "cell_type": "markdown",
   "id": "3e1245ee",
   "metadata": {},
   "source": [
    "### <span style=\"color: green;\">Question: what's the difference between a System Prompt and a User Prompt?</span>"
   ]
  },
  {
   "cell_type": "markdown",
   "id": "418e9e27",
   "metadata": {},
   "source": [
    "### <span style=\"color: orange;\">Question: If an LLM takes a sequence of tokens and predicts the likely next token, how are the system prompt and user prompts passed in separately?</span>"
   ]
  },
  {
   "cell_type": "markdown",
   "id": "d4f506a7",
   "metadata": {},
   "source": []
  }
 ],
 "metadata": {
  "kernelspec": {
   "display_name": ".venv",
   "language": "python",
   "name": "python3"
  },
  "language_info": {
   "codemirror_mode": {
    "name": "ipython",
    "version": 3
   },
   "file_extension": ".py",
   "mimetype": "text/x-python",
   "name": "python",
   "nbconvert_exporter": "python",
   "pygments_lexer": "ipython3",
   "version": "3.12.9"
  }
 },
 "nbformat": 4,
 "nbformat_minor": 5
}
