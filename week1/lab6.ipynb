{
 "cells": [
  {
   "cell_type": "markdown",
   "id": "211efbd0",
   "metadata": {},
   "source": [
    "## Lab 6: Chat vs Reasoning vs Hybrid, and Training vs Inference time scaling"
   ]
  },
  {
   "cell_type": "code",
   "execution_count": 1,
   "id": "6f8cbdc2",
   "metadata": {},
   "outputs": [],
   "source": [
    "from dotenv import load_dotenv\n",
    "from openai import OpenAI\n",
    "from IPython.display import display, Markdown"
   ]
  },
  {
   "cell_type": "code",
   "execution_count": 2,
   "id": "0703645b",
   "metadata": {},
   "outputs": [
    {
     "data": {
      "text/plain": [
       "True"
      ]
     },
     "execution_count": 2,
     "metadata": {},
     "output_type": "execute_result"
    }
   ],
   "source": [
    "load_dotenv(override=True)"
   ]
  },
  {
   "cell_type": "code",
   "execution_count": 3,
   "id": "ac48e719",
   "metadata": {},
   "outputs": [],
   "source": [
    "openai = OpenAI()"
   ]
  },
  {
   "cell_type": "code",
   "execution_count": 4,
   "id": "9c59ecb2",
   "metadata": {},
   "outputs": [],
   "source": [
    "message = \"Toss 2 coins. One of them is heads. What's the probability that the other is tails? Answer with the probability only.\"\n",
    "messages = [{\"role\": \"user\", \"content\": message}]"
   ]
  },
  {
   "cell_type": "code",
   "execution_count": 5,
   "id": "59bf7969",
   "metadata": {},
   "outputs": [
    {
     "data": {
      "text/markdown": [
       "\\(\\frac{1}{3}\\)"
      ],
      "text/plain": [
       "<IPython.core.display.Markdown object>"
      ]
     },
     "metadata": {},
     "output_type": "display_data"
    }
   ],
   "source": [
    "# A chat model\n",
    "\n",
    "response = openai.chat.completions.create(model=\"gpt-4.1-nano\", messages=messages)\n",
    "reply = response.choices[0].message.content\n",
    "display(Markdown(reply))"
   ]
  },
  {
   "cell_type": "code",
   "execution_count": 12,
   "id": "1d9bbf3f",
   "metadata": {},
   "outputs": [
    {
     "data": {
      "text/markdown": [
       "$\\frac{1}{3}$"
      ],
      "text/plain": [
       "<IPython.core.display.Markdown object>"
      ]
     },
     "metadata": {},
     "output_type": "display_data"
    }
   ],
   "source": [
    "reply2 = reply.replace('\\\\(', '$').replace('\\\\)',\"$\")\n",
    "display(Markdown(reply2))"
   ]
  },
  {
   "cell_type": "code",
   "execution_count": 6,
   "id": "d477e30b",
   "metadata": {},
   "outputs": [
    {
     "data": {
      "text/markdown": [
       "$\\frac{1}{3}$"
      ],
      "text/plain": [
       "<IPython.core.display.Markdown object>"
      ]
     },
     "metadata": {},
     "output_type": "display_data"
    }
   ],
   "source": [
    "# If needed for formatting\n",
    "\n",
    "reply2 = reply.replace('\\\\(', '$').replace('\\\\)', '$')\n",
    "display(Markdown(reply2))"
   ]
  },
  {
   "cell_type": "code",
   "execution_count": null,
   "id": "5ea745d3",
   "metadata": {},
   "outputs": [],
   "source": [
    "# A reasoning model\n",
    "\n",
    "response = openai.chat.completions.create(model=\"o4-mini\", messages=messages)\n",
    "reply = response.choices[0].message.content\n",
    "display(Markdown(reply))"
   ]
  },
  {
   "cell_type": "code",
   "execution_count": 24,
   "id": "f7ebb5ad",
   "metadata": {},
   "outputs": [
    {
     "data": {
      "text/markdown": [
       "1/3"
      ],
      "text/plain": [
       "<IPython.core.display.Markdown object>"
      ]
     },
     "metadata": {},
     "output_type": "display_data"
    }
   ],
   "source": [
    "# A Hybrid model with reasoning effort\n",
    "\n",
    "response = openai.chat.completions.create(model=\"gpt-5-nano\", messages=messages, reasoning_effort=\"minimal\")\n",
    "reply = response.choices[0].message.content\n",
    "display(Markdown(reply))"
   ]
  },
  {
   "cell_type": "code",
   "execution_count": 25,
   "id": "fb64df0f",
   "metadata": {},
   "outputs": [
    {
     "data": {
      "text/markdown": [
       "2/3"
      ],
      "text/plain": [
       "<IPython.core.display.Markdown object>"
      ]
     },
     "metadata": {},
     "output_type": "display_data"
    }
   ],
   "source": [
    "# Scale the mode / training time\n",
    "\n",
    "response = openai.chat.completions.create(model=\"gpt-5-mini\", messages=messages, reasoning_effort=\"minimal\")\n",
    "reply = response.choices[0].message.content\n",
    "display(Markdown(reply))"
   ]
  },
  {
   "cell_type": "code",
   "execution_count": 26,
   "id": "1d425b9b",
   "metadata": {},
   "outputs": [
    {
     "data": {
      "text/markdown": [
       "2/3"
      ],
      "text/plain": [
       "<IPython.core.display.Markdown object>"
      ]
     },
     "metadata": {},
     "output_type": "display_data"
    }
   ],
   "source": [
    "# Scale the thinking / inference time\n",
    "\n",
    "response = openai.chat.completions.create(model=\"gpt-5-nano\", messages=messages, reasoning_effort=\"low\")\n",
    "reply = response.choices[0].message.content\n",
    "display(Markdown(reply))"
   ]
  },
  {
   "cell_type": "markdown",
   "id": "ace41a12",
   "metadata": {},
   "source": [
    "#### <span style=\"color: green;\">Question: why would you ever use a Chat model?</span>\n",
    "\n",
    "#### <span style=\"color: orange;\">Question: how do reasoning budgets work?</span>\n",
    "\n",
    "#### <span style=\"color: green;\">Question: what are commercial use cases of Chat and Reasoning models?</span>"
   ]
  }
 ],
 "metadata": {
  "kernelspec": {
   "display_name": ".venv",
   "language": "python",
   "name": "python3"
  },
  "language_info": {
   "codemirror_mode": {
    "name": "ipython",
    "version": 3
   },
   "file_extension": ".py",
   "mimetype": "text/x-python",
   "name": "python",
   "nbconvert_exporter": "python",
   "pygments_lexer": "ipython3",
   "version": "3.12.11"
  }
 },
 "nbformat": 4,
 "nbformat_minor": 5
}
