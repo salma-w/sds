{
 "cells": [
  {
   "cell_type": "markdown",
   "id": "211efbd0",
   "metadata": {},
   "source": [
    "## Lab 2: the OpenAI Python Client Library "
   ]
  },
  {
   "cell_type": "markdown",
   "id": "20fde1a4",
   "metadata": {},
   "source": [
    "### <span style=\"color: green;\">Question: what is a Client Library?</span>"
   ]
  },
  {
   "cell_type": "markdown",
   "id": "fb64df0f",
   "metadata": {},
   "source": [
    "### <span style=\"color: orange;\">Question: what is the Chat Completions API? What's the Responses API? Why use one over the other?</span>"
   ]
  },
  {
   "cell_type": "code",
   "execution_count": 4,
   "id": "d9808891",
   "metadata": {},
   "outputs": [],
   "source": [
    "from IPython.display import display, Markdown\n",
    "from dotenv import load_dotenv\n",
    "from openai import chat\n",
    "import os"
   ]
  },
  {
   "cell_type": "code",
   "execution_count": 11,
   "id": "f2209bb1",
   "metadata": {},
   "outputs": [],
   "source": [
    "load_dotenv(override=True)\n",
    "chat_param=[{\"content\":\"tell me fun fact\",\"role\":\"user\"}]"
   ]
  },
  {
   "cell_type": "code",
   "execution_count": 12,
   "id": "e15c558e",
   "metadata": {},
   "outputs": [],
   "source": [
    "result=chat.completions.create(\n",
    "    messages=chat_param,\n",
    "    model=\"chatgpt-4o-latest\",\n",
    "    \n",
    ")"
   ]
  },
  {
   "cell_type": "code",
   "execution_count": 19,
   "id": "f735c61f",
   "metadata": {},
   "outputs": [
    {
     "name": "stdout",
     "output_type": "stream",
     "text": [
      "Sure! Here's a fun fact:\n",
      "\n",
      "Octopuses have three hearts! Two pump blood to the gills, while the third pumps it to the rest of the body. And get this—when an octopus swims, the heart that delivers blood to the body actually stops beating! That’s one reason they prefer crawling over swimming—it tires them out less. 🐙❤️❤️❤️\n"
     ]
    }
   ],
   "source": [
    "print(result.choices[0].message.content)"
   ]
  }
 ],
 "metadata": {
  "kernelspec": {
   "display_name": ".venv",
   "language": "python",
   "name": "python3"
  },
  "language_info": {
   "codemirror_mode": {
    "name": "ipython",
    "version": 3
   },
   "file_extension": ".py",
   "mimetype": "text/x-python",
   "name": "python",
   "nbconvert_exporter": "python",
   "pygments_lexer": "ipython3",
   "version": "3.12.11"
  }
 },
 "nbformat": 4,
 "nbformat_minor": 5
}
