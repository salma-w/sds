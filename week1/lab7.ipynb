{
 "cells": [
  {
   "cell_type": "markdown",
   "id": "211efbd0",
   "metadata": {},
   "source": [
    "## Lab 7: Routing and Abtractions"
   ]
  },
  {
   "cell_type": "code",
   "execution_count": 1,
   "id": "6f8cbdc2",
   "metadata": {},
   "outputs": [],
   "source": [
    "from dotenv import load_dotenv\n",
    "from openai import OpenAI\n",
    "from IPython.display import display, Markdown\n",
    "from litellm import completion\n",
    "import os"
   ]
  },
  {
   "cell_type": "code",
   "execution_count": 2,
   "id": "0703645b",
   "metadata": {},
   "outputs": [
    {
     "data": {
      "text/plain": [
       "True"
      ]
     },
     "execution_count": 2,
     "metadata": {},
     "output_type": "execute_result"
    }
   ],
   "source": [
    "load_dotenv(override=True)"
   ]
  },
  {
   "cell_type": "code",
   "execution_count": 3,
   "id": "9c59ecb2",
   "metadata": {},
   "outputs": [],
   "source": [
    "\n",
    "message = \"\"\"\n",
    "On a bookshelf, two volumes of Pushkin stand side by side: the first and the second.\n",
    "The pages of each volume together have a thickness of 2 cm, and each cover is 2 mm thick.\n",
    "A worm gnawed (perpendicular to the pages) from the first page of the first volume to the last page of the second volume.\n",
    "What distance did it gnaw through? Answer only with the distance.\n",
    "\"\"\"\n",
    "\n",
    "messages =[{\"role\": \"user\", \"content\": message}]"
   ]
  },
  {
   "cell_type": "markdown",
   "id": "05c7c560",
   "metadata": {},
   "source": [
    "#### <span style=\"color: orange;\">Question: what are abstraction layers, what are routers, and which one is LiteLLM?</span>"
   ]
  },
  {
   "cell_type": "markdown",
   "id": "6e3e2937",
   "metadata": {},
   "source": [
    "### Starting with LiteLLM\n",
    "\n",
    "A simple and lightweight abstraction layer"
   ]
  },
  {
   "cell_type": "code",
   "execution_count": 4,
   "id": "f7ebb5ad",
   "metadata": {},
   "outputs": [
    {
     "data": {
      "text/markdown": [
       "4.4 cm"
      ],
      "text/plain": [
       "<IPython.core.display.Markdown object>"
      ]
     },
     "metadata": {},
     "output_type": "display_data"
    }
   ],
   "source": [
    "response = completion(model=\"openai/gpt-5-nano\", messages=messages)\n",
    "reply = response.choices[0].message.content\n",
    "display(Markdown(reply))"
   ]
  },
  {
   "cell_type": "code",
   "execution_count": 6,
   "id": "fb64df0f",
   "metadata": {},
   "outputs": [
    {
     "name": "stdout",
     "output_type": "stream",
     "text": [
      "Input tokens: 92\n",
      "Output tokens: 5325\n",
      "Total tokens: 5417\n",
      "Total cost: 0.2135 cents\n"
     ]
    }
   ],
   "source": [
    "print(f\"Input tokens: {response.usage.prompt_tokens}\")\n",
    "print(f\"Output tokens: {response.usage.completion_tokens}\")\n",
    "print(f\"Total tokens: {response.usage.total_tokens}\")\n",
    "print(f\"Total cost: {response._hidden_params[\"response_cost\"]*100:.4f} cents\")"
   ]
  },
  {
   "cell_type": "code",
   "execution_count": null,
   "id": "297fe6b9",
   "metadata": {},
   "outputs": [],
   "source": [
    "response = completion(model=\"openai/gpt-5-mini\", messages=messages)\n",
    "reply = response.choices[0].message.content\n",
    "display(Markdown(reply))"
   ]
  },
  {
   "cell_type": "code",
   "execution_count": null,
   "id": "046a118d",
   "metadata": {},
   "outputs": [],
   "source": [
    "print(f\"Input tokens: {response.usage.prompt_tokens}\")\n",
    "print(f\"Output tokens: {response.usage.completion_tokens}\")\n",
    "print(f\"Total tokens: {response.usage.total_tokens}\")\n",
    "print(f\"Total cost: {response._hidden_params[\"response_cost\"]*100:.4f} cents\")"
   ]
  },
  {
   "cell_type": "code",
   "execution_count": 7,
   "id": "1ad4243b",
   "metadata": {},
   "outputs": [
    {
     "data": {
      "text/plain": [
       "ModelResponse(id='chatcmpl-CNVfnOWUHDmyBrV67TgX2qinOuD1A', created=1759719331, model='gpt-5-nano-2025-08-07', object='chat.completion', system_fingerprint=None, choices=[Choices(finish_reason='stop', index=0, message=Message(content='4.4 cm', role='assistant', tool_calls=None, function_call=None, provider_specific_fields={'refusal': None}, annotations=[]), provider_specific_fields={})], usage=Usage(completion_tokens=5325, prompt_tokens=92, total_tokens=5417, completion_tokens_details=CompletionTokensDetailsWrapper(accepted_prediction_tokens=0, audio_tokens=0, reasoning_tokens=5312, rejected_prediction_tokens=0, text_tokens=None), prompt_tokens_details=PromptTokensDetailsWrapper(audio_tokens=0, cached_tokens=0, text_tokens=None, image_tokens=None)), service_tier='default')"
      ]
     },
     "execution_count": 7,
     "metadata": {},
     "output_type": "execute_result"
    }
   ],
   "source": [
    "response"
   ]
  },
  {
   "cell_type": "markdown",
   "id": "fc19ba42",
   "metadata": {},
   "source": [
    "### A quick look at LangChain\n",
    "\n",
    "#### <span style=\"color: green;\">Question: are you a LangChain fan or naysayer, and why?</span>"
   ]
  },
  {
   "cell_type": "code",
   "execution_count": null,
   "id": "8c4d64d4",
   "metadata": {},
   "outputs": [],
   "source": [
    "from langchain_openai import ChatOpenAI\n",
    "\n",
    "llm = ChatOpenAI(model=\"gpt-5-nano\")\n",
    "response = llm.invoke(message)\n",
    "\n",
    "display(Markdown(response.content))"
   ]
  },
  {
   "cell_type": "code",
   "execution_count": 9,
   "id": "d085287b",
   "metadata": {},
   "outputs": [
    {
     "data": {
      "text/markdown": [
       "4.2 cm"
      ],
      "text/plain": [
       "<IPython.core.display.Markdown object>"
      ]
     },
     "metadata": {},
     "output_type": "display_data"
    }
   ],
   "source": [
    "from re import M\n",
    "from langchain_openai import ChatOpenAI\n",
    "llm=ChatOpenAI(model=\"gpt-5-nano\")\n",
    "result=llm.invoke(message)\n",
    "display(Markdown(result.content))"
   ]
  },
  {
   "cell_type": "markdown",
   "id": "1cfc8434",
   "metadata": {},
   "source": [
    "### And a router: Open Router"
   ]
  },
  {
   "cell_type": "code",
   "execution_count": null,
   "id": "1725da85",
   "metadata": {},
   "outputs": [],
   "source": [
    "OPENROUTER_BASE_URL = \"https://openrouter.ai/api/v1\"\n",
    "openrouter_api_key = os.getenv(\"OPENROUTER_API_KEY\")\n",
    "\n",
    "openrouter = OpenAI(base_url=OPENROUTER_BASE_URL, api_key=openrouter_api_key)\n",
    "\n",
    "response = openrouter.chat.completions.create(model=\"openai/gpt-oss-120b\", messages=messages)\n",
    "display(Markdown(reply))"
   ]
  }
 ],
 "metadata": {
  "kernelspec": {
   "display_name": ".venv",
   "language": "python",
   "name": "python3"
  },
  "language_info": {
   "codemirror_mode": {
    "name": "ipython",
    "version": 3
   },
   "file_extension": ".py",
   "mimetype": "text/x-python",
   "name": "python",
   "nbconvert_exporter": "python",
   "pygments_lexer": "ipython3",
   "version": "3.12.11"
  }
 },
 "nbformat": 4,
 "nbformat_minor": 5
}
